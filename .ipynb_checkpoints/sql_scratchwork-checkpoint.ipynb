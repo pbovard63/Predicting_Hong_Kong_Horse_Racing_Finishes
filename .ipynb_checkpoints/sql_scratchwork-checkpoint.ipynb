{
 "cells": [
  {
   "cell_type": "code",
   "execution_count": null,
   "metadata": {},
   "outputs": [],
   "source": [
    "query = '''\n",
    "SELECT *,\n",
    "avg(result) OVER (PARTITION BY horse_id ORDER BY horse_id ASC, date ASC ROWS 3 PRECEDING EXCLUDE CURRENT ROW) AS Three_Race_Rolling_Avg_Finish,\n",
    "avg(lengths_behind) OVER (PARTITION BY horse_id ORDER BY horse_id ASC, date ASC ROWS 3 PRECEDING EXCLUDE CURRENT ROW) AS Three_Race_Rolling_Average_Lengths,\n",
    "avg(finish_time) OVER (PARTITION BY horse_id ORDER BY horse_id ASC, date ASC ROWS 3 PRECEDING EXCLUDE CURRENT ROW) AS Three_Race_Rolling_Average_Time,\n",
    "avg(distance / finish_time) OVER (PARTITION BY horse_id ORDER BY horse_id ASC, date ASC ROWS 3 PRECEDING EXCLUDE CURRENT ROW) AS Three_Race_Rolling_Average_Distance_Per_time,\n",
    "FROM combined_table_1\n",
    "LIMIT 5\n",
    ";\n",
    "'''"
   ]
  },
  {
   "cell_type": "markdown",
   "metadata": {},
   "source": [
    "Other metrics to add: \n",
    "- DONE Horse's Rating Compared to field:\n",
    "    - avg_field_rating\n",
    "    - diff_from_field_avg\n",
    "    - field_rank (rename field_rating_rank)\n",
    "- Shows Over last 10 races:\n",
    "    - shows_in_last_ten_races\n",
    "    - career_races\n",
    "    - career_shows\n",
    "- DONE Age Relative to Field:\n",
    "    - avg_field_age\n",
    "    - field_age_rank\t\n",
    "    - diff_from_field_age_avg\n",
    "- DONE Horse's Weights Relative to the Field:\n",
    "    - field_dec_wgt_rank\t\n",
    "    - avg_field_dec_wgts\t\n",
    "    - diff_from_field_declared_wgt_avg\t\n",
    "    - field_avg_handicap_wgt\n",
    "    - diff_from_field_handicap_wgt_avg\n",
    "    - field_handicap_wgt_rank"
   ]
  },
  {
   "cell_type": "markdown",
   "metadata": {},
   "source": [
    "Horses Rating Compared to Field:"
   ]
  },
  {
   "cell_type": "code",
   "execution_count": null,
   "metadata": {},
   "outputs": [],
   "source": [
    "query = '''\n",
    "WITH race_ratings AS (\n",
    "SELECT race_id, avg(horse_rating) AS avg_field_rating\n",
    "FROM runs_table\n",
    "GROUP BY race_id\n",
    ")\n",
    "\n",
    "SELECT ru.race_id, ru.result, ru.horse_id, ru.horse_rating, \n",
    "rr.avg_field_rating, \n",
    "rank() OVER my_window as field_rank, \n",
    "ru.horse_rating - rr.avg_field_rating AS diff_from_field_avg\n",
    "FROM runs_table as ru\n",
    "LEFT JOIN race_ratings AS rr\n",
    "    ON ru.race_id = rr.race_id\n",
    "WINDOW my_window AS (PARTITION BY ru.race_id ORDER BY ru.horse_rating DESC, ru.race_id DESC)\n",
    "ORDER BY ru.race_id DESC, ru.result ASC\n",
    "LIMIT 50\n",
    ";\n",
    "'''\n",
    "df = pd.read_sql(query, engine)\n",
    "\n",
    "df"
   ]
  },
  {
   "cell_type": "markdown",
   "metadata": {},
   "source": [
    "Age Relative to Field:"
   ]
  },
  {
   "cell_type": "code",
   "execution_count": null,
   "metadata": {},
   "outputs": [],
   "source": [
    "query = '''\n",
    "WITH race_ages AS (\n",
    "SELECT race_id, avg(horse_age) AS avg_field_age\n",
    "FROM runs_table\n",
    "GROUP BY race_id\n",
    ")\n",
    "\n",
    "SELECT ru.race_id, ru.horse_id, ru.result, ru.horse_age, \n",
    "ra.avg_field_age, \n",
    "rank() OVER my_window as field_age_rank, \n",
    "ru.horse_age - ra.avg_field_age AS diff_from_field_age_avg\n",
    "FROM runs_table as ru\n",
    "LEFT JOIN race_ages AS ra\n",
    "    ON ru.race_id = ra.race_id\n",
    "WINDOW my_window AS (PARTITION BY ru.race_id ORDER BY ru.horse_age DESC, ru.race_id DESC)\n",
    "--ORDER BY ru.race_id DESC, ru.horse_id ASC\n",
    "LIMIT 50\n",
    ";\n",
    "'''\n",
    "df = pd.read_sql(query, engine)\n",
    "\n",
    "df"
   ]
  },
  {
   "cell_type": "markdown",
   "metadata": {},
   "source": [
    "Weights:"
   ]
  },
  {
   "cell_type": "markdown",
   "metadata": {},
   "source": [
    "Ranking of the declared weight:"
   ]
  },
  {
   "cell_type": "code",
   "execution_count": null,
   "metadata": {},
   "outputs": [],
   "source": [
    "query = '''\n",
    "WITH race_wgts AS (\n",
    "SELECT race_id, avg(declared_weight) AS avg_field_dec_wgts, avg(actual_weight) AS avg_actual_wgt\n",
    "FROM runs_table\n",
    "GROUP BY race_id\n",
    ")\n",
    "\n",
    "SELECT ru.race_id, ru.horse_id, ru.result, \n",
    "rank() OVER my_window_1 as field_dec_wgt_rank,\n",
    "ru.declared_weight,  \n",
    "ra.avg_field_dec_wgts, \n",
    "ru.declared_weight - ra.avg_field_dec_wgts AS diff_from_field_declared_wgt_avg,\n",
    "ru.actual_weight AS handicap_wgt,\n",
    "ra.avg_actual_wgt AS field_avg_handicap_wgt,\n",
    "ru.actual_weight - ra.avg_actual_wgt AS diff_from_field_handicap_wgt_avg\n",
    "FROM runs_table as ru\n",
    "LEFT JOIN race_wgts AS ra\n",
    "    ON ru.race_id = ra.race_id\n",
    "WINDOW my_window_1 AS (PARTITION BY ru.race_id ORDER BY ru.declared_weight DESC, ru.race_id DESC)\n",
    "ORDER BY ru.race_id DESC, ru.result ASC\n",
    "LIMIT 50\n",
    ";\n",
    "'''"
   ]
  },
  {
   "cell_type": "markdown",
   "metadata": {},
   "source": [
    "Ranking of the actual weight:"
   ]
  },
  {
   "cell_type": "code",
   "execution_count": null,
   "metadata": {},
   "outputs": [],
   "source": [
    "query = '''\n",
    "WITH race_wgts AS (\n",
    "SELECT race_id, avg(declared_weight) AS avg_field_dec_wgts, avg(actual_weight) AS avg_actual_wgt\n",
    "FROM runs_table\n",
    "GROUP BY race_id\n",
    ")\n",
    "\n",
    "SELECT ru.race_id, ru.horse_id, ru.result, \n",
    "rank() OVER my_window_1 as field_handicap_wgt_rank,\n",
    "ru.actual_weight AS handicap_wgt,\n",
    "ra.avg_actual_wgt AS field_avg_handicap_wgt,\n",
    "ru.actual_weight - ra.avg_actual_wgt AS diff_from_field_handicap_wgt_avg\n",
    "FROM runs_table as ru\n",
    "LEFT JOIN race_wgts AS ra\n",
    "    ON ru.race_id = ra.race_id\n",
    "WINDOW my_window_1 AS (PARTITION BY ru.race_id ORDER BY ru.actual_weight DESC, ru.race_id DESC)\n",
    "ORDER BY ru.race_id DESC, ru.result ASC\n",
    "LIMIT 50\n",
    ";\n",
    "'''\n",
    "df = pd.read_sql(query, engine)\n",
    "\n",
    "df"
   ]
  }
 ],
 "metadata": {
  "kernelspec": {
   "display_name": "Python [conda env:metis] *",
   "language": "python",
   "name": "conda-env-metis-py"
  },
  "language_info": {
   "codemirror_mode": {
    "name": "ipython",
    "version": 3
   },
   "file_extension": ".py",
   "mimetype": "text/x-python",
   "name": "python",
   "nbconvert_exporter": "python",
   "pygments_lexer": "ipython3",
   "version": "3.8.6"
  }
 },
 "nbformat": 4,
 "nbformat_minor": 4
}
