{
 "cells": [
  {
   "cell_type": "markdown",
   "metadata": {},
   "source": [
    "# Data - Train/Val and Test Split by Race"
   ]
  },
  {
   "cell_type": "markdown",
   "metadata": {},
   "source": [
    "The purpose of this notebook is to train a model with training_horses_4.pkl, which was split from the train data by race_id, not horse_id as the 1-3. dataframes were.  This is a more realistic way to split the train and test data."
   ]
  },
  {
   "cell_type": "markdown",
   "metadata": {},
   "source": [
    "Importing packages:"
   ]
  },
  {
   "cell_type": "code",
   "execution_count": 2,
   "metadata": {},
   "outputs": [],
   "source": [
    "import pandas as pd\n",
    "from importlib import reload\n",
    "import numpy as np\n",
    "import scipy.stats as st\n",
    "import matplotlib.pyplot as plt\n",
    "import seaborn as sns\n",
    "%config InlineBackend.figure_formats = ['retina']\n",
    "%matplotlib inline\n",
    "\n",
    "plt.rcParams['figure.figsize'] = (9, 6)\n",
    "sns.set(context='notebook', style='whitegrid', font_scale=1.2)\n",
    "\n",
    "from collections import OrderedDict\n",
    "from sklearn.linear_model import LogisticRegression\n",
    "from sklearn.model_selection import train_test_split\n",
    "from sklearn.metrics import f1_score\n",
    "import statsmodels.api as sm\n",
    "from sklearn.metrics import mean_squared_error\n",
    "from sklearn.preprocessing import OneHotEncoder\n",
    "from sklearn import datasets\n",
    "from sklearn.metrics import roc_auc_score, roc_curve\n",
    "from sklearn.neighbors import KNeighborsClassifier\n",
    "from sklearn.linear_model import LogisticRegression\n",
    "from sklearn.model_selection import train_test_split\n",
    "from sklearn.metrics import precision_score, recall_score, precision_recall_curve,f1_score, fbeta_score\n",
    "from sklearn.metrics import confusion_matrix\n",
    "from sklearn.metrics import log_loss\n",
    "from sklearn.ensemble import RandomForestClassifier\n",
    "from sklearn.model_selection import RandomizedSearchCV"
   ]
  },
  {
   "cell_type": "markdown",
   "metadata": {},
   "source": [
    "Loading in Functions:"
   ]
  },
  {
   "cell_type": "code",
   "execution_count": 3,
   "metadata": {},
   "outputs": [],
   "source": [
    "from knn_model_eval import *"
   ]
  },
  {
   "cell_type": "code",
   "execution_count": 4,
   "metadata": {},
   "outputs": [],
   "source": [
    "from logistic_reg_model_eval import *"
   ]
  },
  {
   "cell_type": "code",
   "execution_count": 5,
   "metadata": {},
   "outputs": [],
   "source": [
    "from random_forest_evaluator import *"
   ]
  },
  {
   "cell_type": "markdown",
   "metadata": {},
   "source": [
    "### Change to Markdown after initial cleaning:"
   ]
  },
  {
   "cell_type": "markdown",
   "metadata": {},
   "source": [
    "## Loading and CLeaning Data:"
   ]
  },
  {
   "cell_type": "markdown",
   "metadata": {},
   "source": [
    "training_horses_4 = pd.read_pickle('./Data/training_horses_4.pkl')"
   ]
  },
  {
   "cell_type": "markdown",
   "metadata": {
    "scrolled": true
   },
   "source": [
    "training_horses_4_copy = training_horses_4.copy()"
   ]
  },
  {
   "cell_type": "markdown",
   "metadata": {},
   "source": [
    "training_horses_4_copy.info()"
   ]
  },
  {
   "cell_type": "markdown",
   "metadata": {},
   "source": [
    "### Data Cleaning:"
   ]
  },
  {
   "cell_type": "markdown",
   "metadata": {},
   "source": [
    "training_horses_4_copy.horse_type.value_counts()"
   ]
  },
  {
   "cell_type": "markdown",
   "metadata": {},
   "source": [
    "Similar to in initial_model_eda.ipynb, there are some different things going on here.  Will use my same decision:\n",
    "\n",
    "**Decision: make horses that say color (Brown, Roan, Grey, or None) as \"Gelding\", since that is 90% of the horses in the set.**"
   ]
  },
  {
   "cell_type": "markdown",
   "metadata": {},
   "source": [
    "for i, value in enumerate(training_horses_4_copy['horse_type']):\n",
    "    if training_horses_4_copy.iloc[i, 5] == 'Brown':\n",
    "        training_horses_4_copy.iloc[i, 5] = \"Gelding\"\n",
    "    elif training_horses_4_copy.iloc[i, 5] == 'Roan':\n",
    "        training_horses_4_copy.iloc[i, 5] = \"Gelding\"\n",
    "    elif training_horses_4_copy.iloc[i, 5] == 'Grey':\n",
    "        training_horses_4_copy.iloc[i, 5] = \"Gelding\""
   ]
  },
  {
   "cell_type": "markdown",
   "metadata": {},
   "source": [
    "#FIlling in any nan gender values with Gelding, for same rationale above.\n",
    "training_horses_4_copy.horse_type.fillna(value='Gelding', inplace=True)"
   ]
  },
  {
   "cell_type": "markdown",
   "metadata": {},
   "source": [
    "training_horses_4_copy.horse_type.value_counts()"
   ]
  },
  {
   "cell_type": "markdown",
   "metadata": {},
   "source": [
    "horse_type is cleaned"
   ]
  },
  {
   "cell_type": "markdown",
   "metadata": {},
   "source": [
    "### Horse_Country:"
   ]
  },
  {
   "cell_type": "markdown",
   "metadata": {},
   "source": [
    "training_horses_4_copy.horse_country.value_counts()"
   ]
  },
  {
   "cell_type": "markdown",
   "metadata": {},
   "source": [
    "Checking out the two that are null:"
   ]
  },
  {
   "cell_type": "markdown",
   "metadata": {},
   "source": [
    "training_horses_4_copy[training_horses_4_copy.horse_country.isnull()]"
   ]
  },
  {
   "cell_type": "markdown",
   "metadata": {},
   "source": [
    "Since this is horses 2645, I'll fill check to see if there's info from other races:"
   ]
  },
  {
   "cell_type": "markdown",
   "metadata": {},
   "source": [
    "training_horses_4_copy[training_horses_4_copy.horse_id == 2645]"
   ]
  },
  {
   "cell_type": "markdown",
   "metadata": {},
   "source": [
    "There is not.  **DECISION: make country equal to AUS, since that is the most common country**."
   ]
  },
  {
   "cell_type": "markdown",
   "metadata": {},
   "source": [
    "training_horses_4_copy.horse_country.fillna(value='AUS', inplace=True)"
   ]
  },
  {
   "cell_type": "markdown",
   "metadata": {},
   "source": [
    "Country is cleaned."
   ]
  },
  {
   "cell_type": "markdown",
   "metadata": {},
   "source": [
    "### Various Feature Engineering Metrics"
   ]
  },
  {
   "cell_type": "markdown",
   "metadata": {},
   "source": [
    "So these are all horses in their first career race, and based on the math above these account for all of the remaining rate-nulls.  **DECISION: REMOVE THESE ROWS**.  This is a good chunk of data at 3500+ rows, but in my opinion I wouldn't be betting smartly if I bet on a horse I had no previous race data on.  Thus, based on the use case these are ok to exclude from the model."
   ]
  },
  {
   "cell_type": "markdown",
   "metadata": {},
   "source": [
    "training_horses_4_cleaned = training_horses_4_copy[training_horses_4_copy['three_race_rolling_average_lengths'].notna()]"
   ]
  },
  {
   "cell_type": "markdown",
   "metadata": {},
   "source": [
    "training_horses_4_cleaned.place_odds.describe()"
   ]
  },
  {
   "cell_type": "markdown",
   "metadata": {},
   "source": [
    "training_horses_4_cleaned.info()"
   ]
  },
  {
   "cell_type": "markdown",
   "metadata": {},
   "source": [
    "training_horses_4_cleaned.sample(10)"
   ]
  },
  {
   "cell_type": "markdown",
   "metadata": {},
   "source": [
    "## Pickling Data, so i don't have to clean again."
   ]
  },
  {
   "cell_type": "markdown",
   "metadata": {},
   "source": [
    "Changing code to markdown after using once:"
   ]
  },
  {
   "cell_type": "markdown",
   "metadata": {},
   "source": [
    "training_horses_4_cleaned.to_pickle(\"./Data/training_horses_4_cleaned.pkl\")"
   ]
  },
  {
   "cell_type": "markdown",
   "metadata": {},
   "source": [
    "Reading in the pickled data:"
   ]
  },
  {
   "cell_type": "code",
   "execution_count": 5,
   "metadata": {},
   "outputs": [],
   "source": [
    "training_horses_4_cleaned = pd.read_pickle('./Data/training_horses_4_cleaned.pkl')"
   ]
  },
  {
   "cell_type": "markdown",
   "metadata": {},
   "source": [
    "### One Hot Encoding of Gender (horse_type):"
   ]
  },
  {
   "cell_type": "code",
   "execution_count": 6,
   "metadata": {},
   "outputs": [],
   "source": [
    "ohe = OneHotEncoder(drop='first', sparse=False)"
   ]
  },
  {
   "cell_type": "code",
   "execution_count": 7,
   "metadata": {},
   "outputs": [],
   "source": [
    "training_model_gender_cat = training_horses_4_cleaned.loc[:, ['horse_type']]"
   ]
  },
  {
   "cell_type": "code",
   "execution_count": 8,
   "metadata": {},
   "outputs": [
    {
     "data": {
      "text/html": [
       "<div>\n",
       "<style scoped>\n",
       "    .dataframe tbody tr th:only-of-type {\n",
       "        vertical-align: middle;\n",
       "    }\n",
       "\n",
       "    .dataframe tbody tr th {\n",
       "        vertical-align: top;\n",
       "    }\n",
       "\n",
       "    .dataframe thead th {\n",
       "        text-align: right;\n",
       "    }\n",
       "</style>\n",
       "<table border=\"1\" class=\"dataframe\">\n",
       "  <thead>\n",
       "    <tr style=\"text-align: right;\">\n",
       "      <th></th>\n",
       "      <th>horse_type_Filly</th>\n",
       "      <th>horse_type_Gelding</th>\n",
       "      <th>horse_type_Horse</th>\n",
       "      <th>horse_type_Mare</th>\n",
       "      <th>horse_type_Rig</th>\n",
       "    </tr>\n",
       "  </thead>\n",
       "  <tbody>\n",
       "    <tr>\n",
       "      <th>34530</th>\n",
       "      <td>0.0</td>\n",
       "      <td>1.0</td>\n",
       "      <td>0.0</td>\n",
       "      <td>0.0</td>\n",
       "      <td>0.0</td>\n",
       "    </tr>\n",
       "    <tr>\n",
       "      <th>28162</th>\n",
       "      <td>0.0</td>\n",
       "      <td>1.0</td>\n",
       "      <td>0.0</td>\n",
       "      <td>0.0</td>\n",
       "      <td>0.0</td>\n",
       "    </tr>\n",
       "    <tr>\n",
       "      <th>41992</th>\n",
       "      <td>0.0</td>\n",
       "      <td>1.0</td>\n",
       "      <td>0.0</td>\n",
       "      <td>0.0</td>\n",
       "      <td>0.0</td>\n",
       "    </tr>\n",
       "    <tr>\n",
       "      <th>27938</th>\n",
       "      <td>0.0</td>\n",
       "      <td>1.0</td>\n",
       "      <td>0.0</td>\n",
       "      <td>0.0</td>\n",
       "      <td>0.0</td>\n",
       "    </tr>\n",
       "    <tr>\n",
       "      <th>52805</th>\n",
       "      <td>0.0</td>\n",
       "      <td>1.0</td>\n",
       "      <td>0.0</td>\n",
       "      <td>0.0</td>\n",
       "      <td>0.0</td>\n",
       "    </tr>\n",
       "    <tr>\n",
       "      <th>46985</th>\n",
       "      <td>0.0</td>\n",
       "      <td>1.0</td>\n",
       "      <td>0.0</td>\n",
       "      <td>0.0</td>\n",
       "      <td>0.0</td>\n",
       "    </tr>\n",
       "    <tr>\n",
       "      <th>25379</th>\n",
       "      <td>0.0</td>\n",
       "      <td>1.0</td>\n",
       "      <td>0.0</td>\n",
       "      <td>0.0</td>\n",
       "      <td>0.0</td>\n",
       "    </tr>\n",
       "    <tr>\n",
       "      <th>75450</th>\n",
       "      <td>0.0</td>\n",
       "      <td>1.0</td>\n",
       "      <td>0.0</td>\n",
       "      <td>0.0</td>\n",
       "      <td>0.0</td>\n",
       "    </tr>\n",
       "    <tr>\n",
       "      <th>64220</th>\n",
       "      <td>0.0</td>\n",
       "      <td>1.0</td>\n",
       "      <td>0.0</td>\n",
       "      <td>0.0</td>\n",
       "      <td>0.0</td>\n",
       "    </tr>\n",
       "    <tr>\n",
       "      <th>52559</th>\n",
       "      <td>0.0</td>\n",
       "      <td>1.0</td>\n",
       "      <td>0.0</td>\n",
       "      <td>0.0</td>\n",
       "      <td>0.0</td>\n",
       "    </tr>\n",
       "    <tr>\n",
       "      <th>53790</th>\n",
       "      <td>0.0</td>\n",
       "      <td>1.0</td>\n",
       "      <td>0.0</td>\n",
       "      <td>0.0</td>\n",
       "      <td>0.0</td>\n",
       "    </tr>\n",
       "    <tr>\n",
       "      <th>54148</th>\n",
       "      <td>0.0</td>\n",
       "      <td>1.0</td>\n",
       "      <td>0.0</td>\n",
       "      <td>0.0</td>\n",
       "      <td>0.0</td>\n",
       "    </tr>\n",
       "    <tr>\n",
       "      <th>14491</th>\n",
       "      <td>0.0</td>\n",
       "      <td>1.0</td>\n",
       "      <td>0.0</td>\n",
       "      <td>0.0</td>\n",
       "      <td>0.0</td>\n",
       "    </tr>\n",
       "    <tr>\n",
       "      <th>2845</th>\n",
       "      <td>0.0</td>\n",
       "      <td>1.0</td>\n",
       "      <td>0.0</td>\n",
       "      <td>0.0</td>\n",
       "      <td>0.0</td>\n",
       "    </tr>\n",
       "    <tr>\n",
       "      <th>52653</th>\n",
       "      <td>0.0</td>\n",
       "      <td>1.0</td>\n",
       "      <td>0.0</td>\n",
       "      <td>0.0</td>\n",
       "      <td>0.0</td>\n",
       "    </tr>\n",
       "    <tr>\n",
       "      <th>76412</th>\n",
       "      <td>0.0</td>\n",
       "      <td>1.0</td>\n",
       "      <td>0.0</td>\n",
       "      <td>0.0</td>\n",
       "      <td>0.0</td>\n",
       "    </tr>\n",
       "    <tr>\n",
       "      <th>71371</th>\n",
       "      <td>0.0</td>\n",
       "      <td>1.0</td>\n",
       "      <td>0.0</td>\n",
       "      <td>0.0</td>\n",
       "      <td>0.0</td>\n",
       "    </tr>\n",
       "    <tr>\n",
       "      <th>2233</th>\n",
       "      <td>0.0</td>\n",
       "      <td>1.0</td>\n",
       "      <td>0.0</td>\n",
       "      <td>0.0</td>\n",
       "      <td>0.0</td>\n",
       "    </tr>\n",
       "    <tr>\n",
       "      <th>4232</th>\n",
       "      <td>0.0</td>\n",
       "      <td>1.0</td>\n",
       "      <td>0.0</td>\n",
       "      <td>0.0</td>\n",
       "      <td>0.0</td>\n",
       "    </tr>\n",
       "    <tr>\n",
       "      <th>12591</th>\n",
       "      <td>0.0</td>\n",
       "      <td>1.0</td>\n",
       "      <td>0.0</td>\n",
       "      <td>0.0</td>\n",
       "      <td>0.0</td>\n",
       "    </tr>\n",
       "  </tbody>\n",
       "</table>\n",
       "</div>"
      ],
      "text/plain": [
       "       horse_type_Filly  horse_type_Gelding  horse_type_Horse  \\\n",
       "34530               0.0                 1.0               0.0   \n",
       "28162               0.0                 1.0               0.0   \n",
       "41992               0.0                 1.0               0.0   \n",
       "27938               0.0                 1.0               0.0   \n",
       "52805               0.0                 1.0               0.0   \n",
       "46985               0.0                 1.0               0.0   \n",
       "25379               0.0                 1.0               0.0   \n",
       "75450               0.0                 1.0               0.0   \n",
       "64220               0.0                 1.0               0.0   \n",
       "52559               0.0                 1.0               0.0   \n",
       "53790               0.0                 1.0               0.0   \n",
       "54148               0.0                 1.0               0.0   \n",
       "14491               0.0                 1.0               0.0   \n",
       "2845                0.0                 1.0               0.0   \n",
       "52653               0.0                 1.0               0.0   \n",
       "76412               0.0                 1.0               0.0   \n",
       "71371               0.0                 1.0               0.0   \n",
       "2233                0.0                 1.0               0.0   \n",
       "4232                0.0                 1.0               0.0   \n",
       "12591               0.0                 1.0               0.0   \n",
       "\n",
       "       horse_type_Mare  horse_type_Rig  \n",
       "34530              0.0             0.0  \n",
       "28162              0.0             0.0  \n",
       "41992              0.0             0.0  \n",
       "27938              0.0             0.0  \n",
       "52805              0.0             0.0  \n",
       "46985              0.0             0.0  \n",
       "25379              0.0             0.0  \n",
       "75450              0.0             0.0  \n",
       "64220              0.0             0.0  \n",
       "52559              0.0             0.0  \n",
       "53790              0.0             0.0  \n",
       "54148              0.0             0.0  \n",
       "14491              0.0             0.0  \n",
       "2845               0.0             0.0  \n",
       "52653              0.0             0.0  \n",
       "76412              0.0             0.0  \n",
       "71371              0.0             0.0  \n",
       "2233               0.0             0.0  \n",
       "4232               0.0             0.0  \n",
       "12591              0.0             0.0  "
      ]
     },
     "execution_count": 8,
     "metadata": {},
     "output_type": "execute_result"
    }
   ],
   "source": [
    "ohe.fit(training_model_gender_cat)\n",
    "\n",
    "ohe_X = ohe.transform(training_model_gender_cat)\n",
    "\n",
    "columns = ohe.get_feature_names(['horse_type'])\n",
    "\n",
    "ohe_X_df = pd.DataFrame(ohe_X, columns=columns, index=training_model_gender_cat.index)\n",
    "\n",
    "ohe_X_df.sample(20)"
   ]
  },
  {
   "cell_type": "markdown",
   "metadata": {},
   "source": [
    "Concatenating back into the original data frame:"
   ]
  },
  {
   "cell_type": "code",
   "execution_count": 9,
   "metadata": {},
   "outputs": [],
   "source": [
    "comb_training_horses_4_cleaned = pd.concat([training_horses_4_cleaned, ohe_X_df], axis=1)"
   ]
  },
  {
   "cell_type": "code",
   "execution_count": 10,
   "metadata": {},
   "outputs": [
    {
     "data": {
      "text/html": [
       "<div>\n",
       "<style scoped>\n",
       "    .dataframe tbody tr th:only-of-type {\n",
       "        vertical-align: middle;\n",
       "    }\n",
       "\n",
       "    .dataframe tbody tr th {\n",
       "        vertical-align: top;\n",
       "    }\n",
       "\n",
       "    .dataframe thead th {\n",
       "        text-align: right;\n",
       "    }\n",
       "</style>\n",
       "<table border=\"1\" class=\"dataframe\">\n",
       "  <thead>\n",
       "    <tr style=\"text-align: right;\">\n",
       "      <th></th>\n",
       "      <th>race_id</th>\n",
       "      <th>horse_id</th>\n",
       "      <th>result</th>\n",
       "      <th>lengths_behind</th>\n",
       "      <th>horse_age</th>\n",
       "      <th>horse_type</th>\n",
       "      <th>horse_country</th>\n",
       "      <th>horse_rating</th>\n",
       "      <th>horse_gear</th>\n",
       "      <th>declared_weight</th>\n",
       "      <th>...</th>\n",
       "      <th>diff_from_field_handicap_wgt_avg</th>\n",
       "      <th>field_handicap_wgt_rank</th>\n",
       "      <th>career_races</th>\n",
       "      <th>career_shows</th>\n",
       "      <th>shows_in_last_5_races</th>\n",
       "      <th>horse_type_Filly</th>\n",
       "      <th>horse_type_Gelding</th>\n",
       "      <th>horse_type_Horse</th>\n",
       "      <th>horse_type_Mare</th>\n",
       "      <th>horse_type_Rig</th>\n",
       "    </tr>\n",
       "  </thead>\n",
       "  <tbody>\n",
       "    <tr>\n",
       "      <th>1</th>\n",
       "      <td>6348</td>\n",
       "      <td>1698</td>\n",
       "      <td>2</td>\n",
       "      <td>0.20</td>\n",
       "      <td>6</td>\n",
       "      <td>Gelding</td>\n",
       "      <td>AUS</td>\n",
       "      <td>92</td>\n",
       "      <td>TT/B</td>\n",
       "      <td>1172.0</td>\n",
       "      <td>...</td>\n",
       "      <td>4.214286</td>\n",
       "      <td>4</td>\n",
       "      <td>36</td>\n",
       "      <td>13.0</td>\n",
       "      <td>2.0</td>\n",
       "      <td>0.0</td>\n",
       "      <td>1.0</td>\n",
       "      <td>0.0</td>\n",
       "      <td>0.0</td>\n",
       "      <td>0.0</td>\n",
       "    </tr>\n",
       "    <tr>\n",
       "      <th>2</th>\n",
       "      <td>6348</td>\n",
       "      <td>932</td>\n",
       "      <td>3</td>\n",
       "      <td>0.50</td>\n",
       "      <td>5</td>\n",
       "      <td>Gelding</td>\n",
       "      <td>AUS</td>\n",
       "      <td>88</td>\n",
       "      <td>B</td>\n",
       "      <td>1060.0</td>\n",
       "      <td>...</td>\n",
       "      <td>0.214286</td>\n",
       "      <td>8</td>\n",
       "      <td>19</td>\n",
       "      <td>6.0</td>\n",
       "      <td>1.0</td>\n",
       "      <td>0.0</td>\n",
       "      <td>1.0</td>\n",
       "      <td>0.0</td>\n",
       "      <td>0.0</td>\n",
       "      <td>0.0</td>\n",
       "    </tr>\n",
       "    <tr>\n",
       "      <th>3</th>\n",
       "      <td>6348</td>\n",
       "      <td>833</td>\n",
       "      <td>4</td>\n",
       "      <td>0.75</td>\n",
       "      <td>4</td>\n",
       "      <td>Gelding</td>\n",
       "      <td>IRE</td>\n",
       "      <td>89</td>\n",
       "      <td>CP</td>\n",
       "      <td>1154.0</td>\n",
       "      <td>...</td>\n",
       "      <td>1.214286</td>\n",
       "      <td>7</td>\n",
       "      <td>19</td>\n",
       "      <td>9.0</td>\n",
       "      <td>2.0</td>\n",
       "      <td>0.0</td>\n",
       "      <td>1.0</td>\n",
       "      <td>0.0</td>\n",
       "      <td>0.0</td>\n",
       "      <td>0.0</td>\n",
       "    </tr>\n",
       "    <tr>\n",
       "      <th>4</th>\n",
       "      <td>6348</td>\n",
       "      <td>3368</td>\n",
       "      <td>5</td>\n",
       "      <td>1.25</td>\n",
       "      <td>3</td>\n",
       "      <td>Gelding</td>\n",
       "      <td>GER</td>\n",
       "      <td>91</td>\n",
       "      <td>TT/B/H</td>\n",
       "      <td>1147.0</td>\n",
       "      <td>...</td>\n",
       "      <td>3.214286</td>\n",
       "      <td>5</td>\n",
       "      <td>4</td>\n",
       "      <td>4.0</td>\n",
       "      <td>4.0</td>\n",
       "      <td>0.0</td>\n",
       "      <td>1.0</td>\n",
       "      <td>0.0</td>\n",
       "      <td>0.0</td>\n",
       "      <td>0.0</td>\n",
       "    </tr>\n",
       "    <tr>\n",
       "      <th>5</th>\n",
       "      <td>6348</td>\n",
       "      <td>1238</td>\n",
       "      <td>6</td>\n",
       "      <td>1.25</td>\n",
       "      <td>5</td>\n",
       "      <td>Gelding</td>\n",
       "      <td>AUS</td>\n",
       "      <td>87</td>\n",
       "      <td>TT/V</td>\n",
       "      <td>1191.0</td>\n",
       "      <td>...</td>\n",
       "      <td>-2.785714</td>\n",
       "      <td>10</td>\n",
       "      <td>25</td>\n",
       "      <td>12.0</td>\n",
       "      <td>1.0</td>\n",
       "      <td>0.0</td>\n",
       "      <td>1.0</td>\n",
       "      <td>0.0</td>\n",
       "      <td>0.0</td>\n",
       "      <td>0.0</td>\n",
       "    </tr>\n",
       "  </tbody>\n",
       "</table>\n",
       "<p>5 rows × 45 columns</p>\n",
       "</div>"
      ],
      "text/plain": [
       "   race_id  horse_id  result  lengths_behind  horse_age horse_type  \\\n",
       "1     6348      1698       2            0.20          6    Gelding   \n",
       "2     6348       932       3            0.50          5    Gelding   \n",
       "3     6348       833       4            0.75          4    Gelding   \n",
       "4     6348      3368       5            1.25          3    Gelding   \n",
       "5     6348      1238       6            1.25          5    Gelding   \n",
       "\n",
       "  horse_country  horse_rating horse_gear  declared_weight  ...  \\\n",
       "1           AUS            92       TT/B           1172.0  ...   \n",
       "2           AUS            88          B           1060.0  ...   \n",
       "3           IRE            89         CP           1154.0  ...   \n",
       "4           GER            91     TT/B/H           1147.0  ...   \n",
       "5           AUS            87       TT/V           1191.0  ...   \n",
       "\n",
       "   diff_from_field_handicap_wgt_avg  field_handicap_wgt_rank  career_races  \\\n",
       "1                          4.214286                        4            36   \n",
       "2                          0.214286                        8            19   \n",
       "3                          1.214286                        7            19   \n",
       "4                          3.214286                        5             4   \n",
       "5                         -2.785714                       10            25   \n",
       "\n",
       "   career_shows shows_in_last_5_races horse_type_Filly horse_type_Gelding  \\\n",
       "1          13.0                   2.0              0.0                1.0   \n",
       "2           6.0                   1.0              0.0                1.0   \n",
       "3           9.0                   2.0              0.0                1.0   \n",
       "4           4.0                   4.0              0.0                1.0   \n",
       "5          12.0                   1.0              0.0                1.0   \n",
       "\n",
       "   horse_type_Horse  horse_type_Mare  horse_type_Rig  \n",
       "1               0.0              0.0             0.0  \n",
       "2               0.0              0.0             0.0  \n",
       "3               0.0              0.0             0.0  \n",
       "4               0.0              0.0             0.0  \n",
       "5               0.0              0.0             0.0  \n",
       "\n",
       "[5 rows x 45 columns]"
      ]
     },
     "execution_count": 10,
     "metadata": {},
     "output_type": "execute_result"
    }
   ],
   "source": [
    "comb_training_horses_4_cleaned.head()"
   ]
  },
  {
   "cell_type": "code",
   "execution_count": 11,
   "metadata": {
    "scrolled": true
   },
   "outputs": [
    {
     "data": {
      "text/html": [
       "<div>\n",
       "<style scoped>\n",
       "    .dataframe tbody tr th:only-of-type {\n",
       "        vertical-align: middle;\n",
       "    }\n",
       "\n",
       "    .dataframe tbody tr th {\n",
       "        vertical-align: top;\n",
       "    }\n",
       "\n",
       "    .dataframe thead th {\n",
       "        text-align: right;\n",
       "    }\n",
       "</style>\n",
       "<table border=\"1\" class=\"dataframe\">\n",
       "  <thead>\n",
       "    <tr style=\"text-align: right;\">\n",
       "      <th></th>\n",
       "      <th>race_id</th>\n",
       "      <th>horse_id</th>\n",
       "      <th>result</th>\n",
       "      <th>lengths_behind</th>\n",
       "      <th>horse_age</th>\n",
       "      <th>horse_country</th>\n",
       "      <th>horse_rating</th>\n",
       "      <th>horse_gear</th>\n",
       "      <th>declared_weight</th>\n",
       "      <th>actual_weight</th>\n",
       "      <th>...</th>\n",
       "      <th>diff_from_field_handicap_wgt_avg</th>\n",
       "      <th>field_handicap_wgt_rank</th>\n",
       "      <th>career_races</th>\n",
       "      <th>career_shows</th>\n",
       "      <th>shows_in_last_5_races</th>\n",
       "      <th>horse_type_Filly</th>\n",
       "      <th>horse_type_Gelding</th>\n",
       "      <th>horse_type_Horse</th>\n",
       "      <th>horse_type_Mare</th>\n",
       "      <th>horse_type_Rig</th>\n",
       "    </tr>\n",
       "  </thead>\n",
       "  <tbody>\n",
       "    <tr>\n",
       "      <th>1</th>\n",
       "      <td>6348</td>\n",
       "      <td>1698</td>\n",
       "      <td>2</td>\n",
       "      <td>0.20</td>\n",
       "      <td>6</td>\n",
       "      <td>AUS</td>\n",
       "      <td>92</td>\n",
       "      <td>TT/B</td>\n",
       "      <td>1172.0</td>\n",
       "      <td>129</td>\n",
       "      <td>...</td>\n",
       "      <td>4.214286</td>\n",
       "      <td>4</td>\n",
       "      <td>36</td>\n",
       "      <td>13.0</td>\n",
       "      <td>2.0</td>\n",
       "      <td>0.0</td>\n",
       "      <td>1.0</td>\n",
       "      <td>0.0</td>\n",
       "      <td>0.0</td>\n",
       "      <td>0.0</td>\n",
       "    </tr>\n",
       "    <tr>\n",
       "      <th>2</th>\n",
       "      <td>6348</td>\n",
       "      <td>932</td>\n",
       "      <td>3</td>\n",
       "      <td>0.50</td>\n",
       "      <td>5</td>\n",
       "      <td>AUS</td>\n",
       "      <td>88</td>\n",
       "      <td>B</td>\n",
       "      <td>1060.0</td>\n",
       "      <td>125</td>\n",
       "      <td>...</td>\n",
       "      <td>0.214286</td>\n",
       "      <td>8</td>\n",
       "      <td>19</td>\n",
       "      <td>6.0</td>\n",
       "      <td>1.0</td>\n",
       "      <td>0.0</td>\n",
       "      <td>1.0</td>\n",
       "      <td>0.0</td>\n",
       "      <td>0.0</td>\n",
       "      <td>0.0</td>\n",
       "    </tr>\n",
       "    <tr>\n",
       "      <th>3</th>\n",
       "      <td>6348</td>\n",
       "      <td>833</td>\n",
       "      <td>4</td>\n",
       "      <td>0.75</td>\n",
       "      <td>4</td>\n",
       "      <td>IRE</td>\n",
       "      <td>89</td>\n",
       "      <td>CP</td>\n",
       "      <td>1154.0</td>\n",
       "      <td>126</td>\n",
       "      <td>...</td>\n",
       "      <td>1.214286</td>\n",
       "      <td>7</td>\n",
       "      <td>19</td>\n",
       "      <td>9.0</td>\n",
       "      <td>2.0</td>\n",
       "      <td>0.0</td>\n",
       "      <td>1.0</td>\n",
       "      <td>0.0</td>\n",
       "      <td>0.0</td>\n",
       "      <td>0.0</td>\n",
       "    </tr>\n",
       "    <tr>\n",
       "      <th>4</th>\n",
       "      <td>6348</td>\n",
       "      <td>3368</td>\n",
       "      <td>5</td>\n",
       "      <td>1.25</td>\n",
       "      <td>3</td>\n",
       "      <td>GER</td>\n",
       "      <td>91</td>\n",
       "      <td>TT/B/H</td>\n",
       "      <td>1147.0</td>\n",
       "      <td>128</td>\n",
       "      <td>...</td>\n",
       "      <td>3.214286</td>\n",
       "      <td>5</td>\n",
       "      <td>4</td>\n",
       "      <td>4.0</td>\n",
       "      <td>4.0</td>\n",
       "      <td>0.0</td>\n",
       "      <td>1.0</td>\n",
       "      <td>0.0</td>\n",
       "      <td>0.0</td>\n",
       "      <td>0.0</td>\n",
       "    </tr>\n",
       "    <tr>\n",
       "      <th>5</th>\n",
       "      <td>6348</td>\n",
       "      <td>1238</td>\n",
       "      <td>6</td>\n",
       "      <td>1.25</td>\n",
       "      <td>5</td>\n",
       "      <td>AUS</td>\n",
       "      <td>87</td>\n",
       "      <td>TT/V</td>\n",
       "      <td>1191.0</td>\n",
       "      <td>122</td>\n",
       "      <td>...</td>\n",
       "      <td>-2.785714</td>\n",
       "      <td>10</td>\n",
       "      <td>25</td>\n",
       "      <td>12.0</td>\n",
       "      <td>1.0</td>\n",
       "      <td>0.0</td>\n",
       "      <td>1.0</td>\n",
       "      <td>0.0</td>\n",
       "      <td>0.0</td>\n",
       "      <td>0.0</td>\n",
       "    </tr>\n",
       "  </tbody>\n",
       "</table>\n",
       "<p>5 rows × 44 columns</p>\n",
       "</div>"
      ],
      "text/plain": [
       "   race_id  horse_id  result  lengths_behind  horse_age horse_country  \\\n",
       "1     6348      1698       2            0.20          6           AUS   \n",
       "2     6348       932       3            0.50          5           AUS   \n",
       "3     6348       833       4            0.75          4           IRE   \n",
       "4     6348      3368       5            1.25          3           GER   \n",
       "5     6348      1238       6            1.25          5           AUS   \n",
       "\n",
       "   horse_rating horse_gear  declared_weight  actual_weight  ...  \\\n",
       "1            92       TT/B           1172.0            129  ...   \n",
       "2            88          B           1060.0            125  ...   \n",
       "3            89         CP           1154.0            126  ...   \n",
       "4            91     TT/B/H           1147.0            128  ...   \n",
       "5            87       TT/V           1191.0            122  ...   \n",
       "\n",
       "   diff_from_field_handicap_wgt_avg  field_handicap_wgt_rank  career_races  \\\n",
       "1                          4.214286                        4            36   \n",
       "2                          0.214286                        8            19   \n",
       "3                          1.214286                        7            19   \n",
       "4                          3.214286                        5             4   \n",
       "5                         -2.785714                       10            25   \n",
       "\n",
       "  career_shows shows_in_last_5_races horse_type_Filly  horse_type_Gelding  \\\n",
       "1         13.0                   2.0              0.0                 1.0   \n",
       "2          6.0                   1.0              0.0                 1.0   \n",
       "3          9.0                   2.0              0.0                 1.0   \n",
       "4          4.0                   4.0              0.0                 1.0   \n",
       "5         12.0                   1.0              0.0                 1.0   \n",
       "\n",
       "   horse_type_Horse  horse_type_Mare  horse_type_Rig  \n",
       "1               0.0              0.0             0.0  \n",
       "2               0.0              0.0             0.0  \n",
       "3               0.0              0.0             0.0  \n",
       "4               0.0              0.0             0.0  \n",
       "5               0.0              0.0             0.0  \n",
       "\n",
       "[5 rows x 44 columns]"
      ]
     },
     "execution_count": 11,
     "metadata": {},
     "output_type": "execute_result"
    }
   ],
   "source": [
    "#Removing original horse_type column:\n",
    "comb_training_horses_4_cleaned.drop(columns='horse_type', inplace=True)\n",
    "comb_training_horses_4_cleaned.head()"
   ]
  },
  {
   "cell_type": "markdown",
   "metadata": {},
   "source": [
    "OHE Complete."
   ]
  },
  {
   "cell_type": "markdown",
   "metadata": {},
   "source": [
    "### Feature Selection:"
   ]
  },
  {
   "cell_type": "markdown",
   "metadata": {},
   "source": [
    "Adding one more feature for now - show rate (i.e. column career_shows / career_races):"
   ]
  },
  {
   "cell_type": "code",
   "execution_count": 12,
   "metadata": {},
   "outputs": [],
   "source": [
    "comb_training_horses_4_cleaned['career_show_rate'] = comb_training_horses_4_cleaned['career_shows'] / comb_training_horses_4_cleaned['career_races']"
   ]
  },
  {
   "cell_type": "code",
   "execution_count": 13,
   "metadata": {},
   "outputs": [
    {
     "data": {
      "text/html": [
       "<div>\n",
       "<style scoped>\n",
       "    .dataframe tbody tr th:only-of-type {\n",
       "        vertical-align: middle;\n",
       "    }\n",
       "\n",
       "    .dataframe tbody tr th {\n",
       "        vertical-align: top;\n",
       "    }\n",
       "\n",
       "    .dataframe thead th {\n",
       "        text-align: right;\n",
       "    }\n",
       "</style>\n",
       "<table border=\"1\" class=\"dataframe\">\n",
       "  <thead>\n",
       "    <tr style=\"text-align: right;\">\n",
       "      <th></th>\n",
       "      <th>race_id</th>\n",
       "      <th>horse_id</th>\n",
       "      <th>result</th>\n",
       "      <th>lengths_behind</th>\n",
       "      <th>horse_age</th>\n",
       "      <th>horse_country</th>\n",
       "      <th>horse_rating</th>\n",
       "      <th>horse_gear</th>\n",
       "      <th>declared_weight</th>\n",
       "      <th>actual_weight</th>\n",
       "      <th>...</th>\n",
       "      <th>field_handicap_wgt_rank</th>\n",
       "      <th>career_races</th>\n",
       "      <th>career_shows</th>\n",
       "      <th>shows_in_last_5_races</th>\n",
       "      <th>horse_type_Filly</th>\n",
       "      <th>horse_type_Gelding</th>\n",
       "      <th>horse_type_Horse</th>\n",
       "      <th>horse_type_Mare</th>\n",
       "      <th>horse_type_Rig</th>\n",
       "      <th>career_show_rate</th>\n",
       "    </tr>\n",
       "  </thead>\n",
       "  <tbody>\n",
       "    <tr>\n",
       "      <th>74409</th>\n",
       "      <td>403</td>\n",
       "      <td>2996</td>\n",
       "      <td>4</td>\n",
       "      <td>1.75</td>\n",
       "      <td>3</td>\n",
       "      <td>AUS</td>\n",
       "      <td>60</td>\n",
       "      <td>--</td>\n",
       "      <td>1074.0</td>\n",
       "      <td>132</td>\n",
       "      <td>...</td>\n",
       "      <td>2</td>\n",
       "      <td>4</td>\n",
       "      <td>0.0</td>\n",
       "      <td>0.0</td>\n",
       "      <td>0.0</td>\n",
       "      <td>1.0</td>\n",
       "      <td>0.0</td>\n",
       "      <td>0.0</td>\n",
       "      <td>0.0</td>\n",
       "      <td>0.000000</td>\n",
       "    </tr>\n",
       "    <tr>\n",
       "      <th>77233</th>\n",
       "      <td>177</td>\n",
       "      <td>1824</td>\n",
       "      <td>8</td>\n",
       "      <td>12.75</td>\n",
       "      <td>3</td>\n",
       "      <td>AUS</td>\n",
       "      <td>60</td>\n",
       "      <td>--</td>\n",
       "      <td>1097.0</td>\n",
       "      <td>123</td>\n",
       "      <td>...</td>\n",
       "      <td>2</td>\n",
       "      <td>1</td>\n",
       "      <td>0.0</td>\n",
       "      <td>0.0</td>\n",
       "      <td>0.0</td>\n",
       "      <td>1.0</td>\n",
       "      <td>0.0</td>\n",
       "      <td>0.0</td>\n",
       "      <td>0.0</td>\n",
       "      <td>0.000000</td>\n",
       "    </tr>\n",
       "    <tr>\n",
       "      <th>58308</th>\n",
       "      <td>1687</td>\n",
       "      <td>191</td>\n",
       "      <td>6</td>\n",
       "      <td>3.75</td>\n",
       "      <td>3</td>\n",
       "      <td>NZ</td>\n",
       "      <td>60</td>\n",
       "      <td>--</td>\n",
       "      <td>1021.0</td>\n",
       "      <td>119</td>\n",
       "      <td>...</td>\n",
       "      <td>8</td>\n",
       "      <td>5</td>\n",
       "      <td>1.0</td>\n",
       "      <td>1.0</td>\n",
       "      <td>0.0</td>\n",
       "      <td>1.0</td>\n",
       "      <td>0.0</td>\n",
       "      <td>0.0</td>\n",
       "      <td>0.0</td>\n",
       "      <td>0.200000</td>\n",
       "    </tr>\n",
       "    <tr>\n",
       "      <th>45179</th>\n",
       "      <td>2735</td>\n",
       "      <td>3878</td>\n",
       "      <td>2</td>\n",
       "      <td>4.25</td>\n",
       "      <td>3</td>\n",
       "      <td>NZ</td>\n",
       "      <td>60</td>\n",
       "      <td>--</td>\n",
       "      <td>1153.0</td>\n",
       "      <td>119</td>\n",
       "      <td>...</td>\n",
       "      <td>13</td>\n",
       "      <td>40</td>\n",
       "      <td>7.0</td>\n",
       "      <td>0.0</td>\n",
       "      <td>0.0</td>\n",
       "      <td>1.0</td>\n",
       "      <td>0.0</td>\n",
       "      <td>0.0</td>\n",
       "      <td>0.0</td>\n",
       "      <td>0.175000</td>\n",
       "    </tr>\n",
       "    <tr>\n",
       "      <th>21361</th>\n",
       "      <td>4645</td>\n",
       "      <td>2444</td>\n",
       "      <td>10</td>\n",
       "      <td>9.00</td>\n",
       "      <td>4</td>\n",
       "      <td>NZ</td>\n",
       "      <td>78</td>\n",
       "      <td>TT/B</td>\n",
       "      <td>1172.0</td>\n",
       "      <td>131</td>\n",
       "      <td>...</td>\n",
       "      <td>2</td>\n",
       "      <td>22</td>\n",
       "      <td>9.0</td>\n",
       "      <td>2.0</td>\n",
       "      <td>0.0</td>\n",
       "      <td>1.0</td>\n",
       "      <td>0.0</td>\n",
       "      <td>0.0</td>\n",
       "      <td>0.0</td>\n",
       "      <td>0.409091</td>\n",
       "    </tr>\n",
       "  </tbody>\n",
       "</table>\n",
       "<p>5 rows × 45 columns</p>\n",
       "</div>"
      ],
      "text/plain": [
       "       race_id  horse_id  result  lengths_behind  horse_age horse_country  \\\n",
       "74409      403      2996       4            1.75          3           AUS   \n",
       "77233      177      1824       8           12.75          3           AUS   \n",
       "58308     1687       191       6            3.75          3            NZ   \n",
       "45179     2735      3878       2            4.25          3            NZ   \n",
       "21361     4645      2444      10            9.00          4            NZ   \n",
       "\n",
       "       horse_rating horse_gear  declared_weight  actual_weight  ...  \\\n",
       "74409            60         --           1074.0            132  ...   \n",
       "77233            60         --           1097.0            123  ...   \n",
       "58308            60         --           1021.0            119  ...   \n",
       "45179            60         --           1153.0            119  ...   \n",
       "21361            78       TT/B           1172.0            131  ...   \n",
       "\n",
       "       field_handicap_wgt_rank  career_races  career_shows  \\\n",
       "74409                        2             4           0.0   \n",
       "77233                        2             1           0.0   \n",
       "58308                        8             5           1.0   \n",
       "45179                       13            40           7.0   \n",
       "21361                        2            22           9.0   \n",
       "\n",
       "      shows_in_last_5_races horse_type_Filly horse_type_Gelding  \\\n",
       "74409                   0.0              0.0                1.0   \n",
       "77233                   0.0              0.0                1.0   \n",
       "58308                   1.0              0.0                1.0   \n",
       "45179                   0.0              0.0                1.0   \n",
       "21361                   2.0              0.0                1.0   \n",
       "\n",
       "       horse_type_Horse  horse_type_Mare  horse_type_Rig  career_show_rate  \n",
       "74409               0.0              0.0             0.0          0.000000  \n",
       "77233               0.0              0.0             0.0          0.000000  \n",
       "58308               0.0              0.0             0.0          0.200000  \n",
       "45179               0.0              0.0             0.0          0.175000  \n",
       "21361               0.0              0.0             0.0          0.409091  \n",
       "\n",
       "[5 rows x 45 columns]"
      ]
     },
     "execution_count": 13,
     "metadata": {},
     "output_type": "execute_result"
    }
   ],
   "source": [
    "comb_training_horses_4_cleaned.sample(5)"
   ]
  },
  {
   "cell_type": "code",
   "execution_count": 14,
   "metadata": {
    "scrolled": true
   },
   "outputs": [
    {
     "name": "stdout",
     "output_type": "stream",
     "text": [
      "<class 'pandas.core.frame.DataFrame'>\n",
      "Int64Index: 59914 entries, 1 to 79203\n",
      "Data columns (total 45 columns):\n",
      " #   Column                                        Non-Null Count  Dtype  \n",
      "---  ------                                        --------------  -----  \n",
      " 0   race_id                                       59914 non-null  int64  \n",
      " 1   horse_id                                      59914 non-null  int64  \n",
      " 2   result                                        59914 non-null  int64  \n",
      " 3   lengths_behind                                59914 non-null  float64\n",
      " 4   horse_age                                     59914 non-null  int64  \n",
      " 5   horse_country                                 59914 non-null  object \n",
      " 6   horse_rating                                  59914 non-null  int64  \n",
      " 7   horse_gear                                    59914 non-null  object \n",
      " 8   declared_weight                               59914 non-null  float64\n",
      " 9   actual_weight                                 59914 non-null  int64  \n",
      " 10  draw                                          59914 non-null  int64  \n",
      " 11  finish_time                                   59914 non-null  float64\n",
      " 12  place_odds                                    57086 non-null  float64\n",
      " 13  date                                          59914 non-null  object \n",
      " 14  venue                                         59914 non-null  object \n",
      " 15  config                                        59914 non-null  object \n",
      " 16  surface                                       59914 non-null  int64  \n",
      " 17  distance                                      59914 non-null  int64  \n",
      " 18  show                                          59914 non-null  int64  \n",
      " 19  three_race_rolling_avg_finish                 59914 non-null  float64\n",
      " 20  three_race_rolling_average_lengths            59914 non-null  float64\n",
      " 21  three_race_rolling_average_time               59914 non-null  float64\n",
      " 22  three_race_rolling_average_distance_per_time  59914 non-null  float64\n",
      " 23  horses_in_field                               59914 non-null  int64  \n",
      " 24  avg_field_rating                              59914 non-null  float64\n",
      " 25  field_rating_rank                             59914 non-null  int64  \n",
      " 26  diff_from_field_rating_avg                    59914 non-null  float64\n",
      " 27  avg_field_age                                 59914 non-null  float64\n",
      " 28  field_age_rank                                59914 non-null  int64  \n",
      " 29  diff_from_field_age_avg                       59914 non-null  float64\n",
      " 30  avg_field_dec_wgts                            59914 non-null  float64\n",
      " 31  diff_from_field_declared_wgt_avg              59914 non-null  float64\n",
      " 32  field_dec_wgt_rank                            59914 non-null  int64  \n",
      " 33  avg_field_actual_wgt                          59914 non-null  float64\n",
      " 34  diff_from_field_handicap_wgt_avg              59914 non-null  float64\n",
      " 35  field_handicap_wgt_rank                       59914 non-null  int64  \n",
      " 36  career_races                                  59914 non-null  int64  \n",
      " 37  career_shows                                  59914 non-null  float64\n",
      " 38  shows_in_last_5_races                         59914 non-null  float64\n",
      " 39  horse_type_Filly                              59914 non-null  float64\n",
      " 40  horse_type_Gelding                            59914 non-null  float64\n",
      " 41  horse_type_Horse                              59914 non-null  float64\n",
      " 42  horse_type_Mare                               59914 non-null  float64\n",
      " 43  horse_type_Rig                                59914 non-null  float64\n",
      " 44  career_show_rate                              59914 non-null  float64\n",
      "dtypes: float64(24), int64(16), object(5)\n",
      "memory usage: 21.0+ MB\n"
     ]
    }
   ],
   "source": [
    "comb_training_horses_4_cleaned.info()"
   ]
  },
  {
   "cell_type": "code",
   "execution_count": 15,
   "metadata": {},
   "outputs": [],
   "source": [
    "columns_1 = ['horse_age', 'distance', 'horses_in_field','declared_weight', 'actual_weight', 'horse_rating', 'draw', 'three_race_rolling_avg_finish', 'three_race_rolling_average_lengths', 'three_race_rolling_average_time', 'three_race_rolling_average_distance_per_time', 'field_rating_rank', 'diff_from_field_rating_avg', 'field_age_rank', 'diff_from_field_age_avg', 'diff_from_field_declared_wgt_avg', 'field_dec_wgt_rank', 'diff_from_field_handicap_wgt_avg', 'field_handicap_wgt_rank', 'career_races', 'career_shows', 'shows_in_last_5_races', 'career_show_rate', 'horse_type_Filly', 'horse_type_Gelding', 'horse_type_Horse', 'horse_type_Mare', 'horse_type_Rig']"
   ]
  },
  {
   "cell_type": "code",
   "execution_count": 16,
   "metadata": {},
   "outputs": [
    {
     "name": "stdout",
     "output_type": "stream",
     "text": [
      "Feature 1: horse_age\n",
      "Feature 2: distance\n",
      "Feature 3: horses_in_field\n",
      "Feature 4: declared_weight\n",
      "Feature 5: actual_weight\n",
      "Feature 6: horse_rating\n",
      "Feature 7: draw\n",
      "Feature 8: three_race_rolling_avg_finish\n",
      "Feature 9: three_race_rolling_average_lengths\n",
      "Feature 10: three_race_rolling_average_time\n",
      "Feature 11: three_race_rolling_average_distance_per_time\n",
      "Feature 12: field_rating_rank\n",
      "Feature 13: diff_from_field_rating_avg\n",
      "Feature 14: field_age_rank\n",
      "Feature 15: diff_from_field_age_avg\n",
      "Feature 16: diff_from_field_declared_wgt_avg\n",
      "Feature 17: field_dec_wgt_rank\n",
      "Feature 18: diff_from_field_handicap_wgt_avg\n",
      "Feature 19: field_handicap_wgt_rank\n",
      "Feature 20: career_races\n",
      "Feature 21: career_shows\n",
      "Feature 22: shows_in_last_5_races\n",
      "Feature 23: career_show_rate\n",
      "Feature 24: horse_type_Filly\n",
      "Feature 25: horse_type_Gelding\n",
      "Feature 26: horse_type_Horse\n",
      "Feature 27: horse_type_Mare\n",
      "Feature 28: horse_type_Rig\n"
     ]
    }
   ],
   "source": [
    "for i, feature in enumerate(columns_1, 1):\n",
    "    print(\"Feature {}: {}\".format(i, feature))"
   ]
  },
  {
   "cell_type": "markdown",
   "metadata": {},
   "source": [
    "## Running Baseline Models:"
   ]
  },
  {
   "cell_type": "markdown",
   "metadata": {},
   "source": [
    "All models with K-Fold cross validation w/ k=5 folds."
   ]
  },
  {
   "cell_type": "code",
   "execution_count": 17,
   "metadata": {},
   "outputs": [],
   "source": [
    "X = comb_training_horses_4_cleaned[columns_1]\n",
    "y = comb_training_horses_4_cleaned['show']"
   ]
  },
  {
   "cell_type": "code",
   "execution_count": 18,
   "metadata": {},
   "outputs": [
    {
     "name": "stdout",
     "output_type": "stream",
     "text": [
      "Confusion Matrix for Fold 1\n",
      "[[8771  239]\n",
      " [2708  265]]\n",
      "\n",
      "\n",
      "Confusion Matrix for Fold 2\n",
      "[[8770  223]\n",
      " [2711  279]]\n",
      "\n",
      "\n",
      "Confusion Matrix for Fold 3\n",
      "[[8832  245]\n",
      " [2639  267]]\n",
      "\n",
      "\n",
      "Confusion Matrix for Fold 4\n",
      "[[8889  225]\n",
      " [2618  251]]\n",
      "\n",
      "\n",
      "Confusion Matrix for Fold 5\n",
      "[[8826  245]\n",
      " [2629  282]]\n",
      "\n",
      "\n",
      "KNN Classification w/ KFOLD CV Results (k=5):\n",
      "KNN Accuracy scores:  [0.754068263373112, 0.7551531336059417, 0.7593257114245181, 0.7627472252357507, 0.7601402103154732] \n",
      "\n",
      "Simple mean cv accuracy: 0.758 + 0.003 \n",
      "\n",
      "KNN Precision scores:  [0.5257936507936508, 0.5557768924302788, 0.521484375, 0.5273109243697479, 0.5351043643263758] \n",
      "\n",
      "Simple mean cv precision: 0.533 +- 0.012 \n",
      "\n",
      "KNN Recall scores:  [0.0891355533131517, 0.09331103678929765, 0.09187887130075706, 0.08748692924363889, 0.09687392648574374] \n",
      "\n",
      "Simple mean cv recall: 0.092 +- 0.003 \n",
      "\n",
      "KNN Fbeta (beta=0.5) scores:  [0.2655842854279415, 0.27911164465786314, 0.26947920872022607, 0.26293735596061174, 0.28093245666467426] \n",
      "\n",
      "Simple mean cv Fbeta (beta=0.5): 0.272 +- 0.007 \n",
      "\n",
      "KNN F1 scores:  [0.15243025596778834, 0.15979381443298968, 0.15623171445289644, 0.15007473841554558, 0.16404886561954626] \n",
      "\n",
      "Simple mean cv F1: 0.157 +- 0.005 \n",
      "\n"
     ]
    }
   ],
   "source": [
    "knn = KNN_accuracy_scorer_f_fold(X, y, n = 41, k=5)"
   ]
  },
  {
   "cell_type": "code",
   "execution_count": 19,
   "metadata": {
    "scrolled": false
   },
   "outputs": [
    {
     "name": "stdout",
     "output_type": "stream",
     "text": [
      "Confusion Matrix for Fold 1\n",
      "[[8752  258]\n",
      " [2652  321]]\n",
      "\n",
      "\n",
      "Confusion Matrix for Fold 2\n",
      "[[8743  250]\n",
      " [2658  332]]\n",
      "\n",
      "\n",
      "Confusion Matrix for Fold 3\n",
      "[[8778  299]\n",
      " [2590  316]]\n",
      "\n",
      "\n",
      "Confusion Matrix for Fold 4\n",
      "[[8880  234]\n",
      " [2538  331]]\n",
      "\n",
      "\n",
      "Confusion Matrix for Fold 5\n",
      "[[8800  271]\n",
      " [2595  316]]\n",
      "\n",
      "\n",
      "Logistic Regression Classification w/ KFOLD CV Results (k=5):\n",
      "Log. Reg Accuracy scores:  [0.7571559709588583, 0.7573228740716015, 0.7589084536426605, 0.7686722857381291, 0.7608078784843932] \n",
      "\n",
      "Simple mean cv accuracy: 0.761 + 0.004 \n",
      "\n",
      "Log. Reg Precision scores:  [0.5544041450777202, 0.570446735395189, 0.5138211382113821, 0.5858407079646017, 0.5383304940374787] \n",
      "\n",
      "Simple mean cv precision: 0.553 +- 0.025 \n",
      "\n",
      "Log. Reg Recall scores:  [0.10797174571140263, 0.11103678929765887, 0.10874053682037164, 0.11537120948065528, 0.10855376159395397] \n",
      "\n",
      "Simple mean cv recall: 0.110 +- 0.003 \n",
      "\n",
      "Log. Reg Fbeta (beta=0.5) scores:  [0.30346001134429956, 0.3121474238435502, 0.2944465150950428, 0.3226749853772665, 0.3004373455029473] \n",
      "\n",
      "Simple mean cv Fbeta (beta=0.5): 0.307 +- 0.010 \n",
      "\n",
      "Log. Reg F1 scores:  [0.18074324324324323, 0.1858902575587906, 0.17949446180062484, 0.19277810133954573, 0.18067467124070896] \n",
      "\n",
      "Simple mean cv F1: 0.184 +- 0.005 \n",
      "\n",
      "Log. Reg Log Loss scores:  [8.387552833624893, 8.381787670513045, 8.32702696190675, 7.989791811106659, 8.261421285154197] \n",
      "\n",
      "Simple mean cv log loss: 8.270 +- 0.147 \n",
      "\n"
     ]
    }
   ],
   "source": [
    "logreg = log_accuracy_scorer_k_fold(X, y, k=5, threshold=0.5, C=1)"
   ]
  },
  {
   "cell_type": "code",
   "execution_count": 20,
   "metadata": {},
   "outputs": [
    {
     "name": "stdout",
     "output_type": "stream",
     "text": [
      "Confusion Matrix for Fold 1\n",
      "[[8680  330]\n",
      " [2609  364]]\n",
      "\n",
      "\n",
      "Confusion Matrix for Fold 2\n",
      "[[8658  335]\n",
      " [2605  385]]\n",
      "\n",
      "\n",
      "Confusion Matrix for Fold 3\n",
      "[[8752  325]\n",
      " [2530  376]]\n",
      "\n",
      "\n",
      "Confusion Matrix for Fold 4\n",
      "[[8792  322]\n",
      " [2493  376]]\n",
      "\n",
      "\n",
      "Confusion Matrix for Fold 5\n",
      "[[8746  325]\n",
      " [2532  379]]\n",
      "\n",
      "\n",
      "Random Forest Classification w/ KFOLD CV Results (k=5, threshold = 0.5):\n",
      "Random Forest Accuracy scores:  [0.7560711007260286, 0.7555703913877994, 0.7629975799048653, 0.7659183843778686, 0.7611417125688533] \n",
      "\n",
      "Simple mean cv accuracy: 0.760 + 0.004\n",
      "Random Forest Precision scores:  [0.5244956772334294, 0.5347222222222222, 0.536376604850214, 0.5386819484240688, 0.5383522727272727] \n",
      "\n",
      "Simple mean cv precision: 0.535 +- 0.005\n",
      "Random Forest Recall scores:  [0.12243525058863101, 0.12876254180602006, 0.1293874741913283, 0.131056117113977, 0.13019580900034353] \n",
      "\n",
      "Simple mean cv recall: 0.128 +- 0.003\n",
      "Random Forest Fbeta (beta=0.5) scores:  [0.31657679596451554, 0.32793867120954007, 0.3292469352014011, 0.332096802685038, 0.3308887724812292] \n",
      "\n",
      "Simple mean cv Fbeta (beta=0.5): 0.327 +- 0.006\n",
      "Random Forest F1 scores:  [0.19852740659940007, 0.20754716981132074, 0.20848350429719992, 0.21082141855901318, 0.20968188105117566] \n",
      "\n",
      "Simple mean cv F1: 0.207 +- 0.004\n"
     ]
    }
   ],
   "source": [
    "rf_model = random_forest_eval_kfold(X,y, k=5)"
   ]
  },
  {
   "cell_type": "markdown",
   "metadata": {},
   "source": [
    "I am also using XGBoost as a possible comparison here, so reading in those functions and scoring:"
   ]
  },
  {
   "cell_type": "code",
   "execution_count": 7,
   "metadata": {},
   "outputs": [],
   "source": [
    "from xgboost import XGBClassifier"
   ]
  },
  {
   "cell_type": "code",
   "execution_count": 8,
   "metadata": {},
   "outputs": [],
   "source": [
    "from xgboost_evaluator import *"
   ]
  },
  {
   "cell_type": "code",
   "execution_count": 23,
   "metadata": {
    "scrolled": true
   },
   "outputs": [
    {
     "name": "stdout",
     "output_type": "stream",
     "text": [
      "[09:17:52] WARNING: /Users/runner/miniforge3/conda-bld/xgboost_1607604592557/work/src/learner.cc:1061: Starting in XGBoost 1.3.0, the default evaluation metric used with the objective 'binary:logistic' was changed from 'error' to 'logloss'. Explicitly set eval_metric if you'd like to restore the old behavior.\n",
      "Confusion Matrix for Fold 1\n",
      "[[8802  208]\n",
      " [2679  294]]\n",
      "\n",
      "\n",
      "[09:18:03] WARNING: /Users/runner/miniforge3/conda-bld/xgboost_1607604592557/work/src/learner.cc:1061: Starting in XGBoost 1.3.0, the default evaluation metric used with the objective 'binary:logistic' was changed from 'error' to 'logloss'. Explicitly set eval_metric if you'd like to restore the old behavior.\n",
      "Confusion Matrix for Fold 2\n",
      "[[8756  237]\n",
      " [2666  324]]\n",
      "\n",
      "\n",
      "[09:18:13] WARNING: /Users/runner/miniforge3/conda-bld/xgboost_1607604592557/work/src/learner.cc:1061: Starting in XGBoost 1.3.0, the default evaluation metric used with the objective 'binary:logistic' was changed from 'error' to 'logloss'. Explicitly set eval_metric if you'd like to restore the old behavior.\n",
      "Confusion Matrix for Fold 3\n",
      "[[8860  217]\n",
      " [2615  291]]\n",
      "\n",
      "\n",
      "[09:18:24] WARNING: /Users/runner/miniforge3/conda-bld/xgboost_1607604592557/work/src/learner.cc:1061: Starting in XGBoost 1.3.0, the default evaluation metric used with the objective 'binary:logistic' was changed from 'error' to 'logloss'. Explicitly set eval_metric if you'd like to restore the old behavior.\n",
      "Confusion Matrix for Fold 4\n",
      "[[8899  215]\n",
      " [2579  290]]\n",
      "\n",
      "\n",
      "[09:18:32] WARNING: /Users/runner/miniforge3/conda-bld/xgboost_1607604592557/work/src/learner.cc:1061: Starting in XGBoost 1.3.0, the default evaluation metric used with the objective 'binary:logistic' was changed from 'error' to 'logloss'. Explicitly set eval_metric if you'd like to restore the old behavior.\n",
      "Confusion Matrix for Fold 5\n",
      "[[8842  229]\n",
      " [2596  315]]\n",
      "\n",
      "\n",
      "XGBoost Classification w/ KFOLD CV Results (k=5, threshold = 0.5):\n",
      "XG Boost Accuracy scores:  [0.7590753567554035, 0.7577401318534591, 0.7636651923558374, 0.7668363514979555, 0.7642296778501085] \n",
      "\n",
      "Simple mean cv accuracy: 0.762 + 0.003\n",
      "XG Boost Precision scores:  [0.5856573705179283, 0.5775401069518716, 0.5728346456692913, 0.5742574257425742, 0.5790441176470589] \n",
      "\n",
      "Simple mean cv precision: 0.578 +- 0.004\n",
      "XG Boost Recall scores:  [0.09889001009081735, 0.10836120401337793, 0.1001376462491397, 0.10108051585918439, 0.10821023703194778] \n",
      "\n",
      "Simple mean cv recall: 0.103 +- 0.004\n",
      "XG Boost Fbeta (beta=0.5) scores:  [0.2951214615539048, 0.30951471150171955, 0.29465370595382745, 0.29658416854162406, 0.3096127383526637] \n",
      "\n",
      "Simple mean cv Fbeta (beta=0.5): 0.301 +- 0.007\n",
      "XG Boost F1 scores:  [0.16920863309352518, 0.18248380737820336, 0.17047451669595784, 0.17190278601066983, 0.18234442836468884] \n",
      "\n",
      "Simple mean cv F1: 0.175 +- 0.006\n"
     ]
    }
   ],
   "source": [
    "xg_model = xgboost_eval_kfold(X,y, k=5, threshold = 0.5)"
   ]
  },
  {
   "cell_type": "code",
   "execution_count": 6,
   "metadata": {},
   "outputs": [],
   "source": [
    "from xgboost import plot_importance\n",
    "import xgboost as xgb"
   ]
  },
  {
   "cell_type": "code",
   "execution_count": 25,
   "metadata": {},
   "outputs": [
    {
     "data": {
      "text/plain": [
       "<AxesSubplot:title={'center':'Feature importance'}, xlabel='F score', ylabel='Features'>"
      ]
     },
     "execution_count": 25,
     "metadata": {},
     "output_type": "execute_result"
    },
    {
     "data": {
      "image/png": "[encoded data removed]",
      "text/plain": [
       "<Figure size 648x432 with 1 Axes>"
      ]
     },
     "metadata": {
      "image/png": {
       "height": 395,
       "width": 561
      }
     },
     "output_type": "display_data"
    },
    {
     "data": {
      "image/png": "[encoded data removed]",
      "text/plain": [
       "<Figure size 648x432 with 1 Axes>"
      ]
     },
     "metadata": {
      "image/png": {
       "height": 395,
       "width": 644
      }
     },
     "output_type": "display_data"
    }
   ],
   "source": [
    "xgb.plot_importance(xg_model)\n",
    "xgb.plot_importance(xg_model, importance_type='gain')"
   ]
  },
  {
   "cell_type": "code",
   "execution_count": 26,
   "metadata": {
    "scrolled": true
   },
   "outputs": [
    {
     "data": {
      "text/plain": [
       "['f0',\n",
       " 'f1',\n",
       " 'f2',\n",
       " 'f3',\n",
       " 'f4',\n",
       " 'f5',\n",
       " 'f6',\n",
       " 'f7',\n",
       " 'f8',\n",
       " 'f9',\n",
       " 'f10',\n",
       " 'f11',\n",
       " 'f12',\n",
       " 'f13',\n",
       " 'f14',\n",
       " 'f15',\n",
       " 'f16',\n",
       " 'f17',\n",
       " 'f18',\n",
       " 'f19',\n",
       " 'f20',\n",
       " 'f21',\n",
       " 'f22',\n",
       " 'f23',\n",
       " 'f24',\n",
       " 'f25',\n",
       " 'f26',\n",
       " 'f27']"
      ]
     },
     "execution_count": 26,
     "metadata": {},
     "output_type": "execute_result"
    }
   ],
   "source": [
    "xg_model.get_booster().feature_names"
   ]
  },
  {
   "cell_type": "markdown",
   "metadata": {},
   "source": [
    "After running these, here are my initial results from KFold cross validation w/ 5 crossfolds:"
   ]
  },
  {
   "cell_type": "markdown",
   "metadata": {},
   "source": [
    "| Model Type              | Mean Precision Score |Mean FBeta (beta = 0.5 Score)|\n",
    "| ------------------------| ---------------------|-----------------------------|\n",
    "| KNN (n=41)              | .533 +- .012         | .272 +- .007                |\n",
    "| Logistic Regression     | .553 +- .025         | .307 +- .010                |\n",
    "| Random Forest (untuned) | .531 +- .008         | .326 +- .007                |\n",
    "| XGBoost (untuned)       | .578 +- .004         | .301 +- .007                |"
   ]
  },
  {
   "cell_type": "markdown",
   "metadata": {},
   "source": [
    "# Including Place Odds as a feature:"
   ]
  },
  {
   "cell_type": "markdown",
   "metadata": {},
   "source": [
    "This was not included previously.  My rationale here is that the odds could help with one of my challenge cases, where horses in races with many low rated horses had very low probability of showing.  The odds would be known before the race.  I am going to drop out all horses without odds from the model, since in the gambling use case you can't bet on a horse with no odds."
   ]
  },
  {
   "cell_type": "code",
   "execution_count": 27,
   "metadata": {},
   "outputs": [],
   "source": [
    "comb_training_horses_4_cleaned_po = comb_training_horses_4_cleaned[comb_training_horses_4_cleaned['place_odds'].notna()]"
   ]
  },
  {
   "cell_type": "code",
   "execution_count": 28,
   "metadata": {
    "scrolled": true
   },
   "outputs": [
    {
     "name": "stdout",
     "output_type": "stream",
     "text": [
      "<class 'pandas.core.frame.DataFrame'>\n",
      "Int64Index: 57086 entries, 2736 to 79203\n",
      "Data columns (total 45 columns):\n",
      " #   Column                                        Non-Null Count  Dtype  \n",
      "---  ------                                        --------------  -----  \n",
      " 0   race_id                                       57086 non-null  int64  \n",
      " 1   horse_id                                      57086 non-null  int64  \n",
      " 2   result                                        57086 non-null  int64  \n",
      " 3   lengths_behind                                57086 non-null  float64\n",
      " 4   horse_age                                     57086 non-null  int64  \n",
      " 5   horse_country                                 57086 non-null  object \n",
      " 6   horse_rating                                  57086 non-null  int64  \n",
      " 7   horse_gear                                    57086 non-null  object \n",
      " 8   declared_weight                               57086 non-null  float64\n",
      " 9   actual_weight                                 57086 non-null  int64  \n",
      " 10  draw                                          57086 non-null  int64  \n",
      " 11  finish_time                                   57086 non-null  float64\n",
      " 12  place_odds                                    57086 non-null  float64\n",
      " 13  date                                          57086 non-null  object \n",
      " 14  venue                                         57086 non-null  object \n",
      " 15  config                                        57086 non-null  object \n",
      " 16  surface                                       57086 non-null  int64  \n",
      " 17  distance                                      57086 non-null  int64  \n",
      " 18  show                                          57086 non-null  int64  \n",
      " 19  three_race_rolling_avg_finish                 57086 non-null  float64\n",
      " 20  three_race_rolling_average_lengths            57086 non-null  float64\n",
      " 21  three_race_rolling_average_time               57086 non-null  float64\n",
      " 22  three_race_rolling_average_distance_per_time  57086 non-null  float64\n",
      " 23  horses_in_field                               57086 non-null  int64  \n",
      " 24  avg_field_rating                              57086 non-null  float64\n",
      " 25  field_rating_rank                             57086 non-null  int64  \n",
      " 26  diff_from_field_rating_avg                    57086 non-null  float64\n",
      " 27  avg_field_age                                 57086 non-null  float64\n",
      " 28  field_age_rank                                57086 non-null  int64  \n",
      " 29  diff_from_field_age_avg                       57086 non-null  float64\n",
      " 30  avg_field_dec_wgts                            57086 non-null  float64\n",
      " 31  diff_from_field_declared_wgt_avg              57086 non-null  float64\n",
      " 32  field_dec_wgt_rank                            57086 non-null  int64  \n",
      " 33  avg_field_actual_wgt                          57086 non-null  float64\n",
      " 34  diff_from_field_handicap_wgt_avg              57086 non-null  float64\n",
      " 35  field_handicap_wgt_rank                       57086 non-null  int64  \n",
      " 36  career_races                                  57086 non-null  int64  \n",
      " 37  career_shows                                  57086 non-null  float64\n",
      " 38  shows_in_last_5_races                         57086 non-null  float64\n",
      " 39  horse_type_Filly                              57086 non-null  float64\n",
      " 40  horse_type_Gelding                            57086 non-null  float64\n",
      " 41  horse_type_Horse                              57086 non-null  float64\n",
      " 42  horse_type_Mare                               57086 non-null  float64\n",
      " 43  horse_type_Rig                                57086 non-null  float64\n",
      " 44  career_show_rate                              57086 non-null  float64\n",
      "dtypes: float64(24), int64(16), object(5)\n",
      "memory usage: 20.0+ MB\n"
     ]
    }
   ],
   "source": [
    "comb_training_horses_4_cleaned_po.info()"
   ]
  },
  {
   "cell_type": "code",
   "execution_count": 29,
   "metadata": {},
   "outputs": [],
   "source": [
    "columns_2 = ['horse_age', 'place_odds','distance', 'horses_in_field','declared_weight', 'actual_weight', 'horse_rating', 'draw', 'three_race_rolling_avg_finish', 'three_race_rolling_average_lengths', 'three_race_rolling_average_time', 'three_race_rolling_average_distance_per_time', 'field_rating_rank', 'diff_from_field_rating_avg', 'field_age_rank', 'diff_from_field_age_avg', 'diff_from_field_declared_wgt_avg', 'field_dec_wgt_rank', 'diff_from_field_handicap_wgt_avg', 'field_handicap_wgt_rank', 'career_races', 'career_shows', 'shows_in_last_5_races', 'career_show_rate', 'horse_type_Filly', 'horse_type_Gelding', 'horse_type_Horse', 'horse_type_Mare', 'horse_type_Rig']"
   ]
  },
  {
   "cell_type": "code",
   "execution_count": 30,
   "metadata": {},
   "outputs": [
    {
     "name": "stdout",
     "output_type": "stream",
     "text": [
      "Feature 1: horse_age\n",
      "Feature 2: place_odds\n",
      "Feature 3: distance\n",
      "Feature 4: horses_in_field\n",
      "Feature 5: declared_weight\n",
      "Feature 6: actual_weight\n",
      "Feature 7: horse_rating\n",
      "Feature 8: draw\n",
      "Feature 9: three_race_rolling_avg_finish\n",
      "Feature 10: three_race_rolling_average_lengths\n",
      "Feature 11: three_race_rolling_average_time\n",
      "Feature 12: three_race_rolling_average_distance_per_time\n",
      "Feature 13: field_rating_rank\n",
      "Feature 14: diff_from_field_rating_avg\n",
      "Feature 15: field_age_rank\n",
      "Feature 16: diff_from_field_age_avg\n",
      "Feature 17: diff_from_field_declared_wgt_avg\n",
      "Feature 18: field_dec_wgt_rank\n",
      "Feature 19: diff_from_field_handicap_wgt_avg\n",
      "Feature 20: field_handicap_wgt_rank\n",
      "Feature 21: career_races\n",
      "Feature 22: career_shows\n",
      "Feature 23: shows_in_last_5_races\n",
      "Feature 24: career_show_rate\n",
      "Feature 25: horse_type_Filly\n",
      "Feature 26: horse_type_Gelding\n",
      "Feature 27: horse_type_Horse\n",
      "Feature 28: horse_type_Mare\n",
      "Feature 29: horse_type_Rig\n"
     ]
    }
   ],
   "source": [
    "for i, feature in enumerate(columns_2, 1):\n",
    "    print(\"Feature {}: {}\".format(i, feature))"
   ]
  },
  {
   "cell_type": "markdown",
   "metadata": {},
   "source": [
    "## Running Baseline Models:"
   ]
  },
  {
   "cell_type": "markdown",
   "metadata": {},
   "source": [
    "All models with K-Fold cross validation w/ k=5 folds."
   ]
  },
  {
   "cell_type": "code",
   "execution_count": 31,
   "metadata": {},
   "outputs": [],
   "source": [
    "X = comb_training_horses_4_cleaned_po[columns_2]\n",
    "y = comb_training_horses_4_cleaned_po['show']"
   ]
  },
  {
   "cell_type": "code",
   "execution_count": 32,
   "metadata": {
    "scrolled": true
   },
   "outputs": [
    {
     "name": "stdout",
     "output_type": "stream",
     "text": [
      "Confusion Matrix for Fold 1\n",
      "[[8406  233]\n",
      " [2484  295]]\n",
      "\n",
      "\n",
      "Confusion Matrix for Fold 2\n",
      "[[8419  234]\n",
      " [2507  257]]\n",
      "\n",
      "\n",
      "Confusion Matrix for Fold 3\n",
      "[[8400  250]\n",
      " [2495  272]]\n",
      "\n",
      "\n",
      "Confusion Matrix for Fold 4\n",
      "[[8393  236]\n",
      " [2512  276]]\n",
      "\n",
      "\n",
      "Confusion Matrix for Fold 5\n",
      "[[8326  238]\n",
      " [2554  299]]\n",
      "\n",
      "\n",
      "KNN Classification w/ KFOLD CV Results (k=5):\n",
      "KNN Accuracy scores:  [0.7620423892100193, 0.7599194184111413, 0.759569063676973, 0.7593062976263467, 0.7554523955504949] \n",
      "\n",
      "Simple mean cv accuracy: 0.759 + 0.002 \n",
      "\n",
      "KNN Precision scores:  [0.5587121212121212, 0.5234215885947047, 0.5210727969348659, 0.5390625, 0.5567970204841713] \n",
      "\n",
      "Simple mean cv precision: 0.540 +- 0.016 \n",
      "\n",
      "KNN Recall scores:  [0.10615329255127744, 0.09298118668596238, 0.0983014094687387, 0.09899569583931134, 0.10480196284612689] \n",
      "\n",
      "Simple mean cv recall: 0.100 +- 0.005 \n",
      "\n",
      "KNN Fbeta (beta=0.5) scores:  [0.30157432017992225, 0.2717851099830795, 0.28012358393408854, 0.2853598014888338, 0.29894021195760845] \n",
      "\n",
      "Simple mean cv Fbeta (beta=0.5): 0.288 +- 0.011 \n",
      "\n",
      "KNN F1 scores:  [0.1784094345328092, 0.15791090629800308, 0.16539981757373062, 0.16727272727272727, 0.17640117994100296] \n",
      "\n",
      "Simple mean cv F1: 0.169 +- 0.008 \n",
      "\n"
     ]
    }
   ],
   "source": [
    "knn = KNN_accuracy_scorer_f_fold(X, y, n = 41, k=5)"
   ]
  },
  {
   "cell_type": "code",
   "execution_count": 33,
   "metadata": {
    "scrolled": true
   },
   "outputs": [
    {
     "name": "stdout",
     "output_type": "stream",
     "text": [
      "Confusion Matrix for Fold 1\n",
      "[[8484  155]\n",
      " [2459  320]]\n",
      "\n",
      "\n",
      "Confusion Matrix for Fold 2\n",
      "[[8469  184]\n",
      " [2484  280]]\n",
      "\n",
      "\n",
      "Confusion Matrix for Fold 3\n",
      "[[8450  200]\n",
      " [2461  306]]\n",
      "\n",
      "\n",
      "Confusion Matrix for Fold 4\n",
      "[[8475  154]\n",
      " [2517  271]]\n",
      "\n",
      "\n",
      "Confusion Matrix for Fold 5\n",
      "[[8382  182]\n",
      " [2538  315]]\n",
      "\n",
      "\n",
      "Logistic Regression Classification w/ KFOLD CV Results (k=5):\n",
      "Log. Reg Accuracy scores:  [0.7710632334909792, 0.7663133923097136, 0.7669265130945082, 0.7660506262590874, 0.7617587807655251] \n",
      "\n",
      "Simple mean cv accuracy: 0.766 + 0.003 \n",
      "\n",
      "Log. Reg Precision scores:  [0.6736842105263158, 0.603448275862069, 0.6047430830039525, 0.6376470588235295, 0.6338028169014085] \n",
      "\n",
      "Simple mean cv precision: 0.631 +- 0.026 \n",
      "\n",
      "Log. Reg Recall scores:  [0.11514933429291112, 0.10130246020260492, 0.11058908565233104, 0.09720229555236728, 0.11041009463722397] \n",
      "\n",
      "Simple mean cv recall: 0.107 +- 0.007 \n",
      "\n",
      "Log. Reg Fbeta (beta=0.5) scores:  [0.3419534088480444, 0.303030303030303, 0.319348778960551, 0.3019162210338681, 0.32534600289196447] \n",
      "\n",
      "Simple mean cv Fbeta (beta=0.5): 0.318 +- 0.015 \n",
      "\n",
      "Log. Reg F1 scores:  [0.19668100799016594, 0.1734820322180917, 0.18698441796516954, 0.1686896981014628, 0.1880597014925373] \n",
      "\n",
      "Simple mean cv F1: 0.183 +- 0.010 \n",
      "\n",
      "Log. Reg Log Loss scores:  [7.907206641609581, 8.071262376066292, 8.05008705494818, 8.080335892862458, 8.228572945685324] \n",
      "\n",
      "Simple mean cv log loss: 8.067 +- 0.102 \n",
      "\n"
     ]
    }
   ],
   "source": [
    "logreg = log_accuracy_scorer_k_fold(X, y, k=5, threshold=0.5, C=1)"
   ]
  },
  {
   "cell_type": "code",
   "execution_count": 34,
   "metadata": {
    "scrolled": true
   },
   "outputs": [
    {
     "name": "stdout",
     "output_type": "stream",
     "text": [
      "Confusion Matrix for Fold 1\n",
      "[[8158  481]\n",
      " [2070  709]]\n",
      "\n",
      "\n",
      "Confusion Matrix for Fold 2\n",
      "[[8153  500]\n",
      " [2103  661]]\n",
      "\n",
      "\n",
      "Confusion Matrix for Fold 3\n",
      "[[8143  507]\n",
      " [2057  710]]\n",
      "\n",
      "\n",
      "Confusion Matrix for Fold 4\n",
      "[[8166  463]\n",
      " [2125  663]]\n",
      "\n",
      "\n",
      "Confusion Matrix for Fold 5\n",
      "[[8040  524]\n",
      " [2127  726]]\n",
      "\n",
      "\n",
      "Random Forest Classification w/ KFOLD CV Results (k=5, threshold = 0.5):\n",
      "Random Forest Accuracy scores:  [0.7773690663864075, 0.7717438906893229, 0.773846019094333, 0.7740211964614172, 0.7672768678286765] \n",
      "\n",
      "Simple mean cv accuracy: 0.773 + 0.003\n",
      "Random Forest Precision scores:  [0.5957983193277311, 0.5693367786391043, 0.5834018077239113, 0.588809946714032, 0.5808] \n",
      "\n",
      "Simple mean cv precision: 0.584 +- 0.009\n",
      "Random Forest Recall scores:  [0.2551277437927312, 0.23914616497829233, 0.25659559089266354, 0.23780487804878048, 0.2544689800210305] \n",
      "\n",
      "Simple mean cv recall: 0.249 +- 0.008\n",
      "Random Forest Fbeta (beta=0.5) scores:  [0.4702215147897599, 0.44613930885529157, 0.46496398166339226, 0.45460778935820073, 0.4622437285113969] \n",
      "\n",
      "Simple mean cv Fbeta (beta=0.5): 0.460 +- 0.008\n",
      "Random Forest F1 scores:  [0.3572688334593096, 0.33681528662420385, 0.356425702811245, 0.3387838528359734, 0.35388739946380704] \n",
      "\n",
      "Simple mean cv F1: 0.349 +- 0.009\n"
     ]
    }
   ],
   "source": [
    "rf_model = random_forest_eval_kfold(X,y, k=5)"
   ]
  },
  {
   "cell_type": "code",
   "execution_count": 35,
   "metadata": {
    "scrolled": true
   },
   "outputs": [
    {
     "name": "stdout",
     "output_type": "stream",
     "text": [
      "[09:21:43] WARNING: /Users/runner/miniforge3/conda-bld/xgboost_1607604592557/work/src/learner.cc:1061: Starting in XGBoost 1.3.0, the default evaluation metric used with the objective 'binary:logistic' was changed from 'error' to 'logloss'. Explicitly set eval_metric if you'd like to restore the old behavior.\n",
      "Confusion Matrix for Fold 1\n",
      "[[8261  378]\n",
      " [2098  681]]\n",
      "\n",
      "\n",
      "[09:21:49] WARNING: /Users/runner/miniforge3/conda-bld/xgboost_1607604592557/work/src/learner.cc:1061: Starting in XGBoost 1.3.0, the default evaluation metric used with the objective 'binary:logistic' was changed from 'error' to 'logloss'. Explicitly set eval_metric if you'd like to restore the old behavior.\n",
      "Confusion Matrix for Fold 2\n",
      "[[8141  512]\n",
      " [2100  664]]\n",
      "\n",
      "\n",
      "[09:21:56] WARNING: /Users/runner/miniforge3/conda-bld/xgboost_1607604592557/work/src/learner.cc:1061: Starting in XGBoost 1.3.0, the default evaluation metric used with the objective 'binary:logistic' was changed from 'error' to 'logloss'. Explicitly set eval_metric if you'd like to restore the old behavior.\n",
      "Confusion Matrix for Fold 3\n",
      "[[8193  457]\n",
      " [2094  673]]\n",
      "\n",
      "\n",
      "[09:22:03] WARNING: /Users/runner/miniforge3/conda-bld/xgboost_1607604592557/work/src/learner.cc:1061: Starting in XGBoost 1.3.0, the default evaluation metric used with the objective 'binary:logistic' was changed from 'error' to 'logloss'. Explicitly set eval_metric if you'd like to restore the old behavior.\n",
      "Confusion Matrix for Fold 4\n",
      "[[8216  413]\n",
      " [2132  656]]\n",
      "\n",
      "\n",
      "[09:22:10] WARNING: /Users/runner/miniforge3/conda-bld/xgboost_1607604592557/work/src/learner.cc:1061: Starting in XGBoost 1.3.0, the default evaluation metric used with the objective 'binary:logistic' was changed from 'error' to 'logloss'. Explicitly set eval_metric if you'd like to restore the old behavior.\n",
      "Confusion Matrix for Fold 5\n",
      "[[8113  451]\n",
      " [2170  683]]\n",
      "\n",
      "\n",
      "XGBoost Classification w/ KFOLD CV Results (k=5, threshold = 0.5):\n",
      "XG Boost Accuracy scores:  [0.7831494132072166, 0.7712183585880704, 0.7765612682841377, 0.7770868003853902, 0.7704300604361917] \n",
      "\n",
      "Simple mean cv accuracy: 0.776 + 0.005\n",
      "XG Boost Precision scores:  [0.6430594900849859, 0.564625850340136, 0.595575221238938, 0.6136576239476146, 0.6022927689594356] \n",
      "\n",
      "Simple mean cv precision: 0.604 +- 0.025\n",
      "XG Boost Recall scores:  [0.24505217704210147, 0.2402315484804631, 0.24322370798698953, 0.23529411764705882, 0.23939712583245706] \n",
      "\n",
      "Simple mean cv recall: 0.241 +- 0.003\n",
      "XG Boost Fbeta (beta=0.5) scores:  [0.48538845331432645, 0.44456347080878406, 0.46178125428845884, 0.46432616081540196, 0.4621735011503586] \n",
      "\n",
      "Simple mean cv Fbeta (beta=0.5): 0.464 +- 0.013\n",
      "XG Boost F1 scores:  [0.35487232933819696, 0.33705583756345175, 0.3453938927380036, 0.340160746694322, 0.34261349385502887] \n",
      "\n",
      "Simple mean cv F1: 0.344 +- 0.006\n"
     ]
    }
   ],
   "source": [
    "xg_model = xgboost_eval_kfold(X,y, k=5, threshold = 0.5)"
   ]
  },
  {
   "cell_type": "markdown",
   "metadata": {},
   "source": [
    "Updating the table with these results:"
   ]
  },
  {
   "cell_type": "markdown",
   "metadata": {},
   "source": [
    "| Model Type              | Features   | Mean Precision Score |Mean FBeta (beta = 0.5 Score)|\n",
    "| ------------------------|------------| ---------------------|-----------------------------|\n",
    "| KNN (n=41)              | columns_1  | .533 +- .012         | .272 +- .007                |\n",
    "| Logistic Regression     | columns_1  | .553 +- .025         | .307 +- .010                |\n",
    "| Random Forest (untuned) | columns_1  | .531 +- .008         | .326 +- .007                |\n",
    "| XGBoost (untuned)       | columns_1  | .578 +- .004         | .301 +- .007                |\n",
    "| KNN (n=41)              | columns_2* | .540 +- .016         | .288 +- .011                |\n",
    "| Logistic Regression     | columns_2* | .631 +- .026         | .318 +- .015                |\n",
    "| Random Forest (untuned) | columns_2* | .579 +- .010         | .456 +- .008                |\n",
    "| XGBoost (untuned)       | columns_2* | .604 +- .025         | .464 +- .013                |"
   ]
  },
  {
   "cell_type": "markdown",
   "metadata": {},
   "source": [
    "*column_2 is the same as column_1, just with place_odds included in the features"
   ]
  },
  {
   "cell_type": "markdown",
   "metadata": {},
   "source": [
    "# Changing Rolling Averages from 3 Races to 2:"
   ]
  },
  {
   "cell_type": "markdown",
   "metadata": {},
   "source": [
    "What if there is more variability in race to race results, so the previous two races have more of an effect than three?"
   ]
  },
  {
   "cell_type": "markdown",
   "metadata": {},
   "source": [
    "### Changnig to Markdown after initial pickle/cleaning:"
   ]
  },
  {
   "cell_type": "markdown",
   "metadata": {},
   "source": [
    "training_horses_5 = pd.read_pickle('./Data/training_horses_5.pkl')\n",
    "\n",
    "training_horses_5_copy = training_horses_5.copy()\n",
    "\n",
    "training_horses_5_copy.info()"
   ]
  },
  {
   "cell_type": "markdown",
   "metadata": {},
   "source": [
    "### Data Cleaning:"
   ]
  },
  {
   "cell_type": "markdown",
   "metadata": {},
   "source": [
    "for i, value in enumerate(training_horses_5_copy['horse_type']):\n",
    "    if training_horses_5_copy.iloc[i, 5] == 'Brown':\n",
    "        training_horses_5_copy.iloc[i, 5] = \"Gelding\"\n",
    "    elif training_horses_5_copy.iloc[i, 5] == 'Roan':\n",
    "        training_horses_5_copy.iloc[i, 5] = \"Gelding\"\n",
    "    elif training_horses_5_copy.iloc[i, 5] == 'Grey':\n",
    "        training_horses_5_copy.iloc[i, 5] = \"Gelding\""
   ]
  },
  {
   "cell_type": "markdown",
   "metadata": {},
   "source": [
    "#FIlling in any nan gender values with Gelding, for same rationale above.\n",
    "training_horses_5_copy.horse_type.fillna(value='Gelding', inplace=True)"
   ]
  },
  {
   "cell_type": "markdown",
   "metadata": {},
   "source": [
    "training_horses_5_copy.horse_type.value_counts()"
   ]
  },
  {
   "cell_type": "markdown",
   "metadata": {},
   "source": [
    "training_horses_5_copy.horse_country.fillna(value='AUS', inplace=True)"
   ]
  },
  {
   "cell_type": "markdown",
   "metadata": {},
   "source": [
    "### Various Feature Engineering Metrics"
   ]
  },
  {
   "cell_type": "markdown",
   "metadata": {},
   "source": [
    "training_horses_5_cleaned = training_horses_5_copy[training_horses_5_copy['two_race_rolling_average_lengths'].notna()]"
   ]
  },
  {
   "cell_type": "markdown",
   "metadata": {},
   "source": [
    "## Pickling Data, so i don't have to clean again."
   ]
  },
  {
   "cell_type": "markdown",
   "metadata": {},
   "source": [
    "Changing code to markdown after using once:"
   ]
  },
  {
   "cell_type": "markdown",
   "metadata": {},
   "source": [
    "training_horses_5_cleaned.to_pickle(\"./Data/training_horses_5_cleaned.pkl\")"
   ]
  },
  {
   "cell_type": "markdown",
   "metadata": {},
   "source": [
    "Reading in the pickled data:"
   ]
  },
  {
   "cell_type": "code",
   "execution_count": 36,
   "metadata": {},
   "outputs": [],
   "source": [
    "training_horses_5_cleaned = pd.read_pickle('./Data/training_horses_5_cleaned.pkl')"
   ]
  },
  {
   "cell_type": "markdown",
   "metadata": {},
   "source": [
    "### One Hot Encoding of Gender (horse_type):"
   ]
  },
  {
   "cell_type": "code",
   "execution_count": 37,
   "metadata": {},
   "outputs": [],
   "source": [
    "ohe = OneHotEncoder(drop='first', sparse=False)"
   ]
  },
  {
   "cell_type": "code",
   "execution_count": 38,
   "metadata": {},
   "outputs": [],
   "source": [
    "training_model_gender_cat = training_horses_5_cleaned.loc[:, ['horse_type']]"
   ]
  },
  {
   "cell_type": "code",
   "execution_count": 39,
   "metadata": {
    "scrolled": true
   },
   "outputs": [
    {
     "data": {
      "text/html": [
       "<div>\n",
       "<style scoped>\n",
       "    .dataframe tbody tr th:only-of-type {\n",
       "        vertical-align: middle;\n",
       "    }\n",
       "\n",
       "    .dataframe tbody tr th {\n",
       "        vertical-align: top;\n",
       "    }\n",
       "\n",
       "    .dataframe thead th {\n",
       "        text-align: right;\n",
       "    }\n",
       "</style>\n",
       "<table border=\"1\" class=\"dataframe\">\n",
       "  <thead>\n",
       "    <tr style=\"text-align: right;\">\n",
       "      <th></th>\n",
       "      <th>horse_type_Filly</th>\n",
       "      <th>horse_type_Gelding</th>\n",
       "      <th>horse_type_Horse</th>\n",
       "      <th>horse_type_Mare</th>\n",
       "      <th>horse_type_Rig</th>\n",
       "    </tr>\n",
       "  </thead>\n",
       "  <tbody>\n",
       "    <tr>\n",
       "      <th>20561</th>\n",
       "      <td>0.0</td>\n",
       "      <td>1.0</td>\n",
       "      <td>0.0</td>\n",
       "      <td>0.0</td>\n",
       "      <td>0.0</td>\n",
       "    </tr>\n",
       "    <tr>\n",
       "      <th>36162</th>\n",
       "      <td>0.0</td>\n",
       "      <td>1.0</td>\n",
       "      <td>0.0</td>\n",
       "      <td>0.0</td>\n",
       "      <td>0.0</td>\n",
       "    </tr>\n",
       "    <tr>\n",
       "      <th>51550</th>\n",
       "      <td>0.0</td>\n",
       "      <td>1.0</td>\n",
       "      <td>0.0</td>\n",
       "      <td>0.0</td>\n",
       "      <td>0.0</td>\n",
       "    </tr>\n",
       "    <tr>\n",
       "      <th>41157</th>\n",
       "      <td>0.0</td>\n",
       "      <td>1.0</td>\n",
       "      <td>0.0</td>\n",
       "      <td>0.0</td>\n",
       "      <td>0.0</td>\n",
       "    </tr>\n",
       "    <tr>\n",
       "      <th>58776</th>\n",
       "      <td>0.0</td>\n",
       "      <td>1.0</td>\n",
       "      <td>0.0</td>\n",
       "      <td>0.0</td>\n",
       "      <td>0.0</td>\n",
       "    </tr>\n",
       "    <tr>\n",
       "      <th>13696</th>\n",
       "      <td>0.0</td>\n",
       "      <td>1.0</td>\n",
       "      <td>0.0</td>\n",
       "      <td>0.0</td>\n",
       "      <td>0.0</td>\n",
       "    </tr>\n",
       "    <tr>\n",
       "      <th>47097</th>\n",
       "      <td>0.0</td>\n",
       "      <td>1.0</td>\n",
       "      <td>0.0</td>\n",
       "      <td>0.0</td>\n",
       "      <td>0.0</td>\n",
       "    </tr>\n",
       "    <tr>\n",
       "      <th>52558</th>\n",
       "      <td>0.0</td>\n",
       "      <td>1.0</td>\n",
       "      <td>0.0</td>\n",
       "      <td>0.0</td>\n",
       "      <td>0.0</td>\n",
       "    </tr>\n",
       "    <tr>\n",
       "      <th>59078</th>\n",
       "      <td>0.0</td>\n",
       "      <td>1.0</td>\n",
       "      <td>0.0</td>\n",
       "      <td>0.0</td>\n",
       "      <td>0.0</td>\n",
       "    </tr>\n",
       "    <tr>\n",
       "      <th>43740</th>\n",
       "      <td>0.0</td>\n",
       "      <td>1.0</td>\n",
       "      <td>0.0</td>\n",
       "      <td>0.0</td>\n",
       "      <td>0.0</td>\n",
       "    </tr>\n",
       "    <tr>\n",
       "      <th>14408</th>\n",
       "      <td>0.0</td>\n",
       "      <td>1.0</td>\n",
       "      <td>0.0</td>\n",
       "      <td>0.0</td>\n",
       "      <td>0.0</td>\n",
       "    </tr>\n",
       "    <tr>\n",
       "      <th>4020</th>\n",
       "      <td>0.0</td>\n",
       "      <td>1.0</td>\n",
       "      <td>0.0</td>\n",
       "      <td>0.0</td>\n",
       "      <td>0.0</td>\n",
       "    </tr>\n",
       "    <tr>\n",
       "      <th>1746</th>\n",
       "      <td>0.0</td>\n",
       "      <td>1.0</td>\n",
       "      <td>0.0</td>\n",
       "      <td>0.0</td>\n",
       "      <td>0.0</td>\n",
       "    </tr>\n",
       "    <tr>\n",
       "      <th>33467</th>\n",
       "      <td>0.0</td>\n",
       "      <td>1.0</td>\n",
       "      <td>0.0</td>\n",
       "      <td>0.0</td>\n",
       "      <td>0.0</td>\n",
       "    </tr>\n",
       "    <tr>\n",
       "      <th>48269</th>\n",
       "      <td>0.0</td>\n",
       "      <td>1.0</td>\n",
       "      <td>0.0</td>\n",
       "      <td>0.0</td>\n",
       "      <td>0.0</td>\n",
       "    </tr>\n",
       "    <tr>\n",
       "      <th>42834</th>\n",
       "      <td>0.0</td>\n",
       "      <td>1.0</td>\n",
       "      <td>0.0</td>\n",
       "      <td>0.0</td>\n",
       "      <td>0.0</td>\n",
       "    </tr>\n",
       "    <tr>\n",
       "      <th>13753</th>\n",
       "      <td>0.0</td>\n",
       "      <td>1.0</td>\n",
       "      <td>0.0</td>\n",
       "      <td>0.0</td>\n",
       "      <td>0.0</td>\n",
       "    </tr>\n",
       "    <tr>\n",
       "      <th>37022</th>\n",
       "      <td>0.0</td>\n",
       "      <td>1.0</td>\n",
       "      <td>0.0</td>\n",
       "      <td>0.0</td>\n",
       "      <td>0.0</td>\n",
       "    </tr>\n",
       "    <tr>\n",
       "      <th>23012</th>\n",
       "      <td>0.0</td>\n",
       "      <td>1.0</td>\n",
       "      <td>0.0</td>\n",
       "      <td>0.0</td>\n",
       "      <td>0.0</td>\n",
       "    </tr>\n",
       "    <tr>\n",
       "      <th>39280</th>\n",
       "      <td>0.0</td>\n",
       "      <td>1.0</td>\n",
       "      <td>0.0</td>\n",
       "      <td>0.0</td>\n",
       "      <td>0.0</td>\n",
       "    </tr>\n",
       "  </tbody>\n",
       "</table>\n",
       "</div>"
      ],
      "text/plain": [
       "       horse_type_Filly  horse_type_Gelding  horse_type_Horse  \\\n",
       "20561               0.0                 1.0               0.0   \n",
       "36162               0.0                 1.0               0.0   \n",
       "51550               0.0                 1.0               0.0   \n",
       "41157               0.0                 1.0               0.0   \n",
       "58776               0.0                 1.0               0.0   \n",
       "13696               0.0                 1.0               0.0   \n",
       "47097               0.0                 1.0               0.0   \n",
       "52558               0.0                 1.0               0.0   \n",
       "59078               0.0                 1.0               0.0   \n",
       "43740               0.0                 1.0               0.0   \n",
       "14408               0.0                 1.0               0.0   \n",
       "4020                0.0                 1.0               0.0   \n",
       "1746                0.0                 1.0               0.0   \n",
       "33467               0.0                 1.0               0.0   \n",
       "48269               0.0                 1.0               0.0   \n",
       "42834               0.0                 1.0               0.0   \n",
       "13753               0.0                 1.0               0.0   \n",
       "37022               0.0                 1.0               0.0   \n",
       "23012               0.0                 1.0               0.0   \n",
       "39280               0.0                 1.0               0.0   \n",
       "\n",
       "       horse_type_Mare  horse_type_Rig  \n",
       "20561              0.0             0.0  \n",
       "36162              0.0             0.0  \n",
       "51550              0.0             0.0  \n",
       "41157              0.0             0.0  \n",
       "58776              0.0             0.0  \n",
       "13696              0.0             0.0  \n",
       "47097              0.0             0.0  \n",
       "52558              0.0             0.0  \n",
       "59078              0.0             0.0  \n",
       "43740              0.0             0.0  \n",
       "14408              0.0             0.0  \n",
       "4020               0.0             0.0  \n",
       "1746               0.0             0.0  \n",
       "33467              0.0             0.0  \n",
       "48269              0.0             0.0  \n",
       "42834              0.0             0.0  \n",
       "13753              0.0             0.0  \n",
       "37022              0.0             0.0  \n",
       "23012              0.0             0.0  \n",
       "39280              0.0             0.0  "
      ]
     },
     "execution_count": 39,
     "metadata": {},
     "output_type": "execute_result"
    }
   ],
   "source": [
    "ohe.fit(training_model_gender_cat)\n",
    "\n",
    "ohe_X = ohe.transform(training_model_gender_cat)\n",
    "\n",
    "columns = ohe.get_feature_names(['horse_type'])\n",
    "\n",
    "ohe_X_df = pd.DataFrame(ohe_X, columns=columns, index=training_model_gender_cat.index)\n",
    "\n",
    "ohe_X_df.sample(20)"
   ]
  },
  {
   "cell_type": "markdown",
   "metadata": {},
   "source": [
    "Concatenating back into the original data frame:"
   ]
  },
  {
   "cell_type": "code",
   "execution_count": 40,
   "metadata": {},
   "outputs": [],
   "source": [
    "comb_training_horses_5_cleaned = pd.concat([training_horses_5_cleaned, ohe_X_df], axis=1)"
   ]
  },
  {
   "cell_type": "code",
   "execution_count": 41,
   "metadata": {
    "scrolled": false
   },
   "outputs": [
    {
     "data": {
      "text/html": [
       "<div>\n",
       "<style scoped>\n",
       "    .dataframe tbody tr th:only-of-type {\n",
       "        vertical-align: middle;\n",
       "    }\n",
       "\n",
       "    .dataframe tbody tr th {\n",
       "        vertical-align: top;\n",
       "    }\n",
       "\n",
       "    .dataframe thead th {\n",
       "        text-align: right;\n",
       "    }\n",
       "</style>\n",
       "<table border=\"1\" class=\"dataframe\">\n",
       "  <thead>\n",
       "    <tr style=\"text-align: right;\">\n",
       "      <th></th>\n",
       "      <th>race_id</th>\n",
       "      <th>horse_id</th>\n",
       "      <th>result</th>\n",
       "      <th>lengths_behind</th>\n",
       "      <th>horse_age</th>\n",
       "      <th>horse_type</th>\n",
       "      <th>horse_country</th>\n",
       "      <th>horse_rating</th>\n",
       "      <th>horse_gear</th>\n",
       "      <th>declared_weight</th>\n",
       "      <th>...</th>\n",
       "      <th>diff_from_field_handicap_wgt_avg</th>\n",
       "      <th>field_handicap_wgt_rank</th>\n",
       "      <th>career_races</th>\n",
       "      <th>career_shows</th>\n",
       "      <th>shows_in_last_5_races</th>\n",
       "      <th>horse_type_Filly</th>\n",
       "      <th>horse_type_Gelding</th>\n",
       "      <th>horse_type_Horse</th>\n",
       "      <th>horse_type_Mare</th>\n",
       "      <th>horse_type_Rig</th>\n",
       "    </tr>\n",
       "  </thead>\n",
       "  <tbody>\n",
       "    <tr>\n",
       "      <th>1</th>\n",
       "      <td>6348</td>\n",
       "      <td>1698</td>\n",
       "      <td>2</td>\n",
       "      <td>0.20</td>\n",
       "      <td>6</td>\n",
       "      <td>Gelding</td>\n",
       "      <td>AUS</td>\n",
       "      <td>92</td>\n",
       "      <td>TT/B</td>\n",
       "      <td>1172.0</td>\n",
       "      <td>...</td>\n",
       "      <td>4.214286</td>\n",
       "      <td>4</td>\n",
       "      <td>36</td>\n",
       "      <td>13.0</td>\n",
       "      <td>2.0</td>\n",
       "      <td>0.0</td>\n",
       "      <td>1.0</td>\n",
       "      <td>0.0</td>\n",
       "      <td>0.0</td>\n",
       "      <td>0.0</td>\n",
       "    </tr>\n",
       "    <tr>\n",
       "      <th>2</th>\n",
       "      <td>6348</td>\n",
       "      <td>932</td>\n",
       "      <td>3</td>\n",
       "      <td>0.50</td>\n",
       "      <td>5</td>\n",
       "      <td>Gelding</td>\n",
       "      <td>AUS</td>\n",
       "      <td>88</td>\n",
       "      <td>B</td>\n",
       "      <td>1060.0</td>\n",
       "      <td>...</td>\n",
       "      <td>0.214286</td>\n",
       "      <td>8</td>\n",
       "      <td>19</td>\n",
       "      <td>6.0</td>\n",
       "      <td>1.0</td>\n",
       "      <td>0.0</td>\n",
       "      <td>1.0</td>\n",
       "      <td>0.0</td>\n",
       "      <td>0.0</td>\n",
       "      <td>0.0</td>\n",
       "    </tr>\n",
       "    <tr>\n",
       "      <th>3</th>\n",
       "      <td>6348</td>\n",
       "      <td>833</td>\n",
       "      <td>4</td>\n",
       "      <td>0.75</td>\n",
       "      <td>4</td>\n",
       "      <td>Gelding</td>\n",
       "      <td>IRE</td>\n",
       "      <td>89</td>\n",
       "      <td>CP</td>\n",
       "      <td>1154.0</td>\n",
       "      <td>...</td>\n",
       "      <td>1.214286</td>\n",
       "      <td>7</td>\n",
       "      <td>19</td>\n",
       "      <td>9.0</td>\n",
       "      <td>2.0</td>\n",
       "      <td>0.0</td>\n",
       "      <td>1.0</td>\n",
       "      <td>0.0</td>\n",
       "      <td>0.0</td>\n",
       "      <td>0.0</td>\n",
       "    </tr>\n",
       "    <tr>\n",
       "      <th>4</th>\n",
       "      <td>6348</td>\n",
       "      <td>3368</td>\n",
       "      <td>5</td>\n",
       "      <td>1.25</td>\n",
       "      <td>3</td>\n",
       "      <td>Gelding</td>\n",
       "      <td>GER</td>\n",
       "      <td>91</td>\n",
       "      <td>TT/B/H</td>\n",
       "      <td>1147.0</td>\n",
       "      <td>...</td>\n",
       "      <td>3.214286</td>\n",
       "      <td>5</td>\n",
       "      <td>4</td>\n",
       "      <td>4.0</td>\n",
       "      <td>4.0</td>\n",
       "      <td>0.0</td>\n",
       "      <td>1.0</td>\n",
       "      <td>0.0</td>\n",
       "      <td>0.0</td>\n",
       "      <td>0.0</td>\n",
       "    </tr>\n",
       "    <tr>\n",
       "      <th>5</th>\n",
       "      <td>6348</td>\n",
       "      <td>1238</td>\n",
       "      <td>6</td>\n",
       "      <td>1.25</td>\n",
       "      <td>5</td>\n",
       "      <td>Gelding</td>\n",
       "      <td>AUS</td>\n",
       "      <td>87</td>\n",
       "      <td>TT/V</td>\n",
       "      <td>1191.0</td>\n",
       "      <td>...</td>\n",
       "      <td>-2.785714</td>\n",
       "      <td>10</td>\n",
       "      <td>25</td>\n",
       "      <td>12.0</td>\n",
       "      <td>1.0</td>\n",
       "      <td>0.0</td>\n",
       "      <td>1.0</td>\n",
       "      <td>0.0</td>\n",
       "      <td>0.0</td>\n",
       "      <td>0.0</td>\n",
       "    </tr>\n",
       "  </tbody>\n",
       "</table>\n",
       "<p>5 rows × 45 columns</p>\n",
       "</div>"
      ],
      "text/plain": [
       "   race_id  horse_id  result  lengths_behind  horse_age horse_type  \\\n",
       "1     6348      1698       2            0.20          6    Gelding   \n",
       "2     6348       932       3            0.50          5    Gelding   \n",
       "3     6348       833       4            0.75          4    Gelding   \n",
       "4     6348      3368       5            1.25          3    Gelding   \n",
       "5     6348      1238       6            1.25          5    Gelding   \n",
       "\n",
       "  horse_country  horse_rating horse_gear  declared_weight  ...  \\\n",
       "1           AUS            92       TT/B           1172.0  ...   \n",
       "2           AUS            88          B           1060.0  ...   \n",
       "3           IRE            89         CP           1154.0  ...   \n",
       "4           GER            91     TT/B/H           1147.0  ...   \n",
       "5           AUS            87       TT/V           1191.0  ...   \n",
       "\n",
       "   diff_from_field_handicap_wgt_avg  field_handicap_wgt_rank  career_races  \\\n",
       "1                          4.214286                        4            36   \n",
       "2                          0.214286                        8            19   \n",
       "3                          1.214286                        7            19   \n",
       "4                          3.214286                        5             4   \n",
       "5                         -2.785714                       10            25   \n",
       "\n",
       "   career_shows shows_in_last_5_races horse_type_Filly horse_type_Gelding  \\\n",
       "1          13.0                   2.0              0.0                1.0   \n",
       "2           6.0                   1.0              0.0                1.0   \n",
       "3           9.0                   2.0              0.0                1.0   \n",
       "4           4.0                   4.0              0.0                1.0   \n",
       "5          12.0                   1.0              0.0                1.0   \n",
       "\n",
       "   horse_type_Horse  horse_type_Mare  horse_type_Rig  \n",
       "1               0.0              0.0             0.0  \n",
       "2               0.0              0.0             0.0  \n",
       "3               0.0              0.0             0.0  \n",
       "4               0.0              0.0             0.0  \n",
       "5               0.0              0.0             0.0  \n",
       "\n",
       "[5 rows x 45 columns]"
      ]
     },
     "execution_count": 41,
     "metadata": {},
     "output_type": "execute_result"
    }
   ],
   "source": [
    "comb_training_horses_5_cleaned.head()"
   ]
  },
  {
   "cell_type": "code",
   "execution_count": 42,
   "metadata": {
    "scrolled": true
   },
   "outputs": [
    {
     "data": {
      "text/html": [
       "<div>\n",
       "<style scoped>\n",
       "    .dataframe tbody tr th:only-of-type {\n",
       "        vertical-align: middle;\n",
       "    }\n",
       "\n",
       "    .dataframe tbody tr th {\n",
       "        vertical-align: top;\n",
       "    }\n",
       "\n",
       "    .dataframe thead th {\n",
       "        text-align: right;\n",
       "    }\n",
       "</style>\n",
       "<table border=\"1\" class=\"dataframe\">\n",
       "  <thead>\n",
       "    <tr style=\"text-align: right;\">\n",
       "      <th></th>\n",
       "      <th>race_id</th>\n",
       "      <th>horse_id</th>\n",
       "      <th>result</th>\n",
       "      <th>lengths_behind</th>\n",
       "      <th>horse_age</th>\n",
       "      <th>horse_country</th>\n",
       "      <th>horse_rating</th>\n",
       "      <th>horse_gear</th>\n",
       "      <th>declared_weight</th>\n",
       "      <th>actual_weight</th>\n",
       "      <th>...</th>\n",
       "      <th>diff_from_field_handicap_wgt_avg</th>\n",
       "      <th>field_handicap_wgt_rank</th>\n",
       "      <th>career_races</th>\n",
       "      <th>career_shows</th>\n",
       "      <th>shows_in_last_5_races</th>\n",
       "      <th>horse_type_Filly</th>\n",
       "      <th>horse_type_Gelding</th>\n",
       "      <th>horse_type_Horse</th>\n",
       "      <th>horse_type_Mare</th>\n",
       "      <th>horse_type_Rig</th>\n",
       "    </tr>\n",
       "  </thead>\n",
       "  <tbody>\n",
       "    <tr>\n",
       "      <th>1</th>\n",
       "      <td>6348</td>\n",
       "      <td>1698</td>\n",
       "      <td>2</td>\n",
       "      <td>0.20</td>\n",
       "      <td>6</td>\n",
       "      <td>AUS</td>\n",
       "      <td>92</td>\n",
       "      <td>TT/B</td>\n",
       "      <td>1172.0</td>\n",
       "      <td>129</td>\n",
       "      <td>...</td>\n",
       "      <td>4.214286</td>\n",
       "      <td>4</td>\n",
       "      <td>36</td>\n",
       "      <td>13.0</td>\n",
       "      <td>2.0</td>\n",
       "      <td>0.0</td>\n",
       "      <td>1.0</td>\n",
       "      <td>0.0</td>\n",
       "      <td>0.0</td>\n",
       "      <td>0.0</td>\n",
       "    </tr>\n",
       "    <tr>\n",
       "      <th>2</th>\n",
       "      <td>6348</td>\n",
       "      <td>932</td>\n",
       "      <td>3</td>\n",
       "      <td>0.50</td>\n",
       "      <td>5</td>\n",
       "      <td>AUS</td>\n",
       "      <td>88</td>\n",
       "      <td>B</td>\n",
       "      <td>1060.0</td>\n",
       "      <td>125</td>\n",
       "      <td>...</td>\n",
       "      <td>0.214286</td>\n",
       "      <td>8</td>\n",
       "      <td>19</td>\n",
       "      <td>6.0</td>\n",
       "      <td>1.0</td>\n",
       "      <td>0.0</td>\n",
       "      <td>1.0</td>\n",
       "      <td>0.0</td>\n",
       "      <td>0.0</td>\n",
       "      <td>0.0</td>\n",
       "    </tr>\n",
       "    <tr>\n",
       "      <th>3</th>\n",
       "      <td>6348</td>\n",
       "      <td>833</td>\n",
       "      <td>4</td>\n",
       "      <td>0.75</td>\n",
       "      <td>4</td>\n",
       "      <td>IRE</td>\n",
       "      <td>89</td>\n",
       "      <td>CP</td>\n",
       "      <td>1154.0</td>\n",
       "      <td>126</td>\n",
       "      <td>...</td>\n",
       "      <td>1.214286</td>\n",
       "      <td>7</td>\n",
       "      <td>19</td>\n",
       "      <td>9.0</td>\n",
       "      <td>2.0</td>\n",
       "      <td>0.0</td>\n",
       "      <td>1.0</td>\n",
       "      <td>0.0</td>\n",
       "      <td>0.0</td>\n",
       "      <td>0.0</td>\n",
       "    </tr>\n",
       "    <tr>\n",
       "      <th>4</th>\n",
       "      <td>6348</td>\n",
       "      <td>3368</td>\n",
       "      <td>5</td>\n",
       "      <td>1.25</td>\n",
       "      <td>3</td>\n",
       "      <td>GER</td>\n",
       "      <td>91</td>\n",
       "      <td>TT/B/H</td>\n",
       "      <td>1147.0</td>\n",
       "      <td>128</td>\n",
       "      <td>...</td>\n",
       "      <td>3.214286</td>\n",
       "      <td>5</td>\n",
       "      <td>4</td>\n",
       "      <td>4.0</td>\n",
       "      <td>4.0</td>\n",
       "      <td>0.0</td>\n",
       "      <td>1.0</td>\n",
       "      <td>0.0</td>\n",
       "      <td>0.0</td>\n",
       "      <td>0.0</td>\n",
       "    </tr>\n",
       "    <tr>\n",
       "      <th>5</th>\n",
       "      <td>6348</td>\n",
       "      <td>1238</td>\n",
       "      <td>6</td>\n",
       "      <td>1.25</td>\n",
       "      <td>5</td>\n",
       "      <td>AUS</td>\n",
       "      <td>87</td>\n",
       "      <td>TT/V</td>\n",
       "      <td>1191.0</td>\n",
       "      <td>122</td>\n",
       "      <td>...</td>\n",
       "      <td>-2.785714</td>\n",
       "      <td>10</td>\n",
       "      <td>25</td>\n",
       "      <td>12.0</td>\n",
       "      <td>1.0</td>\n",
       "      <td>0.0</td>\n",
       "      <td>1.0</td>\n",
       "      <td>0.0</td>\n",
       "      <td>0.0</td>\n",
       "      <td>0.0</td>\n",
       "    </tr>\n",
       "  </tbody>\n",
       "</table>\n",
       "<p>5 rows × 44 columns</p>\n",
       "</div>"
      ],
      "text/plain": [
       "   race_id  horse_id  result  lengths_behind  horse_age horse_country  \\\n",
       "1     6348      1698       2            0.20          6           AUS   \n",
       "2     6348       932       3            0.50          5           AUS   \n",
       "3     6348       833       4            0.75          4           IRE   \n",
       "4     6348      3368       5            1.25          3           GER   \n",
       "5     6348      1238       6            1.25          5           AUS   \n",
       "\n",
       "   horse_rating horse_gear  declared_weight  actual_weight  ...  \\\n",
       "1            92       TT/B           1172.0            129  ...   \n",
       "2            88          B           1060.0            125  ...   \n",
       "3            89         CP           1154.0            126  ...   \n",
       "4            91     TT/B/H           1147.0            128  ...   \n",
       "5            87       TT/V           1191.0            122  ...   \n",
       "\n",
       "   diff_from_field_handicap_wgt_avg  field_handicap_wgt_rank  career_races  \\\n",
       "1                          4.214286                        4            36   \n",
       "2                          0.214286                        8            19   \n",
       "3                          1.214286                        7            19   \n",
       "4                          3.214286                        5             4   \n",
       "5                         -2.785714                       10            25   \n",
       "\n",
       "  career_shows shows_in_last_5_races horse_type_Filly  horse_type_Gelding  \\\n",
       "1         13.0                   2.0              0.0                 1.0   \n",
       "2          6.0                   1.0              0.0                 1.0   \n",
       "3          9.0                   2.0              0.0                 1.0   \n",
       "4          4.0                   4.0              0.0                 1.0   \n",
       "5         12.0                   1.0              0.0                 1.0   \n",
       "\n",
       "   horse_type_Horse  horse_type_Mare  horse_type_Rig  \n",
       "1               0.0              0.0             0.0  \n",
       "2               0.0              0.0             0.0  \n",
       "3               0.0              0.0             0.0  \n",
       "4               0.0              0.0             0.0  \n",
       "5               0.0              0.0             0.0  \n",
       "\n",
       "[5 rows x 44 columns]"
      ]
     },
     "execution_count": 42,
     "metadata": {},
     "output_type": "execute_result"
    }
   ],
   "source": [
    "#Removing original horse_type column:\n",
    "comb_training_horses_5_cleaned.drop(columns='horse_type', inplace=True)\n",
    "comb_training_horses_5_cleaned.head()"
   ]
  },
  {
   "cell_type": "markdown",
   "metadata": {},
   "source": [
    "OHE Complete."
   ]
  },
  {
   "cell_type": "markdown",
   "metadata": {},
   "source": [
    "### Feature Selection:"
   ]
  },
  {
   "cell_type": "markdown",
   "metadata": {},
   "source": [
    "Adding one more feature for now - show rate (i.e. column career_shows / career_races):"
   ]
  },
  {
   "cell_type": "code",
   "execution_count": 43,
   "metadata": {},
   "outputs": [],
   "source": [
    "comb_training_horses_5_cleaned['career_show_rate'] = comb_training_horses_5_cleaned['career_shows'] / comb_training_horses_5_cleaned['career_races']"
   ]
  },
  {
   "cell_type": "code",
   "execution_count": 44,
   "metadata": {},
   "outputs": [],
   "source": [
    "comb_training_horses_5_cleaned_po = comb_training_horses_5_cleaned[comb_training_horses_5_cleaned['place_odds'].notna()]"
   ]
  },
  {
   "cell_type": "code",
   "execution_count": 45,
   "metadata": {},
   "outputs": [
    {
     "name": "stdout",
     "output_type": "stream",
     "text": [
      "<class 'pandas.core.frame.DataFrame'>\n",
      "Int64Index: 57086 entries, 2736 to 79203\n",
      "Data columns (total 45 columns):\n",
      " #   Column                                      Non-Null Count  Dtype  \n",
      "---  ------                                      --------------  -----  \n",
      " 0   race_id                                     57086 non-null  int64  \n",
      " 1   horse_id                                    57086 non-null  int64  \n",
      " 2   result                                      57086 non-null  int64  \n",
      " 3   lengths_behind                              57086 non-null  float64\n",
      " 4   horse_age                                   57086 non-null  int64  \n",
      " 5   horse_country                               57086 non-null  object \n",
      " 6   horse_rating                                57086 non-null  int64  \n",
      " 7   horse_gear                                  57086 non-null  object \n",
      " 8   declared_weight                             57086 non-null  float64\n",
      " 9   actual_weight                               57086 non-null  int64  \n",
      " 10  draw                                        57086 non-null  int64  \n",
      " 11  finish_time                                 57086 non-null  float64\n",
      " 12  place_odds                                  57086 non-null  float64\n",
      " 13  date                                        57086 non-null  object \n",
      " 14  venue                                       57086 non-null  object \n",
      " 15  config                                      57086 non-null  object \n",
      " 16  surface                                     57086 non-null  int64  \n",
      " 17  distance                                    57086 non-null  int64  \n",
      " 18  show                                        57086 non-null  int64  \n",
      " 19  two_race_rolling_avg_finish                 57086 non-null  float64\n",
      " 20  two_race_rolling_average_lengths            57086 non-null  float64\n",
      " 21  two_race_rolling_average_time               57086 non-null  float64\n",
      " 22  two_race_rolling_average_distance_per_time  57086 non-null  float64\n",
      " 23  horses_in_field                             57086 non-null  int64  \n",
      " 24  avg_field_rating                            57086 non-null  float64\n",
      " 25  field_rating_rank                           57086 non-null  int64  \n",
      " 26  diff_from_field_rating_avg                  57086 non-null  float64\n",
      " 27  avg_field_age                               57086 non-null  float64\n",
      " 28  field_age_rank                              57086 non-null  int64  \n",
      " 29  diff_from_field_age_avg                     57086 non-null  float64\n",
      " 30  avg_field_dec_wgts                          57086 non-null  float64\n",
      " 31  diff_from_field_declared_wgt_avg            57086 non-null  float64\n",
      " 32  field_dec_wgt_rank                          57086 non-null  int64  \n",
      " 33  avg_field_actual_wgt                        57086 non-null  float64\n",
      " 34  diff_from_field_handicap_wgt_avg            57086 non-null  float64\n",
      " 35  field_handicap_wgt_rank                     57086 non-null  int64  \n",
      " 36  career_races                                57086 non-null  int64  \n",
      " 37  career_shows                                57086 non-null  float64\n",
      " 38  shows_in_last_5_races                       57086 non-null  float64\n",
      " 39  horse_type_Filly                            57086 non-null  float64\n",
      " 40  horse_type_Gelding                          57086 non-null  float64\n",
      " 41  horse_type_Horse                            57086 non-null  float64\n",
      " 42  horse_type_Mare                             57086 non-null  float64\n",
      " 43  horse_type_Rig                              57086 non-null  float64\n",
      " 44  career_show_rate                            57086 non-null  float64\n",
      "dtypes: float64(24), int64(16), object(5)\n",
      "memory usage: 20.0+ MB\n"
     ]
    }
   ],
   "source": [
    "comb_training_horses_5_cleaned_po .info()"
   ]
  },
  {
   "cell_type": "code",
   "execution_count": 46,
   "metadata": {},
   "outputs": [],
   "source": [
    "columns_3 = ['horse_age', 'place_odds','distance', 'horses_in_field','declared_weight', 'actual_weight', 'horse_rating', 'draw', 'two_race_rolling_avg_finish', 'two_race_rolling_average_lengths', 'two_race_rolling_average_time', 'two_race_rolling_average_distance_per_time', 'field_rating_rank', 'diff_from_field_rating_avg', 'field_age_rank', 'diff_from_field_age_avg', 'diff_from_field_declared_wgt_avg', 'field_dec_wgt_rank', 'diff_from_field_handicap_wgt_avg', 'field_handicap_wgt_rank', 'career_races', 'career_shows', 'shows_in_last_5_races', 'career_show_rate', 'horse_type_Filly', 'horse_type_Gelding', 'horse_type_Horse', 'horse_type_Mare', 'horse_type_Rig']"
   ]
  },
  {
   "cell_type": "code",
   "execution_count": 47,
   "metadata": {},
   "outputs": [
    {
     "name": "stdout",
     "output_type": "stream",
     "text": [
      "Feature 1: horse_age\n",
      "Feature 2: place_odds\n",
      "Feature 3: distance\n",
      "Feature 4: horses_in_field\n",
      "Feature 5: declared_weight\n",
      "Feature 6: actual_weight\n",
      "Feature 7: horse_rating\n",
      "Feature 8: draw\n",
      "Feature 9: two_race_rolling_avg_finish\n",
      "Feature 10: two_race_rolling_average_lengths\n",
      "Feature 11: two_race_rolling_average_time\n",
      "Feature 12: two_race_rolling_average_distance_per_time\n",
      "Feature 13: field_rating_rank\n",
      "Feature 14: diff_from_field_rating_avg\n",
      "Feature 15: field_age_rank\n",
      "Feature 16: diff_from_field_age_avg\n",
      "Feature 17: diff_from_field_declared_wgt_avg\n",
      "Feature 18: field_dec_wgt_rank\n",
      "Feature 19: diff_from_field_handicap_wgt_avg\n",
      "Feature 20: field_handicap_wgt_rank\n",
      "Feature 21: career_races\n",
      "Feature 22: career_shows\n",
      "Feature 23: shows_in_last_5_races\n",
      "Feature 24: career_show_rate\n",
      "Feature 25: horse_type_Filly\n",
      "Feature 26: horse_type_Gelding\n",
      "Feature 27: horse_type_Horse\n",
      "Feature 28: horse_type_Mare\n",
      "Feature 29: horse_type_Rig\n"
     ]
    }
   ],
   "source": [
    "for i, feature in enumerate(columns_3, 1):\n",
    "    print(\"Feature {}: {}\".format(i, feature))"
   ]
  },
  {
   "cell_type": "markdown",
   "metadata": {},
   "source": [
    "## Running Baseline Models:"
   ]
  },
  {
   "cell_type": "markdown",
   "metadata": {},
   "source": [
    "All models with K-Fold cross validation w/ k=5 folds."
   ]
  },
  {
   "cell_type": "code",
   "execution_count": 48,
   "metadata": {},
   "outputs": [],
   "source": [
    "X = comb_training_horses_5_cleaned_po[columns_3]\n",
    "y = comb_training_horses_5_cleaned_po['show']"
   ]
  },
  {
   "cell_type": "code",
   "execution_count": 49,
   "metadata": {
    "scrolled": false
   },
   "outputs": [
    {
     "name": "stdout",
     "output_type": "stream",
     "text": [
      "Confusion Matrix for Fold 1\n",
      "[[8410  229]\n",
      " [2475  304]]\n",
      "\n",
      "\n",
      "Confusion Matrix for Fold 2\n",
      "[[8426  227]\n",
      " [2508  256]]\n",
      "\n",
      "\n",
      "Confusion Matrix for Fold 3\n",
      "[[8395  255]\n",
      " [2464  303]]\n",
      "\n",
      "\n",
      "Confusion Matrix for Fold 4\n",
      "[[8394  235]\n",
      " [2493  295]]\n",
      "\n",
      "\n",
      "Confusion Matrix for Fold 5\n",
      "[[8311  253]\n",
      " [2536  317]]\n",
      "\n",
      "\n",
      "KNN Classification w/ KFOLD CV Results (k=5):\n",
      "KNN Accuracy scores:  [0.7631809423716939, 0.7604449505123938, 0.7618463694490671, 0.7610580712971884, 0.7557151616011212] \n",
      "\n",
      "Simple mean cv accuracy: 0.760 + 0.003 \n",
      "\n",
      "KNN Precision scores:  [0.5703564727954972, 0.5300207039337475, 0.543010752688172, 0.5566037735849056, 0.5561403508771929] \n",
      "\n",
      "Simple mean cv precision: 0.551 +- 0.014 \n",
      "\n",
      "KNN Recall scores:  [0.10939186757826556, 0.09261939218523878, 0.10950487893024936, 0.1058106169296987, 0.1111111111111111] \n",
      "\n",
      "Simple mean cv recall: 0.106 +- 0.007 \n",
      "\n",
      "KNN Fbeta (beta=0.5) scores:  [0.30950926491549585, 0.27257240204429295, 0.30306061212242447, 0.3005297473512632, 0.3087862848236898] \n",
      "\n",
      "Simple mean cv Fbeta (beta=0.5): 0.299 +- 0.014 \n",
      "\n",
      "KNN F1 scores:  [0.18357487922705315, 0.15768401601478288, 0.18225563909774434, 0.1778179626280892, 0.1852176453403447] \n",
      "\n",
      "Simple mean cv F1: 0.177 +- 0.010 \n",
      "\n"
     ]
    }
   ],
   "source": [
    "knn = KNN_accuracy_scorer_f_fold(X, y, n = 41, k=5)"
   ]
  },
  {
   "cell_type": "code",
   "execution_count": 50,
   "metadata": {
    "scrolled": false
   },
   "outputs": [
    {
     "name": "stdout",
     "output_type": "stream",
     "text": [
      "Confusion Matrix for Fold 1\n",
      "[[8479  160]\n",
      " [2461  318]]\n",
      "\n",
      "\n",
      "Confusion Matrix for Fold 2\n",
      "[[8467  186]\n",
      " [2485  279]]\n",
      "\n",
      "\n",
      "Confusion Matrix for Fold 3\n",
      "[[8446  204]\n",
      " [2461  306]]\n",
      "\n",
      "\n",
      "Confusion Matrix for Fold 4\n",
      "[[8469  160]\n",
      " [2515  273]]\n",
      "\n",
      "\n",
      "Confusion Matrix for Fold 5\n",
      "[[8384  180]\n",
      " [2539  314]]\n",
      "\n",
      "\n",
      "Logistic Regression Classification w/ KFOLD CV Results (k=5):\n",
      "Log. Reg Accuracy scores:  [0.7704501664039236, 0.7660506262590874, 0.7665761583603399, 0.7657002715249189, 0.7618463694490671] \n",
      "\n",
      "Simple mean cv accuracy: 0.766 + 0.003 \n",
      "\n",
      "Log. Reg Precision scores:  [0.6652719665271967, 0.6, 0.6, 0.6304849884526559, 0.6356275303643725] \n",
      "\n",
      "Simple mean cv precision: 0.626 +- 0.025 \n",
      "\n",
      "Log. Reg Recall scores:  [0.11442965095358043, 0.10094066570188133, 0.11058908565233104, 0.0979196556671449, 0.11005958640028041] \n",
      "\n",
      "Simple mean cv recall: 0.107 +- 0.006 \n",
      "\n",
      "Log. Reg Fbeta (beta=0.5) scores:  [0.33894691963334045, 0.30168685121107264, 0.31828583315997505, 0.3019911504424779, 0.3251190722716918] \n",
      "\n",
      "Simple mean cv Fbeta (beta=0.5): 0.317 +- 0.014 \n",
      "\n",
      "Log. Reg F1 scores:  [0.19527172244396684, 0.17280891917002167, 0.18675617943240766, 0.16951257373486495, 0.18763071407230356] \n",
      "\n",
      "Simple mean cv F1: 0.182 +- 0.010 \n",
      "\n",
      "Log. Reg Log Loss scores:  [7.928381578792234, 8.08033813400442, 8.062188158913264, 8.092437136898916, 8.225547599658366] \n",
      "\n",
      "Simple mean cv log loss: 8.078 +- 0.094 \n",
      "\n"
     ]
    }
   ],
   "source": [
    "logreg = log_accuracy_scorer_k_fold(X, y, k=5, threshold=0.5, C=1)"
   ]
  },
  {
   "cell_type": "code",
   "execution_count": 51,
   "metadata": {
    "scrolled": false
   },
   "outputs": [
    {
     "name": "stdout",
     "output_type": "stream",
     "text": [
      "Confusion Matrix for Fold 1\n",
      "[[8170  469]\n",
      " [2076  703]]\n",
      "\n",
      "\n",
      "Confusion Matrix for Fold 2\n",
      "[[8142  511]\n",
      " [2106  658]]\n",
      "\n",
      "\n",
      "Confusion Matrix for Fold 3\n",
      "[[8147  503]\n",
      " [2084  683]]\n",
      "\n",
      "\n",
      "Confusion Matrix for Fold 4\n",
      "[[8162  467]\n",
      " [2115  673]]\n",
      "\n",
      "\n",
      "Confusion Matrix for Fold 5\n",
      "[[8035  529]\n",
      " [2133  720]]\n",
      "\n",
      "\n",
      "Random Forest Classification w/ KFOLD CV Results (k=5, threshold = 0.5):\n",
      "Random Forest Accuracy scores:  [0.7770187423366615, 0.7713059472716125, 0.774897083296838, 0.7749846719803801, 0.7673644565122186] \n",
      "\n",
      "Simple mean cv accuracy: 0.773 + 0.003\n",
      "Random Forest Precision scores:  [0.5998293515358362, 0.562874251497006, 0.575885328836425, 0.5903508771929824, 0.5764611689351481] \n",
      "\n",
      "Simple mean cv precision: 0.581 +- 0.013\n",
      "Random Forest Recall scores:  [0.25296869377473913, 0.23806078147612156, 0.24683773039392845, 0.24139167862266858, 0.25236593059936907] \n",
      "\n",
      "Simple mean cv recall: 0.246 +- 0.006\n",
      "Random Forest Fbeta (beta=0.5) scores:  [0.47073791348600513, 0.4422043010752688, 0.4546664891492478, 0.4579477408818726, 0.45865715377755123] \n",
      "\n",
      "Simple mean cv Fbeta (beta=0.5): 0.457 +- 0.009\n",
      "Random Forest F1 scores:  [0.3558592761326247, 0.334604627510806, 0.34556033392360236, 0.3426680244399185, 0.35104826913700626] \n",
      "\n",
      "Simple mean cv F1: 0.346 +- 0.007\n"
     ]
    }
   ],
   "source": [
    "rf_model = random_forest_eval_kfold(X,y, k=5)"
   ]
  },
  {
   "cell_type": "code",
   "execution_count": 52,
   "metadata": {
    "scrolled": false
   },
   "outputs": [
    {
     "name": "stdout",
     "output_type": "stream",
     "text": [
      "[09:25:12] WARNING: /Users/runner/miniforge3/conda-bld/xgboost_1607604592557/work/src/learner.cc:1061: Starting in XGBoost 1.3.0, the default evaluation metric used with the objective 'binary:logistic' was changed from 'error' to 'logloss'. Explicitly set eval_metric if you'd like to restore the old behavior.\n",
      "Confusion Matrix for Fold 1\n",
      "[[8260  379]\n",
      " [2099  680]]\n",
      "\n",
      "\n",
      "[09:25:18] WARNING: /Users/runner/miniforge3/conda-bld/xgboost_1607604592557/work/src/learner.cc:1061: Starting in XGBoost 1.3.0, the default evaluation metric used with the objective 'binary:logistic' was changed from 'error' to 'logloss'. Explicitly set eval_metric if you'd like to restore the old behavior.\n",
      "Confusion Matrix for Fold 2\n",
      "[[8173  480]\n",
      " [2111  653]]\n",
      "\n",
      "\n",
      "[09:25:25] WARNING: /Users/runner/miniforge3/conda-bld/xgboost_1607604592557/work/src/learner.cc:1061: Starting in XGBoost 1.3.0, the default evaluation metric used with the objective 'binary:logistic' was changed from 'error' to 'logloss'. Explicitly set eval_metric if you'd like to restore the old behavior.\n",
      "Confusion Matrix for Fold 3\n",
      "[[8207  443]\n",
      " [2108  659]]\n",
      "\n",
      "\n",
      "[09:25:31] WARNING: /Users/runner/miniforge3/conda-bld/xgboost_1607604592557/work/src/learner.cc:1061: Starting in XGBoost 1.3.0, the default evaluation metric used with the objective 'binary:logistic' was changed from 'error' to 'logloss'. Explicitly set eval_metric if you'd like to restore the old behavior.\n",
      "Confusion Matrix for Fold 4\n",
      "[[8213  416]\n",
      " [2138  650]]\n",
      "\n",
      "\n",
      "[09:25:38] WARNING: /Users/runner/miniforge3/conda-bld/xgboost_1607604592557/work/src/learner.cc:1061: Starting in XGBoost 1.3.0, the default evaluation metric used with the objective 'binary:logistic' was changed from 'error' to 'logloss'. Explicitly set eval_metric if you'd like to restore the old behavior.\n",
      "Confusion Matrix for Fold 5\n",
      "[[8113  451]\n",
      " [2165  688]]\n",
      "\n",
      "\n",
      "XGBoost Classification w/ KFOLD CV Results (k=5, threshold = 0.5):\n",
      "XG Boost Accuracy scores:  [0.7829742511823437, 0.7730577209424543, 0.7765612682841377, 0.7762985022335114, 0.7708680038539021] \n",
      "\n",
      "Simple mean cv accuracy: 0.776 + 0.004\n",
      "XG Boost Precision scores:  [0.6421152030217187, 0.5763459841129744, 0.5980036297640653, 0.6097560975609756, 0.6040386303775241] \n",
      "\n",
      "Simple mean cv precision: 0.606 +- 0.021\n",
      "XG Boost Recall scores:  [0.24469233537243612, 0.2362518089725036, 0.23816407661727504, 0.23314203730272598, 0.2411496670171749] \n",
      "\n",
      "Simple mean cv recall: 0.239 +- 0.004\n",
      "XG Boost Fbeta (beta=0.5) scores:  [0.48467569493941554, 0.44750548245614036, 0.4592334494773519, 0.4608621667612025, 0.4643001754622756] \n",
      "\n",
      "Simple mean cv Fbeta (beta=0.5): 0.463 +- 0.012\n",
      "XG Boost F1 scores:  [0.3543512245961438, 0.3351295868616885, 0.34065650038769707, 0.33731188375713544, 0.34468937875751504] \n",
      "\n",
      "Simple mean cv F1: 0.342 +- 0.007\n"
     ]
    }
   ],
   "source": [
    "xg_model = xgboost_eval_kfold(X,y, k=5, threshold = 0.5)"
   ]
  },
  {
   "cell_type": "markdown",
   "metadata": {},
   "source": [
    "Updating the table with these results:"
   ]
  },
  {
   "cell_type": "markdown",
   "metadata": {},
   "source": [
    "| Model Type              | Features    | Mean Precision Score |Mean FBeta (beta = 0.5 Score)|\n",
    "| ------------------------|-------------| ---------------------|-----------------------------|\n",
    "| KNN (n=41)              | columns_1   | .533 +- .012         | .272 +- .007                |\n",
    "| Logistic Regression     | columns_1   | .553 +- .025         | .307 +- .010                |\n",
    "| Random Forest (untuned) | columns_1   | .531 +- .008         | .326 +- .007                |\n",
    "| XGBoost (untuned)       | columns_1   | .578 +- .004         | .301 +- .007                |\n",
    "| KNN (n=41)              | columns_2*  | .540 +- .016         | .288 +- .011                |\n",
    "| Logistic Regression     | columns_2*  | .631 +- .026         | .318 +- .015                |\n",
    "| Random Forest (untuned) | columns_2*  | .579 +- .010         | .456 +- .008                |\n",
    "| XGBoost (untuned)       | columns_2*  | .604 +- .025         | .464 +- .013                |\n",
    "| KNN (n=41)              | columns_3** | .551 +- .014         | .299 +- .014                |\n",
    "| Logistic Regression     | columns_3** | .626 +- .025         | .317 +- .014                |\n",
    "| Random Forest (untuned) | columns_3** | .575 +- .014         | .452 +- .012                |\n",
    "| XGBoost (untuned)       | columns_3** | .606 +- .021         | .463 +- .012                |"
   ]
  },
  {
   "cell_type": "markdown",
   "metadata": {},
   "source": [
    "* column_2 is the same as column_1, just with place_odds included in the features\n",
    "** columns_3 is the same as columns_2, but with three race rolling averages changed to two"
   ]
  },
  {
   "cell_type": "markdown",
   "metadata": {},
   "source": [
    "Like before, Logistic Regression is leading the way in precision, and XGBoost is leading the way in FBeta.  \n",
    "Not much difference in performance from the columns_2 set of data.  There doesn't appear to be much difference in changing the rolling average from 3 to 2 races.  What about 5?"
   ]
  },
  {
   "cell_type": "markdown",
   "metadata": {},
   "source": [
    "## Changing Rolling Average to 5 races:"
   ]
  },
  {
   "cell_type": "markdown",
   "metadata": {},
   "source": [
    "training_horses_6 = pd.read_pickle('./Data/training_horses_6.pkl')\n",
    "\n",
    "training_horses_6_copy = training_horses_6.copy()\n",
    "\n",
    "training_horses_6_copy.info()"
   ]
  },
  {
   "cell_type": "markdown",
   "metadata": {},
   "source": [
    "### Data Cleaning:"
   ]
  },
  {
   "cell_type": "markdown",
   "metadata": {},
   "source": [
    "for i, value in enumerate(training_horses_6_copy['horse_type']):\n",
    "    if training_horses_6_copy.iloc[i, 5] == 'Brown':\n",
    "        training_horses_6_copy.iloc[i, 5] = \"Gelding\"\n",
    "    elif training_horses_6_copy.iloc[i, 5] == 'Roan':\n",
    "        training_horses_6_copy.iloc[i, 5] = \"Gelding\"\n",
    "    elif training_horses_6_copy.iloc[i, 5] == 'Grey':\n",
    "        training_horses_6_copy.iloc[i, 5] = \"Gelding\""
   ]
  },
  {
   "cell_type": "markdown",
   "metadata": {},
   "source": [
    "#FIlling in any nan gender values with Gelding, for same rationale above.\n",
    "training_horses_6_copy.horse_type.fillna(value='Gelding', inplace=True)"
   ]
  },
  {
   "cell_type": "markdown",
   "metadata": {},
   "source": [
    "training_horses_6_copy.horse_type.value_counts()"
   ]
  },
  {
   "cell_type": "markdown",
   "metadata": {},
   "source": [
    "training_horses_6_copy.horse_country.fillna(value='AUS', inplace=True)"
   ]
  },
  {
   "cell_type": "markdown",
   "metadata": {},
   "source": [
    "### Various Feature Engineering Metrics"
   ]
  },
  {
   "cell_type": "markdown",
   "metadata": {},
   "source": [
    "training_horses_6_cleaned = training_horses_6_copy[training_horses_6_copy['five_race_rolling_average_lengths'].notna()]"
   ]
  },
  {
   "cell_type": "markdown",
   "metadata": {},
   "source": [
    "## Pickling Data, so i don't have to clean again."
   ]
  },
  {
   "cell_type": "markdown",
   "metadata": {},
   "source": [
    "Changing code to markdown after using once:"
   ]
  },
  {
   "cell_type": "markdown",
   "metadata": {},
   "source": [
    "training_horses_6_cleaned.to_pickle(\"./Data/training_horses_6_cleaned.pkl\")"
   ]
  },
  {
   "cell_type": "markdown",
   "metadata": {},
   "source": [
    "Reading in the pickled data:"
   ]
  },
  {
   "cell_type": "code",
   "execution_count": 53,
   "metadata": {},
   "outputs": [],
   "source": [
    "training_horses_6_cleaned = pd.read_pickle('./Data/training_horses_6_cleaned.pkl')"
   ]
  },
  {
   "cell_type": "markdown",
   "metadata": {},
   "source": [
    "### One Hot Encoding of Gender (horse_type):"
   ]
  },
  {
   "cell_type": "code",
   "execution_count": 54,
   "metadata": {},
   "outputs": [],
   "source": [
    "ohe = OneHotEncoder(drop='first', sparse=False)"
   ]
  },
  {
   "cell_type": "code",
   "execution_count": 55,
   "metadata": {},
   "outputs": [],
   "source": [
    "training_model_gender_cat = training_horses_6_cleaned.loc[:, ['horse_type']]"
   ]
  },
  {
   "cell_type": "code",
   "execution_count": 56,
   "metadata": {
    "scrolled": true
   },
   "outputs": [
    {
     "data": {
      "text/html": [
       "<div>\n",
       "<style scoped>\n",
       "    .dataframe tbody tr th:only-of-type {\n",
       "        vertical-align: middle;\n",
       "    }\n",
       "\n",
       "    .dataframe tbody tr th {\n",
       "        vertical-align: top;\n",
       "    }\n",
       "\n",
       "    .dataframe thead th {\n",
       "        text-align: right;\n",
       "    }\n",
       "</style>\n",
       "<table border=\"1\" class=\"dataframe\">\n",
       "  <thead>\n",
       "    <tr style=\"text-align: right;\">\n",
       "      <th></th>\n",
       "      <th>horse_type_Filly</th>\n",
       "      <th>horse_type_Gelding</th>\n",
       "      <th>horse_type_Horse</th>\n",
       "      <th>horse_type_Mare</th>\n",
       "      <th>horse_type_Rig</th>\n",
       "    </tr>\n",
       "  </thead>\n",
       "  <tbody>\n",
       "    <tr>\n",
       "      <th>62662</th>\n",
       "      <td>0.0</td>\n",
       "      <td>1.0</td>\n",
       "      <td>0.0</td>\n",
       "      <td>0.0</td>\n",
       "      <td>0.0</td>\n",
       "    </tr>\n",
       "    <tr>\n",
       "      <th>69377</th>\n",
       "      <td>0.0</td>\n",
       "      <td>1.0</td>\n",
       "      <td>0.0</td>\n",
       "      <td>0.0</td>\n",
       "      <td>0.0</td>\n",
       "    </tr>\n",
       "    <tr>\n",
       "      <th>41987</th>\n",
       "      <td>0.0</td>\n",
       "      <td>1.0</td>\n",
       "      <td>0.0</td>\n",
       "      <td>0.0</td>\n",
       "      <td>0.0</td>\n",
       "    </tr>\n",
       "    <tr>\n",
       "      <th>27867</th>\n",
       "      <td>0.0</td>\n",
       "      <td>1.0</td>\n",
       "      <td>0.0</td>\n",
       "      <td>0.0</td>\n",
       "      <td>0.0</td>\n",
       "    </tr>\n",
       "    <tr>\n",
       "      <th>45587</th>\n",
       "      <td>0.0</td>\n",
       "      <td>1.0</td>\n",
       "      <td>0.0</td>\n",
       "      <td>0.0</td>\n",
       "      <td>0.0</td>\n",
       "    </tr>\n",
       "    <tr>\n",
       "      <th>63151</th>\n",
       "      <td>0.0</td>\n",
       "      <td>1.0</td>\n",
       "      <td>0.0</td>\n",
       "      <td>0.0</td>\n",
       "      <td>0.0</td>\n",
       "    </tr>\n",
       "    <tr>\n",
       "      <th>40702</th>\n",
       "      <td>0.0</td>\n",
       "      <td>1.0</td>\n",
       "      <td>0.0</td>\n",
       "      <td>0.0</td>\n",
       "      <td>0.0</td>\n",
       "    </tr>\n",
       "    <tr>\n",
       "      <th>74564</th>\n",
       "      <td>0.0</td>\n",
       "      <td>1.0</td>\n",
       "      <td>0.0</td>\n",
       "      <td>0.0</td>\n",
       "      <td>0.0</td>\n",
       "    </tr>\n",
       "    <tr>\n",
       "      <th>25233</th>\n",
       "      <td>0.0</td>\n",
       "      <td>1.0</td>\n",
       "      <td>0.0</td>\n",
       "      <td>0.0</td>\n",
       "      <td>0.0</td>\n",
       "    </tr>\n",
       "    <tr>\n",
       "      <th>70834</th>\n",
       "      <td>0.0</td>\n",
       "      <td>1.0</td>\n",
       "      <td>0.0</td>\n",
       "      <td>0.0</td>\n",
       "      <td>0.0</td>\n",
       "    </tr>\n",
       "    <tr>\n",
       "      <th>71502</th>\n",
       "      <td>0.0</td>\n",
       "      <td>0.0</td>\n",
       "      <td>0.0</td>\n",
       "      <td>0.0</td>\n",
       "      <td>0.0</td>\n",
       "    </tr>\n",
       "    <tr>\n",
       "      <th>15520</th>\n",
       "      <td>0.0</td>\n",
       "      <td>1.0</td>\n",
       "      <td>0.0</td>\n",
       "      <td>0.0</td>\n",
       "      <td>0.0</td>\n",
       "    </tr>\n",
       "    <tr>\n",
       "      <th>33703</th>\n",
       "      <td>0.0</td>\n",
       "      <td>1.0</td>\n",
       "      <td>0.0</td>\n",
       "      <td>0.0</td>\n",
       "      <td>0.0</td>\n",
       "    </tr>\n",
       "    <tr>\n",
       "      <th>856</th>\n",
       "      <td>0.0</td>\n",
       "      <td>1.0</td>\n",
       "      <td>0.0</td>\n",
       "      <td>0.0</td>\n",
       "      <td>0.0</td>\n",
       "    </tr>\n",
       "    <tr>\n",
       "      <th>33037</th>\n",
       "      <td>0.0</td>\n",
       "      <td>0.0</td>\n",
       "      <td>1.0</td>\n",
       "      <td>0.0</td>\n",
       "      <td>0.0</td>\n",
       "    </tr>\n",
       "    <tr>\n",
       "      <th>38129</th>\n",
       "      <td>0.0</td>\n",
       "      <td>1.0</td>\n",
       "      <td>0.0</td>\n",
       "      <td>0.0</td>\n",
       "      <td>0.0</td>\n",
       "    </tr>\n",
       "    <tr>\n",
       "      <th>47353</th>\n",
       "      <td>0.0</td>\n",
       "      <td>1.0</td>\n",
       "      <td>0.0</td>\n",
       "      <td>0.0</td>\n",
       "      <td>0.0</td>\n",
       "    </tr>\n",
       "    <tr>\n",
       "      <th>16266</th>\n",
       "      <td>0.0</td>\n",
       "      <td>1.0</td>\n",
       "      <td>0.0</td>\n",
       "      <td>0.0</td>\n",
       "      <td>0.0</td>\n",
       "    </tr>\n",
       "    <tr>\n",
       "      <th>66700</th>\n",
       "      <td>0.0</td>\n",
       "      <td>1.0</td>\n",
       "      <td>0.0</td>\n",
       "      <td>0.0</td>\n",
       "      <td>0.0</td>\n",
       "    </tr>\n",
       "    <tr>\n",
       "      <th>10797</th>\n",
       "      <td>0.0</td>\n",
       "      <td>1.0</td>\n",
       "      <td>0.0</td>\n",
       "      <td>0.0</td>\n",
       "      <td>0.0</td>\n",
       "    </tr>\n",
       "  </tbody>\n",
       "</table>\n",
       "</div>"
      ],
      "text/plain": [
       "       horse_type_Filly  horse_type_Gelding  horse_type_Horse  \\\n",
       "62662               0.0                 1.0               0.0   \n",
       "69377               0.0                 1.0               0.0   \n",
       "41987               0.0                 1.0               0.0   \n",
       "27867               0.0                 1.0               0.0   \n",
       "45587               0.0                 1.0               0.0   \n",
       "63151               0.0                 1.0               0.0   \n",
       "40702               0.0                 1.0               0.0   \n",
       "74564               0.0                 1.0               0.0   \n",
       "25233               0.0                 1.0               0.0   \n",
       "70834               0.0                 1.0               0.0   \n",
       "71502               0.0                 0.0               0.0   \n",
       "15520               0.0                 1.0               0.0   \n",
       "33703               0.0                 1.0               0.0   \n",
       "856                 0.0                 1.0               0.0   \n",
       "33037               0.0                 0.0               1.0   \n",
       "38129               0.0                 1.0               0.0   \n",
       "47353               0.0                 1.0               0.0   \n",
       "16266               0.0                 1.0               0.0   \n",
       "66700               0.0                 1.0               0.0   \n",
       "10797               0.0                 1.0               0.0   \n",
       "\n",
       "       horse_type_Mare  horse_type_Rig  \n",
       "62662              0.0             0.0  \n",
       "69377              0.0             0.0  \n",
       "41987              0.0             0.0  \n",
       "27867              0.0             0.0  \n",
       "45587              0.0             0.0  \n",
       "63151              0.0             0.0  \n",
       "40702              0.0             0.0  \n",
       "74564              0.0             0.0  \n",
       "25233              0.0             0.0  \n",
       "70834              0.0             0.0  \n",
       "71502              0.0             0.0  \n",
       "15520              0.0             0.0  \n",
       "33703              0.0             0.0  \n",
       "856                0.0             0.0  \n",
       "33037              0.0             0.0  \n",
       "38129              0.0             0.0  \n",
       "47353              0.0             0.0  \n",
       "16266              0.0             0.0  \n",
       "66700              0.0             0.0  \n",
       "10797              0.0             0.0  "
      ]
     },
     "execution_count": 56,
     "metadata": {},
     "output_type": "execute_result"
    }
   ],
   "source": [
    "ohe.fit(training_model_gender_cat)\n",
    "\n",
    "ohe_X = ohe.transform(training_model_gender_cat)\n",
    "\n",
    "columns = ohe.get_feature_names(['horse_type'])\n",
    "\n",
    "ohe_X_df = pd.DataFrame(ohe_X, columns=columns, index=training_model_gender_cat.index)\n",
    "\n",
    "ohe_X_df.sample(20)"
   ]
  },
  {
   "cell_type": "markdown",
   "metadata": {},
   "source": [
    "Concatenating back into the original data frame:"
   ]
  },
  {
   "cell_type": "code",
   "execution_count": 57,
   "metadata": {},
   "outputs": [],
   "source": [
    "comb_training_horses_6_cleaned = pd.concat([training_horses_6_cleaned, ohe_X_df], axis=1)"
   ]
  },
  {
   "cell_type": "code",
   "execution_count": 58,
   "metadata": {
    "scrolled": false
   },
   "outputs": [
    {
     "data": {
      "text/html": [
       "<div>\n",
       "<style scoped>\n",
       "    .dataframe tbody tr th:only-of-type {\n",
       "        vertical-align: middle;\n",
       "    }\n",
       "\n",
       "    .dataframe tbody tr th {\n",
       "        vertical-align: top;\n",
       "    }\n",
       "\n",
       "    .dataframe thead th {\n",
       "        text-align: right;\n",
       "    }\n",
       "</style>\n",
       "<table border=\"1\" class=\"dataframe\">\n",
       "  <thead>\n",
       "    <tr style=\"text-align: right;\">\n",
       "      <th></th>\n",
       "      <th>race_id</th>\n",
       "      <th>horse_id</th>\n",
       "      <th>result</th>\n",
       "      <th>lengths_behind</th>\n",
       "      <th>horse_age</th>\n",
       "      <th>horse_type</th>\n",
       "      <th>horse_country</th>\n",
       "      <th>horse_rating</th>\n",
       "      <th>horse_gear</th>\n",
       "      <th>declared_weight</th>\n",
       "      <th>...</th>\n",
       "      <th>diff_from_field_handicap_wgt_avg</th>\n",
       "      <th>field_handicap_wgt_rank</th>\n",
       "      <th>career_races</th>\n",
       "      <th>career_shows</th>\n",
       "      <th>shows_in_last_5_races</th>\n",
       "      <th>horse_type_Filly</th>\n",
       "      <th>horse_type_Gelding</th>\n",
       "      <th>horse_type_Horse</th>\n",
       "      <th>horse_type_Mare</th>\n",
       "      <th>horse_type_Rig</th>\n",
       "    </tr>\n",
       "  </thead>\n",
       "  <tbody>\n",
       "    <tr>\n",
       "      <th>1</th>\n",
       "      <td>6348</td>\n",
       "      <td>1698</td>\n",
       "      <td>2</td>\n",
       "      <td>0.20</td>\n",
       "      <td>6</td>\n",
       "      <td>Gelding</td>\n",
       "      <td>AUS</td>\n",
       "      <td>92</td>\n",
       "      <td>TT/B</td>\n",
       "      <td>1172.0</td>\n",
       "      <td>...</td>\n",
       "      <td>4.214286</td>\n",
       "      <td>4</td>\n",
       "      <td>36</td>\n",
       "      <td>13.0</td>\n",
       "      <td>2.0</td>\n",
       "      <td>0.0</td>\n",
       "      <td>1.0</td>\n",
       "      <td>0.0</td>\n",
       "      <td>0.0</td>\n",
       "      <td>0.0</td>\n",
       "    </tr>\n",
       "    <tr>\n",
       "      <th>2</th>\n",
       "      <td>6348</td>\n",
       "      <td>932</td>\n",
       "      <td>3</td>\n",
       "      <td>0.50</td>\n",
       "      <td>5</td>\n",
       "      <td>Gelding</td>\n",
       "      <td>AUS</td>\n",
       "      <td>88</td>\n",
       "      <td>B</td>\n",
       "      <td>1060.0</td>\n",
       "      <td>...</td>\n",
       "      <td>0.214286</td>\n",
       "      <td>8</td>\n",
       "      <td>19</td>\n",
       "      <td>6.0</td>\n",
       "      <td>1.0</td>\n",
       "      <td>0.0</td>\n",
       "      <td>1.0</td>\n",
       "      <td>0.0</td>\n",
       "      <td>0.0</td>\n",
       "      <td>0.0</td>\n",
       "    </tr>\n",
       "    <tr>\n",
       "      <th>3</th>\n",
       "      <td>6348</td>\n",
       "      <td>833</td>\n",
       "      <td>4</td>\n",
       "      <td>0.75</td>\n",
       "      <td>4</td>\n",
       "      <td>Gelding</td>\n",
       "      <td>IRE</td>\n",
       "      <td>89</td>\n",
       "      <td>CP</td>\n",
       "      <td>1154.0</td>\n",
       "      <td>...</td>\n",
       "      <td>1.214286</td>\n",
       "      <td>7</td>\n",
       "      <td>19</td>\n",
       "      <td>9.0</td>\n",
       "      <td>2.0</td>\n",
       "      <td>0.0</td>\n",
       "      <td>1.0</td>\n",
       "      <td>0.0</td>\n",
       "      <td>0.0</td>\n",
       "      <td>0.0</td>\n",
       "    </tr>\n",
       "    <tr>\n",
       "      <th>4</th>\n",
       "      <td>6348</td>\n",
       "      <td>3368</td>\n",
       "      <td>5</td>\n",
       "      <td>1.25</td>\n",
       "      <td>3</td>\n",
       "      <td>Gelding</td>\n",
       "      <td>GER</td>\n",
       "      <td>91</td>\n",
       "      <td>TT/B/H</td>\n",
       "      <td>1147.0</td>\n",
       "      <td>...</td>\n",
       "      <td>3.214286</td>\n",
       "      <td>5</td>\n",
       "      <td>4</td>\n",
       "      <td>4.0</td>\n",
       "      <td>4.0</td>\n",
       "      <td>0.0</td>\n",
       "      <td>1.0</td>\n",
       "      <td>0.0</td>\n",
       "      <td>0.0</td>\n",
       "      <td>0.0</td>\n",
       "    </tr>\n",
       "    <tr>\n",
       "      <th>5</th>\n",
       "      <td>6348</td>\n",
       "      <td>1238</td>\n",
       "      <td>6</td>\n",
       "      <td>1.25</td>\n",
       "      <td>5</td>\n",
       "      <td>Gelding</td>\n",
       "      <td>AUS</td>\n",
       "      <td>87</td>\n",
       "      <td>TT/V</td>\n",
       "      <td>1191.0</td>\n",
       "      <td>...</td>\n",
       "      <td>-2.785714</td>\n",
       "      <td>10</td>\n",
       "      <td>25</td>\n",
       "      <td>12.0</td>\n",
       "      <td>1.0</td>\n",
       "      <td>0.0</td>\n",
       "      <td>1.0</td>\n",
       "      <td>0.0</td>\n",
       "      <td>0.0</td>\n",
       "      <td>0.0</td>\n",
       "    </tr>\n",
       "  </tbody>\n",
       "</table>\n",
       "<p>5 rows × 45 columns</p>\n",
       "</div>"
      ],
      "text/plain": [
       "   race_id  horse_id  result  lengths_behind  horse_age horse_type  \\\n",
       "1     6348      1698       2            0.20          6    Gelding   \n",
       "2     6348       932       3            0.50          5    Gelding   \n",
       "3     6348       833       4            0.75          4    Gelding   \n",
       "4     6348      3368       5            1.25          3    Gelding   \n",
       "5     6348      1238       6            1.25          5    Gelding   \n",
       "\n",
       "  horse_country  horse_rating horse_gear  declared_weight  ...  \\\n",
       "1           AUS            92       TT/B           1172.0  ...   \n",
       "2           AUS            88          B           1060.0  ...   \n",
       "3           IRE            89         CP           1154.0  ...   \n",
       "4           GER            91     TT/B/H           1147.0  ...   \n",
       "5           AUS            87       TT/V           1191.0  ...   \n",
       "\n",
       "   diff_from_field_handicap_wgt_avg  field_handicap_wgt_rank  career_races  \\\n",
       "1                          4.214286                        4            36   \n",
       "2                          0.214286                        8            19   \n",
       "3                          1.214286                        7            19   \n",
       "4                          3.214286                        5             4   \n",
       "5                         -2.785714                       10            25   \n",
       "\n",
       "   career_shows shows_in_last_5_races horse_type_Filly horse_type_Gelding  \\\n",
       "1          13.0                   2.0              0.0                1.0   \n",
       "2           6.0                   1.0              0.0                1.0   \n",
       "3           9.0                   2.0              0.0                1.0   \n",
       "4           4.0                   4.0              0.0                1.0   \n",
       "5          12.0                   1.0              0.0                1.0   \n",
       "\n",
       "   horse_type_Horse  horse_type_Mare  horse_type_Rig  \n",
       "1               0.0              0.0             0.0  \n",
       "2               0.0              0.0             0.0  \n",
       "3               0.0              0.0             0.0  \n",
       "4               0.0              0.0             0.0  \n",
       "5               0.0              0.0             0.0  \n",
       "\n",
       "[5 rows x 45 columns]"
      ]
     },
     "execution_count": 58,
     "metadata": {},
     "output_type": "execute_result"
    }
   ],
   "source": [
    "comb_training_horses_6_cleaned.head()"
   ]
  },
  {
   "cell_type": "code",
   "execution_count": 59,
   "metadata": {
    "scrolled": true
   },
   "outputs": [
    {
     "data": {
      "text/html": [
       "<div>\n",
       "<style scoped>\n",
       "    .dataframe tbody tr th:only-of-type {\n",
       "        vertical-align: middle;\n",
       "    }\n",
       "\n",
       "    .dataframe tbody tr th {\n",
       "        vertical-align: top;\n",
       "    }\n",
       "\n",
       "    .dataframe thead th {\n",
       "        text-align: right;\n",
       "    }\n",
       "</style>\n",
       "<table border=\"1\" class=\"dataframe\">\n",
       "  <thead>\n",
       "    <tr style=\"text-align: right;\">\n",
       "      <th></th>\n",
       "      <th>race_id</th>\n",
       "      <th>horse_id</th>\n",
       "      <th>result</th>\n",
       "      <th>lengths_behind</th>\n",
       "      <th>horse_age</th>\n",
       "      <th>horse_country</th>\n",
       "      <th>horse_rating</th>\n",
       "      <th>horse_gear</th>\n",
       "      <th>declared_weight</th>\n",
       "      <th>actual_weight</th>\n",
       "      <th>...</th>\n",
       "      <th>diff_from_field_handicap_wgt_avg</th>\n",
       "      <th>field_handicap_wgt_rank</th>\n",
       "      <th>career_races</th>\n",
       "      <th>career_shows</th>\n",
       "      <th>shows_in_last_5_races</th>\n",
       "      <th>horse_type_Filly</th>\n",
       "      <th>horse_type_Gelding</th>\n",
       "      <th>horse_type_Horse</th>\n",
       "      <th>horse_type_Mare</th>\n",
       "      <th>horse_type_Rig</th>\n",
       "    </tr>\n",
       "  </thead>\n",
       "  <tbody>\n",
       "    <tr>\n",
       "      <th>1</th>\n",
       "      <td>6348</td>\n",
       "      <td>1698</td>\n",
       "      <td>2</td>\n",
       "      <td>0.20</td>\n",
       "      <td>6</td>\n",
       "      <td>AUS</td>\n",
       "      <td>92</td>\n",
       "      <td>TT/B</td>\n",
       "      <td>1172.0</td>\n",
       "      <td>129</td>\n",
       "      <td>...</td>\n",
       "      <td>4.214286</td>\n",
       "      <td>4</td>\n",
       "      <td>36</td>\n",
       "      <td>13.0</td>\n",
       "      <td>2.0</td>\n",
       "      <td>0.0</td>\n",
       "      <td>1.0</td>\n",
       "      <td>0.0</td>\n",
       "      <td>0.0</td>\n",
       "      <td>0.0</td>\n",
       "    </tr>\n",
       "    <tr>\n",
       "      <th>2</th>\n",
       "      <td>6348</td>\n",
       "      <td>932</td>\n",
       "      <td>3</td>\n",
       "      <td>0.50</td>\n",
       "      <td>5</td>\n",
       "      <td>AUS</td>\n",
       "      <td>88</td>\n",
       "      <td>B</td>\n",
       "      <td>1060.0</td>\n",
       "      <td>125</td>\n",
       "      <td>...</td>\n",
       "      <td>0.214286</td>\n",
       "      <td>8</td>\n",
       "      <td>19</td>\n",
       "      <td>6.0</td>\n",
       "      <td>1.0</td>\n",
       "      <td>0.0</td>\n",
       "      <td>1.0</td>\n",
       "      <td>0.0</td>\n",
       "      <td>0.0</td>\n",
       "      <td>0.0</td>\n",
       "    </tr>\n",
       "    <tr>\n",
       "      <th>3</th>\n",
       "      <td>6348</td>\n",
       "      <td>833</td>\n",
       "      <td>4</td>\n",
       "      <td>0.75</td>\n",
       "      <td>4</td>\n",
       "      <td>IRE</td>\n",
       "      <td>89</td>\n",
       "      <td>CP</td>\n",
       "      <td>1154.0</td>\n",
       "      <td>126</td>\n",
       "      <td>...</td>\n",
       "      <td>1.214286</td>\n",
       "      <td>7</td>\n",
       "      <td>19</td>\n",
       "      <td>9.0</td>\n",
       "      <td>2.0</td>\n",
       "      <td>0.0</td>\n",
       "      <td>1.0</td>\n",
       "      <td>0.0</td>\n",
       "      <td>0.0</td>\n",
       "      <td>0.0</td>\n",
       "    </tr>\n",
       "    <tr>\n",
       "      <th>4</th>\n",
       "      <td>6348</td>\n",
       "      <td>3368</td>\n",
       "      <td>5</td>\n",
       "      <td>1.25</td>\n",
       "      <td>3</td>\n",
       "      <td>GER</td>\n",
       "      <td>91</td>\n",
       "      <td>TT/B/H</td>\n",
       "      <td>1147.0</td>\n",
       "      <td>128</td>\n",
       "      <td>...</td>\n",
       "      <td>3.214286</td>\n",
       "      <td>5</td>\n",
       "      <td>4</td>\n",
       "      <td>4.0</td>\n",
       "      <td>4.0</td>\n",
       "      <td>0.0</td>\n",
       "      <td>1.0</td>\n",
       "      <td>0.0</td>\n",
       "      <td>0.0</td>\n",
       "      <td>0.0</td>\n",
       "    </tr>\n",
       "    <tr>\n",
       "      <th>5</th>\n",
       "      <td>6348</td>\n",
       "      <td>1238</td>\n",
       "      <td>6</td>\n",
       "      <td>1.25</td>\n",
       "      <td>5</td>\n",
       "      <td>AUS</td>\n",
       "      <td>87</td>\n",
       "      <td>TT/V</td>\n",
       "      <td>1191.0</td>\n",
       "      <td>122</td>\n",
       "      <td>...</td>\n",
       "      <td>-2.785714</td>\n",
       "      <td>10</td>\n",
       "      <td>25</td>\n",
       "      <td>12.0</td>\n",
       "      <td>1.0</td>\n",
       "      <td>0.0</td>\n",
       "      <td>1.0</td>\n",
       "      <td>0.0</td>\n",
       "      <td>0.0</td>\n",
       "      <td>0.0</td>\n",
       "    </tr>\n",
       "  </tbody>\n",
       "</table>\n",
       "<p>5 rows × 44 columns</p>\n",
       "</div>"
      ],
      "text/plain": [
       "   race_id  horse_id  result  lengths_behind  horse_age horse_country  \\\n",
       "1     6348      1698       2            0.20          6           AUS   \n",
       "2     6348       932       3            0.50          5           AUS   \n",
       "3     6348       833       4            0.75          4           IRE   \n",
       "4     6348      3368       5            1.25          3           GER   \n",
       "5     6348      1238       6            1.25          5           AUS   \n",
       "\n",
       "   horse_rating horse_gear  declared_weight  actual_weight  ...  \\\n",
       "1            92       TT/B           1172.0            129  ...   \n",
       "2            88          B           1060.0            125  ...   \n",
       "3            89         CP           1154.0            126  ...   \n",
       "4            91     TT/B/H           1147.0            128  ...   \n",
       "5            87       TT/V           1191.0            122  ...   \n",
       "\n",
       "   diff_from_field_handicap_wgt_avg  field_handicap_wgt_rank  career_races  \\\n",
       "1                          4.214286                        4            36   \n",
       "2                          0.214286                        8            19   \n",
       "3                          1.214286                        7            19   \n",
       "4                          3.214286                        5             4   \n",
       "5                         -2.785714                       10            25   \n",
       "\n",
       "  career_shows shows_in_last_5_races horse_type_Filly  horse_type_Gelding  \\\n",
       "1         13.0                   2.0              0.0                 1.0   \n",
       "2          6.0                   1.0              0.0                 1.0   \n",
       "3          9.0                   2.0              0.0                 1.0   \n",
       "4          4.0                   4.0              0.0                 1.0   \n",
       "5         12.0                   1.0              0.0                 1.0   \n",
       "\n",
       "   horse_type_Horse  horse_type_Mare  horse_type_Rig  \n",
       "1               0.0              0.0             0.0  \n",
       "2               0.0              0.0             0.0  \n",
       "3               0.0              0.0             0.0  \n",
       "4               0.0              0.0             0.0  \n",
       "5               0.0              0.0             0.0  \n",
       "\n",
       "[5 rows x 44 columns]"
      ]
     },
     "execution_count": 59,
     "metadata": {},
     "output_type": "execute_result"
    }
   ],
   "source": [
    "#Removing original horse_type column:\n",
    "comb_training_horses_6_cleaned.drop(columns='horse_type', inplace=True)\n",
    "comb_training_horses_6_cleaned.head()"
   ]
  },
  {
   "cell_type": "markdown",
   "metadata": {},
   "source": [
    "OHE Complete."
   ]
  },
  {
   "cell_type": "markdown",
   "metadata": {},
   "source": [
    "### Feature Selection:"
   ]
  },
  {
   "cell_type": "markdown",
   "metadata": {},
   "source": [
    "Adding one more feature for now - show rate (i.e. column career_shows / career_races):"
   ]
  },
  {
   "cell_type": "code",
   "execution_count": 60,
   "metadata": {},
   "outputs": [],
   "source": [
    "comb_training_horses_6_cleaned['career_show_rate'] = comb_training_horses_6_cleaned['career_shows'] / comb_training_horses_6_cleaned['career_races']"
   ]
  },
  {
   "cell_type": "code",
   "execution_count": 61,
   "metadata": {},
   "outputs": [],
   "source": [
    "comb_training_horses_6_cleaned_po = comb_training_horses_6_cleaned[comb_training_horses_6_cleaned['place_odds'].notna()]"
   ]
  },
  {
   "cell_type": "code",
   "execution_count": 62,
   "metadata": {},
   "outputs": [
    {
     "name": "stdout",
     "output_type": "stream",
     "text": [
      "<class 'pandas.core.frame.DataFrame'>\n",
      "Int64Index: 57086 entries, 2736 to 79203\n",
      "Data columns (total 45 columns):\n",
      " #   Column                                       Non-Null Count  Dtype  \n",
      "---  ------                                       --------------  -----  \n",
      " 0   race_id                                      57086 non-null  int64  \n",
      " 1   horse_id                                     57086 non-null  int64  \n",
      " 2   result                                       57086 non-null  int64  \n",
      " 3   lengths_behind                               57086 non-null  float64\n",
      " 4   horse_age                                    57086 non-null  int64  \n",
      " 5   horse_country                                57086 non-null  object \n",
      " 6   horse_rating                                 57086 non-null  int64  \n",
      " 7   horse_gear                                   57086 non-null  object \n",
      " 8   declared_weight                              57086 non-null  float64\n",
      " 9   actual_weight                                57086 non-null  int64  \n",
      " 10  draw                                         57086 non-null  int64  \n",
      " 11  finish_time                                  57086 non-null  float64\n",
      " 12  place_odds                                   57086 non-null  float64\n",
      " 13  date                                         57086 non-null  object \n",
      " 14  venue                                        57086 non-null  object \n",
      " 15  config                                       57086 non-null  object \n",
      " 16  surface                                      57086 non-null  int64  \n",
      " 17  distance                                     57086 non-null  int64  \n",
      " 18  show                                         57086 non-null  int64  \n",
      " 19  five_race_rolling_avg_finish                 57086 non-null  float64\n",
      " 20  five_race_rolling_average_lengths            57086 non-null  float64\n",
      " 21  five_race_rolling_average_time               57086 non-null  float64\n",
      " 22  five_race_rolling_average_distance_per_time  57086 non-null  float64\n",
      " 23  horses_in_field                              57086 non-null  int64  \n",
      " 24  avg_field_rating                             57086 non-null  float64\n",
      " 25  field_rating_rank                            57086 non-null  int64  \n",
      " 26  diff_from_field_rating_avg                   57086 non-null  float64\n",
      " 27  avg_field_age                                57086 non-null  float64\n",
      " 28  field_age_rank                               57086 non-null  int64  \n",
      " 29  diff_from_field_age_avg                      57086 non-null  float64\n",
      " 30  avg_field_dec_wgts                           57086 non-null  float64\n",
      " 31  diff_from_field_declared_wgt_avg             57086 non-null  float64\n",
      " 32  field_dec_wgt_rank                           57086 non-null  int64  \n",
      " 33  avg_field_actual_wgt                         57086 non-null  float64\n",
      " 34  diff_from_field_handicap_wgt_avg             57086 non-null  float64\n",
      " 35  field_handicap_wgt_rank                      57086 non-null  int64  \n",
      " 36  career_races                                 57086 non-null  int64  \n",
      " 37  career_shows                                 57086 non-null  float64\n",
      " 38  shows_in_last_5_races                        57086 non-null  float64\n",
      " 39  horse_type_Filly                             57086 non-null  float64\n",
      " 40  horse_type_Gelding                           57086 non-null  float64\n",
      " 41  horse_type_Horse                             57086 non-null  float64\n",
      " 42  horse_type_Mare                              57086 non-null  float64\n",
      " 43  horse_type_Rig                               57086 non-null  float64\n",
      " 44  career_show_rate                             57086 non-null  float64\n",
      "dtypes: float64(24), int64(16), object(5)\n",
      "memory usage: 20.0+ MB\n"
     ]
    }
   ],
   "source": [
    "comb_training_horses_6_cleaned_po .info()"
   ]
  },
  {
   "cell_type": "code",
   "execution_count": 63,
   "metadata": {},
   "outputs": [],
   "source": [
    "columns_4 = ['horse_age', 'place_odds','distance', 'horses_in_field','declared_weight', 'actual_weight', 'horse_rating', 'draw', 'five_race_rolling_avg_finish', 'five_race_rolling_average_lengths', 'five_race_rolling_average_time', 'five_race_rolling_average_distance_per_time', 'field_rating_rank', 'diff_from_field_rating_avg', 'field_age_rank', 'diff_from_field_age_avg', 'diff_from_field_declared_wgt_avg', 'field_dec_wgt_rank', 'diff_from_field_handicap_wgt_avg', 'field_handicap_wgt_rank', 'career_races', 'career_shows', 'shows_in_last_5_races', 'career_show_rate', 'horse_type_Filly', 'horse_type_Gelding', 'horse_type_Horse', 'horse_type_Mare', 'horse_type_Rig']"
   ]
  },
  {
   "cell_type": "code",
   "execution_count": 64,
   "metadata": {},
   "outputs": [
    {
     "name": "stdout",
     "output_type": "stream",
     "text": [
      "Feature 1: horse_age\n",
      "Feature 2: place_odds\n",
      "Feature 3: distance\n",
      "Feature 4: horses_in_field\n",
      "Feature 5: declared_weight\n",
      "Feature 6: actual_weight\n",
      "Feature 7: horse_rating\n",
      "Feature 8: draw\n",
      "Feature 9: five_race_rolling_avg_finish\n",
      "Feature 10: five_race_rolling_average_lengths\n",
      "Feature 11: five_race_rolling_average_time\n",
      "Feature 12: five_race_rolling_average_distance_per_time\n",
      "Feature 13: field_rating_rank\n",
      "Feature 14: diff_from_field_rating_avg\n",
      "Feature 15: field_age_rank\n",
      "Feature 16: diff_from_field_age_avg\n",
      "Feature 17: diff_from_field_declared_wgt_avg\n",
      "Feature 18: field_dec_wgt_rank\n",
      "Feature 19: diff_from_field_handicap_wgt_avg\n",
      "Feature 20: field_handicap_wgt_rank\n",
      "Feature 21: career_races\n",
      "Feature 22: career_shows\n",
      "Feature 23: shows_in_last_5_races\n",
      "Feature 24: career_show_rate\n",
      "Feature 25: horse_type_Filly\n",
      "Feature 26: horse_type_Gelding\n",
      "Feature 27: horse_type_Horse\n",
      "Feature 28: horse_type_Mare\n",
      "Feature 29: horse_type_Rig\n"
     ]
    }
   ],
   "source": [
    "for i, feature in enumerate(columns_4, 1):\n",
    "    print(\"Feature {}: {}\".format(i, feature))"
   ]
  },
  {
   "cell_type": "markdown",
   "metadata": {},
   "source": [
    "## Running Baseline Models:"
   ]
  },
  {
   "cell_type": "markdown",
   "metadata": {},
   "source": [
    "All models with K-Fold cross validation w/ k=5 folds."
   ]
  },
  {
   "cell_type": "code",
   "execution_count": 65,
   "metadata": {},
   "outputs": [],
   "source": [
    "X = comb_training_horses_6_cleaned_po[columns_4]\n",
    "y = comb_training_horses_6_cleaned_po['show']"
   ]
  },
  {
   "cell_type": "code",
   "execution_count": null,
   "metadata": {
    "scrolled": false
   },
   "outputs": [
    {
     "name": "stdout",
     "output_type": "stream",
     "text": [
      "Confusion Matrix for Fold 1\n",
      "[[8424  215]\n",
      " [2498  281]]\n",
      "\n",
      "\n",
      "Confusion Matrix for Fold 2\n",
      "[[8423  230]\n",
      " [2512  252]]\n",
      "\n",
      "\n"
     ]
    }
   ],
   "source": [
    "knn = KNN_accuracy_scorer_f_fold(X, y, n = 41, k=5)"
   ]
  },
  {
   "cell_type": "code",
   "execution_count": null,
   "metadata": {
    "scrolled": false
   },
   "outputs": [],
   "source": [
    "logreg = log_accuracy_scorer_k_fold(X, y, k=5, threshold=0.5, C=1)"
   ]
  },
  {
   "cell_type": "code",
   "execution_count": null,
   "metadata": {
    "scrolled": false
   },
   "outputs": [],
   "source": [
    "rf_model = random_forest_eval_kfold(X,y, k=5)"
   ]
  },
  {
   "cell_type": "code",
   "execution_count": null,
   "metadata": {
    "scrolled": false
   },
   "outputs": [],
   "source": [
    "xg_model = xgboost_eval_kfold(X,y, k=5, threshold = 0.5)"
   ]
  },
  {
   "cell_type": "markdown",
   "metadata": {},
   "source": [
    "Updating the table with these results:"
   ]
  },
  {
   "cell_type": "markdown",
   "metadata": {},
   "source": [
    "| Model Type              | Features     | Mean Precision Score |Mean FBeta (beta = 0.5 Score)|\n",
    "| ------------------------|--------------| ---------------------|-----------------------------|\n",
    "| KNN (n=41)              | columns_1    | .533 +- .012         | .272 +- .007                |\n",
    "| Logistic Regression     | columns_1    | .553 +- .025         | .307 +- .010                |\n",
    "| Random Forest (untuned) | columns_1    | .531 +- .008         | .326 +- .007                |\n",
    "| XGBoost (untuned)       | columns_1    | .578 +- .004         | .301 +- .007                |\n",
    "| KNN (n=41)              | columns_2*   | .540 +- .016         | .288 +- .011                |\n",
    "| Logistic Regression     | columns_2*   | .631 +- .026         | .318 +- .015                |\n",
    "| Random Forest (untuned) | columns_2*   | .579 +- .010         | .456 +- .008                |\n",
    "| XGBoost (untuned)       | columns_2*   | .604 +- .025         | .464 +- .013                |\n",
    "| KNN (n=41)              | columns_3**  | .551 +- .014         | .299 +- .014                |\n",
    "| Logistic Regression     | columns_3**  | .626 +- .025         | .317 +- .014                |\n",
    "| Random Forest (untuned) | columns_3**  | .575 +- .014         | .452 +- .012                |\n",
    "| XGBoost (untuned)       | columns_3**  | .606 +- .021         | .463 +- .012                |\n",
    "| KNN (n=41)              | columns_4*** | .538 +- .019         | .281 +- .011                |\n",
    "| Logistic Regression     | columns_4*** | .633 +- .024         | .314 +- .015                |\n",
    "| Random Forest (untuned) | columns_4*** | .578 +- .014         | .459 +- .012                |\n",
    "| XGBoost (untuned)       | columns_4*** | .607 +- .025         | .465 +- .016                |"
   ]
  },
  {
   "cell_type": "markdown",
   "metadata": {},
   "source": [
    "*** Columns_4 is w/ 5 race rolling averages, all before (1, 2, 3) were less"
   ]
  },
  {
   "cell_type": "markdown",
   "metadata": {},
   "source": [
    "The 5 race rolling average does seem to have a slightly better performance, but it's in the 1-2 thousandth degree which is virtually neglible.  I am going to stick with 3 moving forward."
   ]
  },
  {
   "cell_type": "markdown",
   "metadata": {},
   "source": [
    "# Adding in Top Jockey or Trainer (or Not)"
   ]
  },
  {
   "cell_type": "code",
   "execution_count": 9,
   "metadata": {},
   "outputs": [
    {
     "name": "stdout",
     "output_type": "stream",
     "text": [
      "<class 'pandas.core.frame.DataFrame'>\n",
      "Int64Index: 63469 entries, 0 to 79446\n",
      "Data columns (total 42 columns):\n",
      " #   Column                                        Non-Null Count  Dtype  \n",
      "---  ------                                        --------------  -----  \n",
      " 0   race_id                                       63469 non-null  int64  \n",
      " 1   horse_id                                      63469 non-null  int64  \n",
      " 2   result                                        63469 non-null  int64  \n",
      " 3   lengths_behind                                63469 non-null  float64\n",
      " 4   horse_age                                     63469 non-null  int64  \n",
      " 5   horse_type                                    63467 non-null  object \n",
      " 6   horse_country                                 63467 non-null  object \n",
      " 7   horse_rating                                  63469 non-null  int64  \n",
      " 8   horse_gear                                    63469 non-null  object \n",
      " 9   declared_weight                               63469 non-null  float64\n",
      " 10  actual_weight                                 63469 non-null  int64  \n",
      " 11  draw                                          63469 non-null  int64  \n",
      " 12  finish_time                                   63469 non-null  float64\n",
      " 13  place_odds                                    60512 non-null  float64\n",
      " 14  trainer_id                                    63469 non-null  int64  \n",
      " 15  jockey_id                                     63469 non-null  int64  \n",
      " 16  date                                          63469 non-null  object \n",
      " 17  venue                                         63469 non-null  object \n",
      " 18  config                                        63469 non-null  object \n",
      " 19  surface                                       63469 non-null  int64  \n",
      " 20  distance                                      63469 non-null  int64  \n",
      " 21  show                                          63469 non-null  int64  \n",
      " 22  three_race_rolling_avg_finish                 59914 non-null  float64\n",
      " 23  three_race_rolling_average_lengths            59914 non-null  float64\n",
      " 24  three_race_rolling_average_time               59914 non-null  float64\n",
      " 25  three_race_rolling_average_distance_per_time  59914 non-null  float64\n",
      " 26  horses_in_field                               63469 non-null  int64  \n",
      " 27  avg_field_rating                              63469 non-null  float64\n",
      " 28  field_rating_rank                             63469 non-null  int64  \n",
      " 29  diff_from_field_rating_avg                    63469 non-null  float64\n",
      " 30  avg_field_age                                 63469 non-null  float64\n",
      " 31  field_age_rank                                63469 non-null  int64  \n",
      " 32  diff_from_field_age_avg                       63469 non-null  float64\n",
      " 33  avg_field_dec_wgts                            63469 non-null  float64\n",
      " 34  diff_from_field_declared_wgt_avg              63469 non-null  float64\n",
      " 35  field_dec_wgt_rank                            63469 non-null  int64  \n",
      " 36  avg_field_actual_wgt                          63469 non-null  float64\n",
      " 37  diff_from_field_handicap_wgt_avg              63469 non-null  float64\n",
      " 38  field_handicap_wgt_rank                       63469 non-null  int64  \n",
      " 39  career_races                                  63469 non-null  int64  \n",
      " 40  career_shows                                  59914 non-null  float64\n",
      " 41  shows_in_last_5_races                         59914 non-null  float64\n",
      "dtypes: float64(18), int64(18), object(6)\n",
      "memory usage: 20.8+ MB\n"
     ]
    }
   ],
   "source": [
    "training_horses_7 = pd.read_pickle('./Data/training_horses_7.pkl')\n",
    "\n",
    "training_horses_7_copy = training_horses_7.copy()\n",
    "\n",
    "training_horses_7_copy.info()"
   ]
  },
  {
   "cell_type": "markdown",
   "metadata": {},
   "source": [
    "### Data Cleaning:"
   ]
  },
  {
   "cell_type": "code",
   "execution_count": 10,
   "metadata": {},
   "outputs": [],
   "source": [
    "for i, value in enumerate(training_horses_7_copy['horse_type']):\n",
    "    if training_horses_7_copy.iloc[i, 5] == 'Brown':\n",
    "        training_horses_7_copy.iloc[i, 5] = \"Gelding\"\n",
    "    elif training_horses_7_copy.iloc[i, 5] == 'Roan':\n",
    "        training_horses_7_copy.iloc[i, 5] = \"Gelding\"\n",
    "    elif training_horses_7_copy.iloc[i, 5] == 'Grey':\n",
    "        training_horses_7_copy.iloc[i, 5] = \"Gelding\""
   ]
  },
  {
   "cell_type": "code",
   "execution_count": 11,
   "metadata": {},
   "outputs": [],
   "source": [
    "#FIlling in any nan gender values with Gelding, for same rationale above.\n",
    "training_horses_7_copy.horse_type.fillna(value='Gelding', inplace=True)"
   ]
  },
  {
   "cell_type": "code",
   "execution_count": 12,
   "metadata": {},
   "outputs": [
    {
     "data": {
      "text/plain": [
       "Gelding    62014\n",
       "Horse        874\n",
       "Colt         234\n",
       "Mare         188\n",
       "Rig          124\n",
       "Filly         35\n",
       "Name: horse_type, dtype: int64"
      ]
     },
     "execution_count": 12,
     "metadata": {},
     "output_type": "execute_result"
    }
   ],
   "source": [
    "training_horses_7_copy.horse_type.value_counts()"
   ]
  },
  {
   "cell_type": "code",
   "execution_count": 13,
   "metadata": {},
   "outputs": [],
   "source": [
    "training_horses_7_copy.horse_country.fillna(value='AUS', inplace=True)"
   ]
  },
  {
   "cell_type": "markdown",
   "metadata": {},
   "source": [
    "### Various Feature Engineering Metrics"
   ]
  },
  {
   "cell_type": "code",
   "execution_count": 14,
   "metadata": {},
   "outputs": [],
   "source": [
    "training_horses_7_cleaned = training_horses_7_copy[training_horses_7_copy['three_race_rolling_average_lengths'].notna()]"
   ]
  },
  {
   "cell_type": "markdown",
   "metadata": {},
   "source": [
    "## Pickling Data, so i don't have to clean again."
   ]
  },
  {
   "cell_type": "markdown",
   "metadata": {},
   "source": [
    "### One Hot Encoding of Gender (horse_type):"
   ]
  },
  {
   "cell_type": "code",
   "execution_count": 15,
   "metadata": {},
   "outputs": [],
   "source": [
    "ohe = OneHotEncoder(drop='first', sparse=False)"
   ]
  },
  {
   "cell_type": "code",
   "execution_count": 16,
   "metadata": {},
   "outputs": [],
   "source": [
    "training_model_gender_cat = training_horses_7_cleaned.loc[:, ['horse_type']]"
   ]
  },
  {
   "cell_type": "code",
   "execution_count": 17,
   "metadata": {
    "scrolled": true
   },
   "outputs": [
    {
     "data": {
      "text/html": [
       "<div>\n",
       "<style scoped>\n",
       "    .dataframe tbody tr th:only-of-type {\n",
       "        vertical-align: middle;\n",
       "    }\n",
       "\n",
       "    .dataframe tbody tr th {\n",
       "        vertical-align: top;\n",
       "    }\n",
       "\n",
       "    .dataframe thead th {\n",
       "        text-align: right;\n",
       "    }\n",
       "</style>\n",
       "<table border=\"1\" class=\"dataframe\">\n",
       "  <thead>\n",
       "    <tr style=\"text-align: right;\">\n",
       "      <th></th>\n",
       "      <th>horse_type_Filly</th>\n",
       "      <th>horse_type_Gelding</th>\n",
       "      <th>horse_type_Horse</th>\n",
       "      <th>horse_type_Mare</th>\n",
       "      <th>horse_type_Rig</th>\n",
       "    </tr>\n",
       "  </thead>\n",
       "  <tbody>\n",
       "    <tr>\n",
       "      <th>60313</th>\n",
       "      <td>0.0</td>\n",
       "      <td>1.0</td>\n",
       "      <td>0.0</td>\n",
       "      <td>0.0</td>\n",
       "      <td>0.0</td>\n",
       "    </tr>\n",
       "    <tr>\n",
       "      <th>25099</th>\n",
       "      <td>0.0</td>\n",
       "      <td>1.0</td>\n",
       "      <td>0.0</td>\n",
       "      <td>0.0</td>\n",
       "      <td>0.0</td>\n",
       "    </tr>\n",
       "    <tr>\n",
       "      <th>71151</th>\n",
       "      <td>0.0</td>\n",
       "      <td>1.0</td>\n",
       "      <td>0.0</td>\n",
       "      <td>0.0</td>\n",
       "      <td>0.0</td>\n",
       "    </tr>\n",
       "    <tr>\n",
       "      <th>12491</th>\n",
       "      <td>0.0</td>\n",
       "      <td>1.0</td>\n",
       "      <td>0.0</td>\n",
       "      <td>0.0</td>\n",
       "      <td>0.0</td>\n",
       "    </tr>\n",
       "    <tr>\n",
       "      <th>59134</th>\n",
       "      <td>0.0</td>\n",
       "      <td>1.0</td>\n",
       "      <td>0.0</td>\n",
       "      <td>0.0</td>\n",
       "      <td>0.0</td>\n",
       "    </tr>\n",
       "    <tr>\n",
       "      <th>44162</th>\n",
       "      <td>0.0</td>\n",
       "      <td>1.0</td>\n",
       "      <td>0.0</td>\n",
       "      <td>0.0</td>\n",
       "      <td>0.0</td>\n",
       "    </tr>\n",
       "    <tr>\n",
       "      <th>54709</th>\n",
       "      <td>0.0</td>\n",
       "      <td>1.0</td>\n",
       "      <td>0.0</td>\n",
       "      <td>0.0</td>\n",
       "      <td>0.0</td>\n",
       "    </tr>\n",
       "    <tr>\n",
       "      <th>41073</th>\n",
       "      <td>0.0</td>\n",
       "      <td>1.0</td>\n",
       "      <td>0.0</td>\n",
       "      <td>0.0</td>\n",
       "      <td>0.0</td>\n",
       "    </tr>\n",
       "    <tr>\n",
       "      <th>61589</th>\n",
       "      <td>0.0</td>\n",
       "      <td>1.0</td>\n",
       "      <td>0.0</td>\n",
       "      <td>0.0</td>\n",
       "      <td>0.0</td>\n",
       "    </tr>\n",
       "    <tr>\n",
       "      <th>35288</th>\n",
       "      <td>0.0</td>\n",
       "      <td>1.0</td>\n",
       "      <td>0.0</td>\n",
       "      <td>0.0</td>\n",
       "      <td>0.0</td>\n",
       "    </tr>\n",
       "    <tr>\n",
       "      <th>25050</th>\n",
       "      <td>0.0</td>\n",
       "      <td>1.0</td>\n",
       "      <td>0.0</td>\n",
       "      <td>0.0</td>\n",
       "      <td>0.0</td>\n",
       "    </tr>\n",
       "    <tr>\n",
       "      <th>8185</th>\n",
       "      <td>0.0</td>\n",
       "      <td>1.0</td>\n",
       "      <td>0.0</td>\n",
       "      <td>0.0</td>\n",
       "      <td>0.0</td>\n",
       "    </tr>\n",
       "    <tr>\n",
       "      <th>65193</th>\n",
       "      <td>0.0</td>\n",
       "      <td>1.0</td>\n",
       "      <td>0.0</td>\n",
       "      <td>0.0</td>\n",
       "      <td>0.0</td>\n",
       "    </tr>\n",
       "    <tr>\n",
       "      <th>19696</th>\n",
       "      <td>0.0</td>\n",
       "      <td>1.0</td>\n",
       "      <td>0.0</td>\n",
       "      <td>0.0</td>\n",
       "      <td>0.0</td>\n",
       "    </tr>\n",
       "    <tr>\n",
       "      <th>7019</th>\n",
       "      <td>0.0</td>\n",
       "      <td>1.0</td>\n",
       "      <td>0.0</td>\n",
       "      <td>0.0</td>\n",
       "      <td>0.0</td>\n",
       "    </tr>\n",
       "    <tr>\n",
       "      <th>51297</th>\n",
       "      <td>0.0</td>\n",
       "      <td>1.0</td>\n",
       "      <td>0.0</td>\n",
       "      <td>0.0</td>\n",
       "      <td>0.0</td>\n",
       "    </tr>\n",
       "    <tr>\n",
       "      <th>57831</th>\n",
       "      <td>0.0</td>\n",
       "      <td>1.0</td>\n",
       "      <td>0.0</td>\n",
       "      <td>0.0</td>\n",
       "      <td>0.0</td>\n",
       "    </tr>\n",
       "    <tr>\n",
       "      <th>45670</th>\n",
       "      <td>0.0</td>\n",
       "      <td>1.0</td>\n",
       "      <td>0.0</td>\n",
       "      <td>0.0</td>\n",
       "      <td>0.0</td>\n",
       "    </tr>\n",
       "    <tr>\n",
       "      <th>56490</th>\n",
       "      <td>0.0</td>\n",
       "      <td>1.0</td>\n",
       "      <td>0.0</td>\n",
       "      <td>0.0</td>\n",
       "      <td>0.0</td>\n",
       "    </tr>\n",
       "    <tr>\n",
       "      <th>12564</th>\n",
       "      <td>0.0</td>\n",
       "      <td>1.0</td>\n",
       "      <td>0.0</td>\n",
       "      <td>0.0</td>\n",
       "      <td>0.0</td>\n",
       "    </tr>\n",
       "  </tbody>\n",
       "</table>\n",
       "</div>"
      ],
      "text/plain": [
       "       horse_type_Filly  horse_type_Gelding  horse_type_Horse  \\\n",
       "60313               0.0                 1.0               0.0   \n",
       "25099               0.0                 1.0               0.0   \n",
       "71151               0.0                 1.0               0.0   \n",
       "12491               0.0                 1.0               0.0   \n",
       "59134               0.0                 1.0               0.0   \n",
       "44162               0.0                 1.0               0.0   \n",
       "54709               0.0                 1.0               0.0   \n",
       "41073               0.0                 1.0               0.0   \n",
       "61589               0.0                 1.0               0.0   \n",
       "35288               0.0                 1.0               0.0   \n",
       "25050               0.0                 1.0               0.0   \n",
       "8185                0.0                 1.0               0.0   \n",
       "65193               0.0                 1.0               0.0   \n",
       "19696               0.0                 1.0               0.0   \n",
       "7019                0.0                 1.0               0.0   \n",
       "51297               0.0                 1.0               0.0   \n",
       "57831               0.0                 1.0               0.0   \n",
       "45670               0.0                 1.0               0.0   \n",
       "56490               0.0                 1.0               0.0   \n",
       "12564               0.0                 1.0               0.0   \n",
       "\n",
       "       horse_type_Mare  horse_type_Rig  \n",
       "60313              0.0             0.0  \n",
       "25099              0.0             0.0  \n",
       "71151              0.0             0.0  \n",
       "12491              0.0             0.0  \n",
       "59134              0.0             0.0  \n",
       "44162              0.0             0.0  \n",
       "54709              0.0             0.0  \n",
       "41073              0.0             0.0  \n",
       "61589              0.0             0.0  \n",
       "35288              0.0             0.0  \n",
       "25050              0.0             0.0  \n",
       "8185               0.0             0.0  \n",
       "65193              0.0             0.0  \n",
       "19696              0.0             0.0  \n",
       "7019               0.0             0.0  \n",
       "51297              0.0             0.0  \n",
       "57831              0.0             0.0  \n",
       "45670              0.0             0.0  \n",
       "56490              0.0             0.0  \n",
       "12564              0.0             0.0  "
      ]
     },
     "execution_count": 17,
     "metadata": {},
     "output_type": "execute_result"
    }
   ],
   "source": [
    "ohe.fit(training_model_gender_cat)\n",
    "\n",
    "ohe_X = ohe.transform(training_model_gender_cat)\n",
    "\n",
    "columns = ohe.get_feature_names(['horse_type'])\n",
    "\n",
    "ohe_X_df = pd.DataFrame(ohe_X, columns=columns, index=training_model_gender_cat.index)\n",
    "\n",
    "ohe_X_df.sample(20)"
   ]
  },
  {
   "cell_type": "markdown",
   "metadata": {},
   "source": [
    "Concatenating back into the original data frame:"
   ]
  },
  {
   "cell_type": "code",
   "execution_count": 18,
   "metadata": {},
   "outputs": [],
   "source": [
    "comb_training_horses_7_cleaned = pd.concat([training_horses_7_cleaned, ohe_X_df], axis=1)"
   ]
  },
  {
   "cell_type": "code",
   "execution_count": 19,
   "metadata": {
    "scrolled": false
   },
   "outputs": [
    {
     "data": {
      "text/html": [
       "<div>\n",
       "<style scoped>\n",
       "    .dataframe tbody tr th:only-of-type {\n",
       "        vertical-align: middle;\n",
       "    }\n",
       "\n",
       "    .dataframe tbody tr th {\n",
       "        vertical-align: top;\n",
       "    }\n",
       "\n",
       "    .dataframe thead th {\n",
       "        text-align: right;\n",
       "    }\n",
       "</style>\n",
       "<table border=\"1\" class=\"dataframe\">\n",
       "  <thead>\n",
       "    <tr style=\"text-align: right;\">\n",
       "      <th></th>\n",
       "      <th>race_id</th>\n",
       "      <th>horse_id</th>\n",
       "      <th>result</th>\n",
       "      <th>lengths_behind</th>\n",
       "      <th>horse_age</th>\n",
       "      <th>horse_type</th>\n",
       "      <th>horse_country</th>\n",
       "      <th>horse_rating</th>\n",
       "      <th>horse_gear</th>\n",
       "      <th>declared_weight</th>\n",
       "      <th>...</th>\n",
       "      <th>diff_from_field_handicap_wgt_avg</th>\n",
       "      <th>field_handicap_wgt_rank</th>\n",
       "      <th>career_races</th>\n",
       "      <th>career_shows</th>\n",
       "      <th>shows_in_last_5_races</th>\n",
       "      <th>horse_type_Filly</th>\n",
       "      <th>horse_type_Gelding</th>\n",
       "      <th>horse_type_Horse</th>\n",
       "      <th>horse_type_Mare</th>\n",
       "      <th>horse_type_Rig</th>\n",
       "    </tr>\n",
       "  </thead>\n",
       "  <tbody>\n",
       "    <tr>\n",
       "      <th>1</th>\n",
       "      <td>6348</td>\n",
       "      <td>1698</td>\n",
       "      <td>2</td>\n",
       "      <td>0.20</td>\n",
       "      <td>6</td>\n",
       "      <td>Gelding</td>\n",
       "      <td>AUS</td>\n",
       "      <td>92</td>\n",
       "      <td>TT/B</td>\n",
       "      <td>1172.0</td>\n",
       "      <td>...</td>\n",
       "      <td>4.214286</td>\n",
       "      <td>4</td>\n",
       "      <td>36</td>\n",
       "      <td>13.0</td>\n",
       "      <td>2.0</td>\n",
       "      <td>0.0</td>\n",
       "      <td>1.0</td>\n",
       "      <td>0.0</td>\n",
       "      <td>0.0</td>\n",
       "      <td>0.0</td>\n",
       "    </tr>\n",
       "    <tr>\n",
       "      <th>2</th>\n",
       "      <td>6348</td>\n",
       "      <td>932</td>\n",
       "      <td>3</td>\n",
       "      <td>0.50</td>\n",
       "      <td>5</td>\n",
       "      <td>Gelding</td>\n",
       "      <td>AUS</td>\n",
       "      <td>88</td>\n",
       "      <td>B</td>\n",
       "      <td>1060.0</td>\n",
       "      <td>...</td>\n",
       "      <td>0.214286</td>\n",
       "      <td>8</td>\n",
       "      <td>19</td>\n",
       "      <td>6.0</td>\n",
       "      <td>1.0</td>\n",
       "      <td>0.0</td>\n",
       "      <td>1.0</td>\n",
       "      <td>0.0</td>\n",
       "      <td>0.0</td>\n",
       "      <td>0.0</td>\n",
       "    </tr>\n",
       "    <tr>\n",
       "      <th>3</th>\n",
       "      <td>6348</td>\n",
       "      <td>833</td>\n",
       "      <td>4</td>\n",
       "      <td>0.75</td>\n",
       "      <td>4</td>\n",
       "      <td>Gelding</td>\n",
       "      <td>IRE</td>\n",
       "      <td>89</td>\n",
       "      <td>CP</td>\n",
       "      <td>1154.0</td>\n",
       "      <td>...</td>\n",
       "      <td>1.214286</td>\n",
       "      <td>7</td>\n",
       "      <td>19</td>\n",
       "      <td>9.0</td>\n",
       "      <td>2.0</td>\n",
       "      <td>0.0</td>\n",
       "      <td>1.0</td>\n",
       "      <td>0.0</td>\n",
       "      <td>0.0</td>\n",
       "      <td>0.0</td>\n",
       "    </tr>\n",
       "    <tr>\n",
       "      <th>4</th>\n",
       "      <td>6348</td>\n",
       "      <td>3368</td>\n",
       "      <td>5</td>\n",
       "      <td>1.25</td>\n",
       "      <td>3</td>\n",
       "      <td>Gelding</td>\n",
       "      <td>GER</td>\n",
       "      <td>91</td>\n",
       "      <td>TT/B/H</td>\n",
       "      <td>1147.0</td>\n",
       "      <td>...</td>\n",
       "      <td>3.214286</td>\n",
       "      <td>5</td>\n",
       "      <td>4</td>\n",
       "      <td>4.0</td>\n",
       "      <td>4.0</td>\n",
       "      <td>0.0</td>\n",
       "      <td>1.0</td>\n",
       "      <td>0.0</td>\n",
       "      <td>0.0</td>\n",
       "      <td>0.0</td>\n",
       "    </tr>\n",
       "    <tr>\n",
       "      <th>5</th>\n",
       "      <td>6348</td>\n",
       "      <td>1238</td>\n",
       "      <td>6</td>\n",
       "      <td>1.25</td>\n",
       "      <td>5</td>\n",
       "      <td>Gelding</td>\n",
       "      <td>AUS</td>\n",
       "      <td>87</td>\n",
       "      <td>TT/V</td>\n",
       "      <td>1191.0</td>\n",
       "      <td>...</td>\n",
       "      <td>-2.785714</td>\n",
       "      <td>10</td>\n",
       "      <td>25</td>\n",
       "      <td>12.0</td>\n",
       "      <td>1.0</td>\n",
       "      <td>0.0</td>\n",
       "      <td>1.0</td>\n",
       "      <td>0.0</td>\n",
       "      <td>0.0</td>\n",
       "      <td>0.0</td>\n",
       "    </tr>\n",
       "  </tbody>\n",
       "</table>\n",
       "<p>5 rows × 47 columns</p>\n",
       "</div>"
      ],
      "text/plain": [
       "   race_id  horse_id  result  lengths_behind  horse_age horse_type  \\\n",
       "1     6348      1698       2            0.20          6    Gelding   \n",
       "2     6348       932       3            0.50          5    Gelding   \n",
       "3     6348       833       4            0.75          4    Gelding   \n",
       "4     6348      3368       5            1.25          3    Gelding   \n",
       "5     6348      1238       6            1.25          5    Gelding   \n",
       "\n",
       "  horse_country  horse_rating horse_gear  declared_weight  ...  \\\n",
       "1           AUS            92       TT/B           1172.0  ...   \n",
       "2           AUS            88          B           1060.0  ...   \n",
       "3           IRE            89         CP           1154.0  ...   \n",
       "4           GER            91     TT/B/H           1147.0  ...   \n",
       "5           AUS            87       TT/V           1191.0  ...   \n",
       "\n",
       "   diff_from_field_handicap_wgt_avg  field_handicap_wgt_rank  career_races  \\\n",
       "1                          4.214286                        4            36   \n",
       "2                          0.214286                        8            19   \n",
       "3                          1.214286                        7            19   \n",
       "4                          3.214286                        5             4   \n",
       "5                         -2.785714                       10            25   \n",
       "\n",
       "   career_shows  shows_in_last_5_races  horse_type_Filly horse_type_Gelding  \\\n",
       "1          13.0                    2.0               0.0                1.0   \n",
       "2           6.0                    1.0               0.0                1.0   \n",
       "3           9.0                    2.0               0.0                1.0   \n",
       "4           4.0                    4.0               0.0                1.0   \n",
       "5          12.0                    1.0               0.0                1.0   \n",
       "\n",
       "  horse_type_Horse horse_type_Mare  horse_type_Rig  \n",
       "1              0.0             0.0             0.0  \n",
       "2              0.0             0.0             0.0  \n",
       "3              0.0             0.0             0.0  \n",
       "4              0.0             0.0             0.0  \n",
       "5              0.0             0.0             0.0  \n",
       "\n",
       "[5 rows x 47 columns]"
      ]
     },
     "execution_count": 19,
     "metadata": {},
     "output_type": "execute_result"
    }
   ],
   "source": [
    "comb_training_horses_7_cleaned.head()"
   ]
  },
  {
   "cell_type": "code",
   "execution_count": 20,
   "metadata": {
    "scrolled": true
   },
   "outputs": [
    {
     "data": {
      "text/html": [
       "<div>\n",
       "<style scoped>\n",
       "    .dataframe tbody tr th:only-of-type {\n",
       "        vertical-align: middle;\n",
       "    }\n",
       "\n",
       "    .dataframe tbody tr th {\n",
       "        vertical-align: top;\n",
       "    }\n",
       "\n",
       "    .dataframe thead th {\n",
       "        text-align: right;\n",
       "    }\n",
       "</style>\n",
       "<table border=\"1\" class=\"dataframe\">\n",
       "  <thead>\n",
       "    <tr style=\"text-align: right;\">\n",
       "      <th></th>\n",
       "      <th>race_id</th>\n",
       "      <th>horse_id</th>\n",
       "      <th>result</th>\n",
       "      <th>lengths_behind</th>\n",
       "      <th>horse_age</th>\n",
       "      <th>horse_country</th>\n",
       "      <th>horse_rating</th>\n",
       "      <th>horse_gear</th>\n",
       "      <th>declared_weight</th>\n",
       "      <th>actual_weight</th>\n",
       "      <th>...</th>\n",
       "      <th>diff_from_field_handicap_wgt_avg</th>\n",
       "      <th>field_handicap_wgt_rank</th>\n",
       "      <th>career_races</th>\n",
       "      <th>career_shows</th>\n",
       "      <th>shows_in_last_5_races</th>\n",
       "      <th>horse_type_Filly</th>\n",
       "      <th>horse_type_Gelding</th>\n",
       "      <th>horse_type_Horse</th>\n",
       "      <th>horse_type_Mare</th>\n",
       "      <th>horse_type_Rig</th>\n",
       "    </tr>\n",
       "  </thead>\n",
       "  <tbody>\n",
       "    <tr>\n",
       "      <th>1</th>\n",
       "      <td>6348</td>\n",
       "      <td>1698</td>\n",
       "      <td>2</td>\n",
       "      <td>0.20</td>\n",
       "      <td>6</td>\n",
       "      <td>AUS</td>\n",
       "      <td>92</td>\n",
       "      <td>TT/B</td>\n",
       "      <td>1172.0</td>\n",
       "      <td>129</td>\n",
       "      <td>...</td>\n",
       "      <td>4.214286</td>\n",
       "      <td>4</td>\n",
       "      <td>36</td>\n",
       "      <td>13.0</td>\n",
       "      <td>2.0</td>\n",
       "      <td>0.0</td>\n",
       "      <td>1.0</td>\n",
       "      <td>0.0</td>\n",
       "      <td>0.0</td>\n",
       "      <td>0.0</td>\n",
       "    </tr>\n",
       "    <tr>\n",
       "      <th>2</th>\n",
       "      <td>6348</td>\n",
       "      <td>932</td>\n",
       "      <td>3</td>\n",
       "      <td>0.50</td>\n",
       "      <td>5</td>\n",
       "      <td>AUS</td>\n",
       "      <td>88</td>\n",
       "      <td>B</td>\n",
       "      <td>1060.0</td>\n",
       "      <td>125</td>\n",
       "      <td>...</td>\n",
       "      <td>0.214286</td>\n",
       "      <td>8</td>\n",
       "      <td>19</td>\n",
       "      <td>6.0</td>\n",
       "      <td>1.0</td>\n",
       "      <td>0.0</td>\n",
       "      <td>1.0</td>\n",
       "      <td>0.0</td>\n",
       "      <td>0.0</td>\n",
       "      <td>0.0</td>\n",
       "    </tr>\n",
       "    <tr>\n",
       "      <th>3</th>\n",
       "      <td>6348</td>\n",
       "      <td>833</td>\n",
       "      <td>4</td>\n",
       "      <td>0.75</td>\n",
       "      <td>4</td>\n",
       "      <td>IRE</td>\n",
       "      <td>89</td>\n",
       "      <td>CP</td>\n",
       "      <td>1154.0</td>\n",
       "      <td>126</td>\n",
       "      <td>...</td>\n",
       "      <td>1.214286</td>\n",
       "      <td>7</td>\n",
       "      <td>19</td>\n",
       "      <td>9.0</td>\n",
       "      <td>2.0</td>\n",
       "      <td>0.0</td>\n",
       "      <td>1.0</td>\n",
       "      <td>0.0</td>\n",
       "      <td>0.0</td>\n",
       "      <td>0.0</td>\n",
       "    </tr>\n",
       "    <tr>\n",
       "      <th>4</th>\n",
       "      <td>6348</td>\n",
       "      <td>3368</td>\n",
       "      <td>5</td>\n",
       "      <td>1.25</td>\n",
       "      <td>3</td>\n",
       "      <td>GER</td>\n",
       "      <td>91</td>\n",
       "      <td>TT/B/H</td>\n",
       "      <td>1147.0</td>\n",
       "      <td>128</td>\n",
       "      <td>...</td>\n",
       "      <td>3.214286</td>\n",
       "      <td>5</td>\n",
       "      <td>4</td>\n",
       "      <td>4.0</td>\n",
       "      <td>4.0</td>\n",
       "      <td>0.0</td>\n",
       "      <td>1.0</td>\n",
       "      <td>0.0</td>\n",
       "      <td>0.0</td>\n",
       "      <td>0.0</td>\n",
       "    </tr>\n",
       "    <tr>\n",
       "      <th>5</th>\n",
       "      <td>6348</td>\n",
       "      <td>1238</td>\n",
       "      <td>6</td>\n",
       "      <td>1.25</td>\n",
       "      <td>5</td>\n",
       "      <td>AUS</td>\n",
       "      <td>87</td>\n",
       "      <td>TT/V</td>\n",
       "      <td>1191.0</td>\n",
       "      <td>122</td>\n",
       "      <td>...</td>\n",
       "      <td>-2.785714</td>\n",
       "      <td>10</td>\n",
       "      <td>25</td>\n",
       "      <td>12.0</td>\n",
       "      <td>1.0</td>\n",
       "      <td>0.0</td>\n",
       "      <td>1.0</td>\n",
       "      <td>0.0</td>\n",
       "      <td>0.0</td>\n",
       "      <td>0.0</td>\n",
       "    </tr>\n",
       "  </tbody>\n",
       "</table>\n",
       "<p>5 rows × 46 columns</p>\n",
       "</div>"
      ],
      "text/plain": [
       "   race_id  horse_id  result  lengths_behind  horse_age horse_country  \\\n",
       "1     6348      1698       2            0.20          6           AUS   \n",
       "2     6348       932       3            0.50          5           AUS   \n",
       "3     6348       833       4            0.75          4           IRE   \n",
       "4     6348      3368       5            1.25          3           GER   \n",
       "5     6348      1238       6            1.25          5           AUS   \n",
       "\n",
       "   horse_rating horse_gear  declared_weight  actual_weight  ...  \\\n",
       "1            92       TT/B           1172.0            129  ...   \n",
       "2            88          B           1060.0            125  ...   \n",
       "3            89         CP           1154.0            126  ...   \n",
       "4            91     TT/B/H           1147.0            128  ...   \n",
       "5            87       TT/V           1191.0            122  ...   \n",
       "\n",
       "   diff_from_field_handicap_wgt_avg  field_handicap_wgt_rank  career_races  \\\n",
       "1                          4.214286                        4            36   \n",
       "2                          0.214286                        8            19   \n",
       "3                          1.214286                        7            19   \n",
       "4                          3.214286                        5             4   \n",
       "5                         -2.785714                       10            25   \n",
       "\n",
       "   career_shows  shows_in_last_5_races horse_type_Filly horse_type_Gelding  \\\n",
       "1          13.0                    2.0              0.0                1.0   \n",
       "2           6.0                    1.0              0.0                1.0   \n",
       "3           9.0                    2.0              0.0                1.0   \n",
       "4           4.0                    4.0              0.0                1.0   \n",
       "5          12.0                    1.0              0.0                1.0   \n",
       "\n",
       "  horse_type_Horse  horse_type_Mare  horse_type_Rig  \n",
       "1              0.0              0.0             0.0  \n",
       "2              0.0              0.0             0.0  \n",
       "3              0.0              0.0             0.0  \n",
       "4              0.0              0.0             0.0  \n",
       "5              0.0              0.0             0.0  \n",
       "\n",
       "[5 rows x 46 columns]"
      ]
     },
     "execution_count": 20,
     "metadata": {},
     "output_type": "execute_result"
    }
   ],
   "source": [
    "#Removing original horse_type column:\n",
    "comb_training_horses_7_cleaned.drop(columns='horse_type', inplace=True)\n",
    "comb_training_horses_7_cleaned.head()"
   ]
  },
  {
   "cell_type": "markdown",
   "metadata": {},
   "source": [
    "OHE Complete."
   ]
  },
  {
   "cell_type": "markdown",
   "metadata": {},
   "source": [
    "### Feature Selection:"
   ]
  },
  {
   "cell_type": "markdown",
   "metadata": {},
   "source": [
    "Adding one more feature for now - show rate (i.e. column career_shows / career_races):"
   ]
  },
  {
   "cell_type": "code",
   "execution_count": 21,
   "metadata": {},
   "outputs": [],
   "source": [
    "comb_training_horses_7_cleaned['career_show_rate'] = comb_training_horses_7_cleaned['career_shows'] / comb_training_horses_7_cleaned['career_races']"
   ]
  },
  {
   "cell_type": "code",
   "execution_count": 22,
   "metadata": {},
   "outputs": [],
   "source": [
    "comb_training_horses_7_cleaned_po = comb_training_horses_7_cleaned[comb_training_horses_7_cleaned['place_odds'].notna()]"
   ]
  },
  {
   "cell_type": "markdown",
   "metadata": {},
   "source": [
    "### Jockey and Trainer:"
   ]
  },
  {
   "cell_type": "markdown",
   "metadata": {},
   "source": [
    "making top jockey and trainer lists from feature_engineering_sql notebook:"
   ]
  },
  {
   "cell_type": "code",
   "execution_count": 23,
   "metadata": {},
   "outputs": [],
   "source": [
    "top_25_jockey_list = [95, 2, 115, 64, 134, 18, 96, 9, 11, 10, 24, 17, 177, 69, 82, 140, 57, 91, 138, 59, 50, 183, 39, 150, 157]"
   ]
  },
  {
   "cell_type": "code",
   "execution_count": 24,
   "metadata": {},
   "outputs": [],
   "source": [
    "top_25_trainer_list = [118,7,97,137,80,73,164,60,27,29,69,63,75,111,47,54,138,4,55,98,117,9,132,109,38]"
   ]
  },
  {
   "cell_type": "code",
   "execution_count": 63,
   "metadata": {},
   "outputs": [],
   "source": [
    "top_10_jockey_list = [95, 2, 115, 64, 134, 18, 96, 9, 11, 10]"
   ]
  },
  {
   "cell_type": "code",
   "execution_count": 64,
   "metadata": {},
   "outputs": [],
   "source": [
    "top_10_trainer_list = [118,7,97,137,80,73,164,60,27,29]"
   ]
  },
  {
   "cell_type": "code",
   "execution_count": 65,
   "metadata": {},
   "outputs": [
    {
     "name": "stderr",
     "output_type": "stream",
     "text": [
      "<ipython-input-65-61f55cb08b31>:1: SettingWithCopyWarning: \n",
      "A value is trying to be set on a copy of a slice from a DataFrame.\n",
      "Try using .loc[row_indexer,col_indexer] = value instead\n",
      "\n",
      "See the caveats in the documentation: https://pandas.pydata.org/pandas-docs/stable/user_guide/indexing.html#returning-a-view-versus-a-copy\n",
      "  comb_training_horses_7_cleaned_po['top_10_jockey'] = 0\n",
      "<ipython-input-65-61f55cb08b31>:2: SettingWithCopyWarning: \n",
      "A value is trying to be set on a copy of a slice from a DataFrame.\n",
      "Try using .loc[row_indexer,col_indexer] = value instead\n",
      "\n",
      "See the caveats in the documentation: https://pandas.pydata.org/pandas-docs/stable/user_guide/indexing.html#returning-a-view-versus-a-copy\n",
      "  comb_training_horses_7_cleaned_po['top_10_trainer'] = 0\n"
     ]
    }
   ],
   "source": [
    "comb_training_horses_7_cleaned_po['top_10_jockey'] = 0\n",
    "comb_training_horses_7_cleaned_po['top_10_trainer'] = 0"
   ]
  },
  {
   "cell_type": "code",
   "execution_count": 66,
   "metadata": {
    "scrolled": true
   },
   "outputs": [
    {
     "name": "stdout",
     "output_type": "stream",
     "text": [
      "<class 'pandas.core.frame.DataFrame'>\n",
      "Int64Index: 57086 entries, 2736 to 79203\n",
      "Data columns (total 51 columns):\n",
      " #   Column                                        Non-Null Count  Dtype  \n",
      "---  ------                                        --------------  -----  \n",
      " 0   race_id                                       57086 non-null  int64  \n",
      " 1   horse_id                                      57086 non-null  int64  \n",
      " 2   result                                        57086 non-null  int64  \n",
      " 3   lengths_behind                                57086 non-null  float64\n",
      " 4   horse_age                                     57086 non-null  int64  \n",
      " 5   horse_country                                 57086 non-null  object \n",
      " 6   horse_rating                                  57086 non-null  int64  \n",
      " 7   horse_gear                                    57086 non-null  object \n",
      " 8   declared_weight                               57086 non-null  float64\n",
      " 9   actual_weight                                 57086 non-null  int64  \n",
      " 10  draw                                          57086 non-null  int64  \n",
      " 11  finish_time                                   57086 non-null  float64\n",
      " 12  place_odds                                    57086 non-null  float64\n",
      " 13  trainer_id                                    57086 non-null  int64  \n",
      " 14  jockey_id                                     57086 non-null  int64  \n",
      " 15  date                                          57086 non-null  object \n",
      " 16  venue                                         57086 non-null  object \n",
      " 17  config                                        57086 non-null  object \n",
      " 18  surface                                       57086 non-null  int64  \n",
      " 19  distance                                      57086 non-null  int64  \n",
      " 20  show                                          57086 non-null  int64  \n",
      " 21  three_race_rolling_avg_finish                 57086 non-null  float64\n",
      " 22  three_race_rolling_average_lengths            57086 non-null  float64\n",
      " 23  three_race_rolling_average_time               57086 non-null  float64\n",
      " 24  three_race_rolling_average_distance_per_time  57086 non-null  float64\n",
      " 25  horses_in_field                               57086 non-null  int64  \n",
      " 26  avg_field_rating                              57086 non-null  float64\n",
      " 27  field_rating_rank                             57086 non-null  int64  \n",
      " 28  diff_from_field_rating_avg                    57086 non-null  float64\n",
      " 29  avg_field_age                                 57086 non-null  float64\n",
      " 30  field_age_rank                                57086 non-null  int64  \n",
      " 31  diff_from_field_age_avg                       57086 non-null  float64\n",
      " 32  avg_field_dec_wgts                            57086 non-null  float64\n",
      " 33  diff_from_field_declared_wgt_avg              57086 non-null  float64\n",
      " 34  field_dec_wgt_rank                            57086 non-null  int64  \n",
      " 35  avg_field_actual_wgt                          57086 non-null  float64\n",
      " 36  diff_from_field_handicap_wgt_avg              57086 non-null  float64\n",
      " 37  field_handicap_wgt_rank                       57086 non-null  int64  \n",
      " 38  career_races                                  57086 non-null  int64  \n",
      " 39  career_shows                                  57086 non-null  float64\n",
      " 40  shows_in_last_5_races                         57086 non-null  float64\n",
      " 41  horse_type_Filly                              57086 non-null  float64\n",
      " 42  horse_type_Gelding                            57086 non-null  float64\n",
      " 43  horse_type_Horse                              57086 non-null  float64\n",
      " 44  horse_type_Mare                               57086 non-null  float64\n",
      " 45  horse_type_Rig                                57086 non-null  float64\n",
      " 46  career_show_rate                              57086 non-null  float64\n",
      " 47  top_25_jockey                                 57086 non-null  int64  \n",
      " 48  top_25_trainer                                57086 non-null  int64  \n",
      " 49  top_10_trainer                                57086 non-null  int64  \n",
      " 50  top_10_jockey                                 57086 non-null  int64  \n",
      "dtypes: float64(24), int64(22), object(5)\n",
      "memory usage: 22.6+ MB\n"
     ]
    }
   ],
   "source": [
    "comb_training_horses_7_cleaned_po.info()"
   ]
  },
  {
   "cell_type": "code",
   "execution_count": 67,
   "metadata": {},
   "outputs": [
    {
     "name": "stderr",
     "output_type": "stream",
     "text": [
      "/Users/patrickbovard/opt/anaconda3/envs/metis/lib/python3.8/site-packages/pandas/core/indexing.py:1719: SettingWithCopyWarning: \n",
      "A value is trying to be set on a copy of a slice from a DataFrame.\n",
      "Try using .loc[row_indexer,col_indexer] = value instead\n",
      "\n",
      "See the caveats in the documentation: https://pandas.pydata.org/pandas-docs/stable/user_guide/indexing.html#returning-a-view-versus-a-copy\n",
      "  self._setitem_single_column(loc, value, pi)\n"
     ]
    }
   ],
   "source": [
    "for i, value in enumerate(comb_training_horses_7_cleaned_po['jockey_id']):\n",
    "    if comb_training_horses_7_cleaned_po.iloc[i, 14] in top_10_jockey_list:\n",
    "        comb_training_horses_7_cleaned_po.iloc[i, 50] = 1\n",
    "    \n",
    "for i, value in enumerate(comb_training_horses_7_cleaned_po['trainer_id']):\n",
    "    if comb_training_horses_7_cleaned_po.iloc[i, 13] in top_10_trainer_list:\n",
    "        comb_training_horses_7_cleaned_po.iloc[i, 49] = 1"
   ]
  },
  {
   "cell_type": "code",
   "execution_count": 68,
   "metadata": {},
   "outputs": [
    {
     "data": {
      "text/plain": [
       "0    44489\n",
       "1    12597\n",
       "Name: top_10_jockey, dtype: int64"
      ]
     },
     "execution_count": 68,
     "metadata": {},
     "output_type": "execute_result"
    }
   ],
   "source": [
    "comb_training_horses_7_cleaned_po.top_10_jockey.value_counts()"
   ]
  },
  {
   "cell_type": "code",
   "execution_count": 69,
   "metadata": {},
   "outputs": [
    {
     "data": {
      "text/plain": [
       "0    33712\n",
       "1    23374\n",
       "Name: top_10_trainer, dtype: int64"
      ]
     },
     "execution_count": 69,
     "metadata": {},
     "output_type": "execute_result"
    }
   ],
   "source": [
    "comb_training_horses_7_cleaned_po.top_10_trainer.value_counts()"
   ]
  },
  {
   "cell_type": "code",
   "execution_count": 70,
   "metadata": {},
   "outputs": [],
   "source": [
    "columns_5 = ['horse_age', 'top_10_trainer', 'top_10_jockey','place_odds','distance', 'horses_in_field','declared_weight', 'actual_weight', 'horse_rating', 'draw', 'three_race_rolling_avg_finish', 'three_race_rolling_average_lengths', 'three_race_rolling_average_time', 'three_race_rolling_average_distance_per_time', 'field_rating_rank', 'diff_from_field_rating_avg', 'field_age_rank', 'diff_from_field_age_avg', 'diff_from_field_declared_wgt_avg', 'field_dec_wgt_rank', 'diff_from_field_handicap_wgt_avg', 'field_handicap_wgt_rank', 'career_races', 'career_shows', 'shows_in_last_5_races', 'career_show_rate', 'horse_type_Filly', 'horse_type_Gelding', 'horse_type_Horse', 'horse_type_Mare', 'horse_type_Rig']"
   ]
  },
  {
   "cell_type": "code",
   "execution_count": 71,
   "metadata": {},
   "outputs": [
    {
     "name": "stdout",
     "output_type": "stream",
     "text": [
      "Feature 1: horse_age\n",
      "Feature 2: top_10_trainer\n",
      "Feature 3: top_10_jockey\n",
      "Feature 4: place_odds\n",
      "Feature 5: distance\n",
      "Feature 6: horses_in_field\n",
      "Feature 7: declared_weight\n",
      "Feature 8: actual_weight\n",
      "Feature 9: horse_rating\n",
      "Feature 10: draw\n",
      "Feature 11: three_race_rolling_avg_finish\n",
      "Feature 12: three_race_rolling_average_lengths\n",
      "Feature 13: three_race_rolling_average_time\n",
      "Feature 14: three_race_rolling_average_distance_per_time\n",
      "Feature 15: field_rating_rank\n",
      "Feature 16: diff_from_field_rating_avg\n",
      "Feature 17: field_age_rank\n",
      "Feature 18: diff_from_field_age_avg\n",
      "Feature 19: diff_from_field_declared_wgt_avg\n",
      "Feature 20: field_dec_wgt_rank\n",
      "Feature 21: diff_from_field_handicap_wgt_avg\n",
      "Feature 22: field_handicap_wgt_rank\n",
      "Feature 23: career_races\n",
      "Feature 24: career_shows\n",
      "Feature 25: shows_in_last_5_races\n",
      "Feature 26: career_show_rate\n",
      "Feature 27: horse_type_Filly\n",
      "Feature 28: horse_type_Gelding\n",
      "Feature 29: horse_type_Horse\n",
      "Feature 30: horse_type_Mare\n",
      "Feature 31: horse_type_Rig\n"
     ]
    }
   ],
   "source": [
    "for i, feature in enumerate(columns_5, 1):\n",
    "    print(\"Feature {}: {}\".format(i, feature))"
   ]
  },
  {
   "cell_type": "markdown",
   "metadata": {},
   "source": [
    "## Running Baseline Models:"
   ]
  },
  {
   "cell_type": "markdown",
   "metadata": {},
   "source": [
    "All models with K-Fold cross validation w/ k=5 folds."
   ]
  },
  {
   "cell_type": "code",
   "execution_count": 72,
   "metadata": {},
   "outputs": [],
   "source": [
    "X = comb_training_horses_7_cleaned_po[columns_5]\n",
    "y = comb_training_horses_7_cleaned_po['show']"
   ]
  },
  {
   "cell_type": "code",
   "execution_count": 73,
   "metadata": {
    "scrolled": false
   },
   "outputs": [
    {
     "name": "stdout",
     "output_type": "stream",
     "text": [
      "Confusion Matrix for Fold 1\n",
      "[[8411  228]\n",
      " [2462  317]]\n",
      "\n",
      "\n",
      "Confusion Matrix for Fold 2\n",
      "[[8409  244]\n",
      " [2490  274]]\n",
      "\n",
      "\n",
      "Confusion Matrix for Fold 3\n",
      "[[8378  272]\n",
      " [2459  308]]\n",
      "\n",
      "\n",
      "Confusion Matrix for Fold 4\n",
      "[[8378  251]\n",
      " [2489  299]]\n",
      "\n",
      "\n",
      "Confusion Matrix for Fold 5\n",
      "[[8298  266]\n",
      " [2501  352]]\n",
      "\n",
      "\n",
      "KNN Classification w/ KFOLD CV Results (k=5):\n",
      "KNN Accuracy scores:  [0.7644070765458049, 0.7605325391959359, 0.7607953052465621, 0.7600070070946834, 0.757642112639047] \n",
      "\n",
      "Simple mean cv accuracy: 0.761 + 0.002 \n",
      "\n",
      "KNN Precision scores:  [0.581651376146789, 0.528957528957529, 0.5310344827586206, 0.5436363636363636, 0.56957928802589] \n",
      "\n",
      "Simple mean cv precision: 0.551 +- 0.021 \n",
      "\n",
      "KNN Recall scores:  [0.11406980928391508, 0.09913169319826338, 0.11131189013371882, 0.10724533715925394, 0.123378899404136] \n",
      "\n",
      "Simple mean cv recall: 0.111 +- 0.008 \n",
      "\n",
      "KNN Fbeta (beta=0.5) scores:  [0.3196208913087316, 0.28329197684036395, 0.30273245527816, 0.29971932638331994, 0.33051643192488256] \n",
      "\n",
      "Simple mean cv Fbeta (beta=0.5): 0.307 +- 0.016 \n",
      "\n",
      "KNN F1 scores:  [0.190734055354994, 0.16697135892748324, 0.18404541380340603, 0.1791491911324146, 0.20282339383462977] \n",
      "\n",
      "Simple mean cv F1: 0.185 +- 0.012 \n",
      "\n"
     ]
    }
   ],
   "source": [
    "knn = KNN_accuracy_scorer_f_fold(X, y, n = 41, k=5)"
   ]
  },
  {
   "cell_type": "code",
   "execution_count": 74,
   "metadata": {
    "scrolled": true
   },
   "outputs": [
    {
     "name": "stdout",
     "output_type": "stream",
     "text": [
      "Confusion Matrix for Fold 1\n",
      "[[8449  190]\n",
      " [2416  363]]\n",
      "\n",
      "\n",
      "Confusion Matrix for Fold 2\n",
      "[[8423  230]\n",
      " [2417  347]]\n",
      "\n",
      "\n",
      "Confusion Matrix for Fold 3\n",
      "[[8404  246]\n",
      " [2389  378]]\n",
      "\n",
      "\n",
      "Confusion Matrix for Fold 4\n",
      "[[8427  202]\n",
      " [2455  333]]\n",
      "\n",
      "\n",
      "Confusion Matrix for Fold 5\n",
      "[[8343  221]\n",
      " [2468  385]]\n",
      "\n",
      "\n",
      "Logistic Regression Classification w/ KFOLD CV Results (k=5):\n",
      "Log. Reg Accuracy scores:  [0.7717638815904712, 0.7681527546640974, 0.7692038188666024, 0.7672768678286765, 0.7644740299553298] \n",
      "\n",
      "Simple mean cv accuracy: 0.768 + 0.002 \n",
      "\n",
      "Log. Reg Precision scores:  [0.6564195298372514, 0.6013864818024264, 0.6057692307692307, 0.6224299065420561, 0.6353135313531353] \n",
      "\n",
      "Simple mean cv precision: 0.624 +- 0.020 \n",
      "\n",
      "Log. Reg Recall scores:  [0.13062252608852104, 0.12554269175108537, 0.1366100469822913, 0.11944045911047346, 0.13494567122327375] \n",
      "\n",
      "Simple mean cv recall: 0.129 +- 0.006 \n",
      "\n",
      "Log. Reg Fbeta (beta=0.5) scores:  [0.3636545782408335, 0.3420741324921135, 0.3591107733231997, 0.3378652597402597, 0.36479060072010616] \n",
      "\n",
      "Simple mean cv Fbeta (beta=0.5): 0.353 +- 0.011 \n",
      "\n",
      "Log. Reg F1 scores:  [0.21788715486194477, 0.20772223885064353, 0.22294308463580062, 0.20042130604875114, 0.22260769008383927] \n",
      "\n",
      "Simple mean cv F1: 0.214 +- 0.009 \n",
      "\n",
      "Log. Reg Log Loss scores:  [7.883009564604044, 8.007736272640582, 7.971434921744545, 8.037986371197213, 8.134794292453963] \n",
      "\n",
      "Simple mean cv log loss: 8.007 +- 0.082 \n",
      "\n"
     ]
    }
   ],
   "source": [
    "logreg = log_accuracy_scorer_k_fold(X, y, k=5, threshold=0.5, C=1)"
   ]
  },
  {
   "cell_type": "code",
   "execution_count": 75,
   "metadata": {
    "scrolled": true
   },
   "outputs": [
    {
     "name": "stdout",
     "output_type": "stream",
     "text": [
      "Confusion Matrix for Fold 1\n",
      "[[8203  436]\n",
      " [2043  736]]\n",
      "\n",
      "\n",
      "Confusion Matrix for Fold 2\n",
      "[[8132  521]\n",
      " [2122  642]]\n",
      "\n",
      "\n",
      "Confusion Matrix for Fold 3\n",
      "[[8138  512]\n",
      " [2089  678]]\n",
      "\n",
      "\n",
      "Confusion Matrix for Fold 4\n",
      "[[8152  477]\n",
      " [2103  685]]\n",
      "\n",
      "\n",
      "Confusion Matrix for Fold 5\n",
      "[[8039  525]\n",
      " [2137  716]]\n",
      "\n",
      "\n",
      "Random Forest Classification w/ KFOLD CV Results (k=5, threshold = 0.5):\n",
      "Random Forest Accuracy scores:  [0.7809598878963041, 0.7691162301830603, 0.7734080756766226, 0.7746343172462118, 0.7674520451957607] \n",
      "\n",
      "Simple mean cv accuracy: 0.773 + 0.005\n",
      "Random Forest Precision scores:  [0.6279863481228669, 0.5520206362854686, 0.5697478991596638, 0.5895008605851979, 0.5769540692989524] \n",
      "\n",
      "Simple mean cv precision: 0.583 +- 0.025\n",
      "Random Forest Recall scores:  [0.2648434688736956, 0.23227206946454415, 0.245030719190459, 0.2456958393113343, 0.2509638976515948] \n",
      "\n",
      "Simple mean cv recall: 0.248 +- 0.011\n",
      "Random Forest Fbeta (beta=0.5) scores:  [0.49283514128833533, 0.4328478964401295, 0.45037863690713426, 0.46059709521247977, 0.4579762057055137] \n",
      "\n",
      "Simple mean cv Fbeta (beta=0.5): 0.459 +- 0.020\n",
      "Random Forest F1 scores:  [0.372563907871425, 0.3269671504965623, 0.3426838514025777, 0.34683544303797464, 0.34978016609672696] \n",
      "\n",
      "Simple mean cv F1: 0.348 +- 0.015\n"
     ]
    }
   ],
   "source": [
    "rf_model = random_forest_eval_kfold(X,y, k=5)"
   ]
  },
  {
   "cell_type": "code",
   "execution_count": 76,
   "metadata": {
    "scrolled": true
   },
   "outputs": [
    {
     "name": "stdout",
     "output_type": "stream",
     "text": [
      "[11:05:45] WARNING: /Users/runner/miniforge3/conda-bld/xgboost_1607604592557/work/src/learner.cc:1061: Starting in XGBoost 1.3.0, the default evaluation metric used with the objective 'binary:logistic' was changed from 'error' to 'logloss'. Explicitly set eval_metric if you'd like to restore the old behavior.\n",
      "Confusion Matrix for Fold 1\n",
      "[[8266  373]\n",
      " [2097  682]]\n",
      "\n",
      "\n",
      "[11:05:53] WARNING: /Users/runner/miniforge3/conda-bld/xgboost_1607604592557/work/src/learner.cc:1061: Starting in XGBoost 1.3.0, the default evaluation metric used with the objective 'binary:logistic' was changed from 'error' to 'logloss'. Explicitly set eval_metric if you'd like to restore the old behavior.\n",
      "Confusion Matrix for Fold 2\n",
      "[[8157  496]\n",
      " [2106  658]]\n",
      "\n",
      "\n",
      "[11:06:01] WARNING: /Users/runner/miniforge3/conda-bld/xgboost_1607604592557/work/src/learner.cc:1061: Starting in XGBoost 1.3.0, the default evaluation metric used with the objective 'binary:logistic' was changed from 'error' to 'logloss'. Explicitly set eval_metric if you'd like to restore the old behavior.\n",
      "Confusion Matrix for Fold 3\n",
      "[[8199  451]\n",
      " [2099  668]]\n",
      "\n",
      "\n",
      "[11:06:10] WARNING: /Users/runner/miniforge3/conda-bld/xgboost_1607604592557/work/src/learner.cc:1061: Starting in XGBoost 1.3.0, the default evaluation metric used with the objective 'binary:logistic' was changed from 'error' to 'logloss'. Explicitly set eval_metric if you'd like to restore the old behavior.\n",
      "Confusion Matrix for Fold 4\n",
      "[[8226  403]\n",
      " [2145  643]]\n",
      "\n",
      "\n",
      "[11:06:18] WARNING: /Users/runner/miniforge3/conda-bld/xgboost_1607604592557/work/src/learner.cc:1061: Starting in XGBoost 1.3.0, the default evaluation metric used with the objective 'binary:logistic' was changed from 'error' to 'logloss'. Explicitly set eval_metric if you'd like to restore the old behavior.\n",
      "Confusion Matrix for Fold 5\n",
      "[[8108  456]\n",
      " [2169  684]]\n",
      "\n",
      "\n",
      "XGBoost Classification w/ KFOLD CV Results (k=5, threshold = 0.5):\n",
      "XG Boost Accuracy scores:  [0.7836748992818356, 0.7720942454234913, 0.7766488569676798, 0.776824034334764, 0.7700797057020233] \n",
      "\n",
      "Simple mean cv accuracy: 0.776 + 0.005\n",
      "XG Boost Precision scores:  [0.6464454976303318, 0.5701906412478336, 0.5969615728328865, 0.6147227533460803, 0.6] \n",
      "\n",
      "Simple mean cv precision: 0.606 +- 0.025\n",
      "XG Boost Recall scores:  [0.24541201871176682, 0.23806078147612156, 0.24141669678352007, 0.2306312769010043, 0.23974763406940064] \n",
      "\n",
      "Simple mean cv recall: 0.239 +- 0.005\n",
      "XG Boost Fbeta (beta=0.5) scores:  [0.4872124589227032, 0.44579945799457993, 0.4611348888582079, 0.4611302352266207, 0.46135167948199113] \n",
      "\n",
      "Simple mean cv Fbeta (beta=0.5): 0.463 +- 0.013\n",
      "XG Boost F1 scores:  [0.35576421491914456, 0.33588565594691167, 0.34379825012866705, 0.33541992696922274, 0.34259954921111946] \n",
      "\n",
      "Simple mean cv F1: 0.343 +- 0.007\n"
     ]
    }
   ],
   "source": [
    "xg_model = xgboost_eval_kfold(X,y, k=5, threshold = 0.5)"
   ]
  },
  {
   "cell_type": "markdown",
   "metadata": {},
   "source": [
    "Including the top 10 jockeys or trainers doesn't seem to be helping much.  Given XGBoost and Log. Reg. are workign the best, i'll be moving forward with those only."
   ]
  },
  {
   "cell_type": "markdown",
   "metadata": {},
   "source": [
    "Updating the table with these results:"
   ]
  },
  {
   "cell_type": "markdown",
   "metadata": {},
   "source": [
    "| Model Type              | Features     | Mean Precision Score |Mean FBeta (beta = 0.5 Score)|\n",
    "| ------------------------|--------------| ---------------------|-----------------------------|\n",
    "| KNN (n=41)              | columns_1    | .533 +- .012         | .272 +- .007                |\n",
    "| Logistic Regression     | columns_1    | .553 +- .025         | .307 +- .010                |\n",
    "| Random Forest (untuned) | columns_1    | .531 +- .008         | .326 +- .007                |\n",
    "| XGBoost (untuned)       | columns_1    | .578 +- .004         | .301 +- .007                |\n",
    "| KNN (n=41)              | columns_2*   | .540 +- .016         | .288 +- .011                |\n",
    "| Logistic Regression     | columns_2*   | .631 +- .026         | .318 +- .015                |\n",
    "| Random Forest (untuned) | columns_2*   | .579 +- .010         | .456 +- .008                |\n",
    "| XGBoost (untuned)       | columns_2*   | .604 +- .025         | .464 +- .013                |\n",
    "| KNN (n=41)              | columns_3**  | .551 +- .014         | .299 +- .014                |\n",
    "| Logistic Regression     | columns_3**  | .626 +- .025         | .317 +- .014                |\n",
    "| Random Forest (untuned) | columns_3**  | .575 +- .014         | .452 +- .012                |\n",
    "| XGBoost (untuned)       | columns_3**  | .606 +- .021         | .463 +- .012                |\n",
    "| KNN (n=41)              | columns_4*** | .538 +- .019         | .281 +- .011                |\n",
    "| Logistic Regression     | columns_4*** | .633 +- .024         | .314 +- .015                |\n",
    "| Random Forest (untuned) | columns_4*** | .578 +- .014         | .459 +- .012                |\n",
    "| XGBoost (untuned)       | columns_4*** | .607 +- .025         | .465 +- .016                |"
   ]
  },
  {
   "cell_type": "markdown",
   "metadata": {},
   "source": [
    "### Which Features have been most important?"
   ]
  },
  {
   "cell_type": "code",
   "execution_count": 84,
   "metadata": {},
   "outputs": [
    {
     "name": "stdout",
     "output_type": "stream",
     "text": [
      "Feature Importance for Logistic Regression:\n",
      "horse_age: -0.013554732715030925\n",
      "top_10_trainer: 0.04295403657570516\n",
      "top_10_jockey: 0.12714733695906025\n",
      "place_odds: -1.7284942270743875\n",
      "distance: -0.051305500945216916\n",
      "horses_in_field: -0.046447199663825586\n",
      "declared_weight: -0.053703891848211165\n",
      "actual_weight: 0.005653180559580668\n",
      "horse_rating: -0.020555791892582477\n",
      "draw: -0.07481654695277025\n",
      "three_race_rolling_avg_finish: -0.10660339047369043\n",
      "three_race_rolling_average_lengths: -0.014711707380763567\n",
      "three_race_rolling_average_time: 0.03450614584555795\n",
      "three_race_rolling_average_distance_per_time: 0.023824530709256574\n",
      "field_rating_rank: 0.06942001463345852\n",
      "diff_from_field_rating_avg: 0.02166598233990179\n",
      "field_age_rank: -0.012699850817787316\n",
      "diff_from_field_age_avg: 0.04740946931508338\n",
      "diff_from_field_declared_wgt_avg: 0.05361927344487128\n",
      "field_dec_wgt_rank: -0.045352983238975235\n",
      "diff_from_field_handicap_wgt_avg: -0.012868018654116076\n",
      "field_handicap_wgt_rank: 0.0015318121306843232\n",
      "career_races: 0.0075845726632164205\n",
      "career_shows: -0.15786073207565823\n",
      "shows_in_last_5_races: 0.04386293188079988\n",
      "career_show_rate: 0.12979192119864752\n",
      "horse_type_Filly: -0.0022274906202808423\n",
      "horse_type_Gelding: 0.03311764276361529\n",
      "horse_type_Horse: 0.03536767705599727\n",
      "horse_type_Mare: 0.008248847043160985\n",
      "horse_type_Rig: 0.010460794109437474\n"
     ]
    }
   ],
   "source": [
    "print('Feature Importance for Logistic Regression:')\n",
    "for i, column in enumerate(X.columns):\n",
    "    print('{}: {}'.format(column, logreg.coef_[0][i]))"
   ]
  },
  {
   "cell_type": "code",
   "execution_count": 85,
   "metadata": {},
   "outputs": [],
   "source": [
    "from numpy import loadtxt\n",
    "from xgboost import XGBClassifier\n",
    "from xgboost import plot_importance\n",
    "from matplotlib import pyplot"
   ]
  },
  {
   "cell_type": "code",
   "execution_count": 93,
   "metadata": {},
   "outputs": [
    {
     "name": "stdout",
     "output_type": "stream",
     "text": [
      "Features for XGBoost:\n",
      "f0: horse_age\n",
      "f1: top_10_trainer\n",
      "f2: top_10_jockey\n",
      "f3: place_odds\n",
      "f4: distance\n",
      "f5: horses_in_field\n",
      "f6: declared_weight\n",
      "f7: actual_weight\n",
      "f8: horse_rating\n",
      "f9: draw\n",
      "f10: three_race_rolling_avg_finish\n",
      "f11: three_race_rolling_average_lengths\n",
      "f12: three_race_rolling_average_time\n",
      "f13: three_race_rolling_average_distance_per_time\n",
      "f14: field_rating_rank\n",
      "f15: diff_from_field_rating_avg\n",
      "f16: field_age_rank\n",
      "f17: diff_from_field_age_avg\n",
      "f18: diff_from_field_declared_wgt_avg\n",
      "f19: field_dec_wgt_rank\n",
      "f20: diff_from_field_handicap_wgt_avg\n",
      "f21: field_handicap_wgt_rank\n",
      "f22: career_races\n",
      "f23: career_shows\n",
      "f24: shows_in_last_5_races\n",
      "f25: career_show_rate\n",
      "f26: horse_type_Filly\n",
      "f27: horse_type_Gelding\n",
      "f28: horse_type_Horse\n",
      "f29: horse_type_Mare\n",
      "f30: horse_type_Rig\n"
     ]
    }
   ],
   "source": [
    "xg_model.get_booster().feature_names\n",
    "print('Features for XGBoost:')\n",
    "for i, column in enumerate(X.columns):\n",
    "    print('{}: {}'.format(xg_model.get_booster().feature_names[i], column))"
   ]
  },
  {
   "cell_type": "code",
   "execution_count": 86,
   "metadata": {},
   "outputs": [
    {
     "data": {
      "image/png": "[encoded data removed]",
      "text/plain": [
       "<Figure size 648x432 with 1 Axes>"
      ]
     },
     "metadata": {
      "image/png": {
       "height": 395,
       "width": 561
      }
     },
     "output_type": "display_data"
    },
    {
     "data": {
      "image/png": "[encoded data removed]",
      "text/plain": [
       "<Figure size 648x432 with 1 Axes>"
      ]
     },
     "metadata": {
      "image/png": {
       "height": 395,
       "width": 658
      }
     },
     "output_type": "display_data"
    }
   ],
   "source": [
    "xgb.plot_importance(xg_model)\n",
    "xgb.plot_importance(xg_model, importance_type='gain');"
   ]
  },
  {
   "cell_type": "markdown",
   "metadata": {},
   "source": [
    "Place odds is by far the best on both."
   ]
  },
  {
   "cell_type": "markdown",
   "metadata": {},
   "source": [
    "### Trying Ensemble:"
   ]
  },
  {
   "cell_type": "code",
   "execution_count": 97,
   "metadata": {},
   "outputs": [],
   "source": [
    "from sklearn.ensemble import (RandomForestClassifier, ExtraTreesClassifier, VotingClassifier, \n",
    "                              AdaBoostClassifier, BaggingRegressor, StackingClassifier)"
   ]
  },
  {
   "cell_type": "code",
   "execution_count": 94,
   "metadata": {},
   "outputs": [],
   "source": [
    "X_train, X_val, y_train, y_val = train_test_split(X, y, test_size=0.2, random_state=5, stratify=y)"
   ]
  },
  {
   "cell_type": "code",
   "execution_count": 128,
   "metadata": {},
   "outputs": [],
   "source": [
    "model_list = [('lr',logreg),('xgb',xg_model)]"
   ]
  },
  {
   "cell_type": "markdown",
   "metadata": {},
   "source": [
    "Hard voting classifier:"
   ]
  },
  {
   "cell_type": "code",
   "execution_count": 129,
   "metadata": {},
   "outputs": [
    {
     "data": {
      "text/plain": [
       "VotingClassifier(estimators=[('lr', LogisticRegression(C=1)),\n",
       "                             ('xgb',\n",
       "                              XGBClassifier(base_score=0.5, booster='gbtree',\n",
       "                                            colsample_bylevel=1,\n",
       "                                            colsample_bynode=1,\n",
       "                                            colsample_bytree=1, gamma=0,\n",
       "                                            gpu_id=-1, importance_type='gain',\n",
       "                                            interaction_constraints='',\n",
       "                                            learning_rate=0.05,\n",
       "                                            max_delta_step=0, max_depth=6,\n",
       "                                            min_child_weight=3, missing=nan,\n",
       "                                            monotone_constraints='()',\n",
       "                                            n_estimators=100, n_jobs=4,\n",
       "                                            num_parallel_tree=1, random_state=0,\n",
       "                                            reg_alpha=0, reg_lambda=1,\n",
       "                                            scale_pos_weight=1, subsample=1,\n",
       "                                            tree_method='exact',\n",
       "                                            use_label_encoder=False,\n",
       "                                            validate_parameters=1,\n",
       "                                            verbosity=None))],\n",
       "                 n_jobs=-1)"
      ]
     },
     "execution_count": 129,
     "metadata": {},
     "output_type": "execute_result"
    }
   ],
   "source": [
    "voting_classifer = VotingClassifier(estimators=model_list,\n",
    "                                    voting='hard', # <-- sklearn calls this hard voting\n",
    "                                    n_jobs=-1)\n",
    "voting_classifer.fit(X_train, y_train)"
   ]
  },
  {
   "cell_type": "code",
   "execution_count": 130,
   "metadata": {},
   "outputs": [],
   "source": [
    "from sklearn.metrics import precision_score, recall_score, precision_recall_curve,f1_score, fbeta_score, auc"
   ]
  },
  {
   "cell_type": "code",
   "execution_count": 131,
   "metadata": {},
   "outputs": [],
   "source": [
    "y_pred = voting_classifer.predict(X_val)"
   ]
  },
  {
   "cell_type": "code",
   "execution_count": 132,
   "metadata": {},
   "outputs": [
    {
     "data": {
      "text/plain": [
       "0.766158696794535"
      ]
     },
     "execution_count": 132,
     "metadata": {},
     "output_type": "execute_result"
    }
   ],
   "source": [
    "voting_classifer.score(X_val, y_val)"
   ]
  },
  {
   "cell_type": "code",
   "execution_count": 133,
   "metadata": {},
   "outputs": [
    {
     "data": {
      "text/plain": [
       "0.7238805970149254"
      ]
     },
     "execution_count": 133,
     "metadata": {},
     "output_type": "execute_result"
    }
   ],
   "source": [
    "precision_score(y_val, y_pred)"
   ]
  },
  {
   "cell_type": "code",
   "execution_count": 134,
   "metadata": {},
   "outputs": [
    {
     "data": {
      "text/plain": [
       "0.25116519937856036"
      ]
     },
     "execution_count": 134,
     "metadata": {},
     "output_type": "execute_result"
    }
   ],
   "source": [
    "fbeta_score(y_val, y_pred, beta = 0.5)"
   ]
  },
  {
   "cell_type": "code",
   "execution_count": 135,
   "metadata": {},
   "outputs": [
    {
     "data": {
      "text/plain": [
       "array([[8554,   74],\n",
       "       [2596,  194]])"
      ]
     },
     "execution_count": 135,
     "metadata": {},
     "output_type": "execute_result"
    }
   ],
   "source": [
    "cm = confusion_matrix(y_val, y_pred)\n",
    "cm"
   ]
  },
  {
   "cell_type": "markdown",
   "metadata": {},
   "source": [
    "Soft voting classifier:"
   ]
  },
  {
   "cell_type": "code",
   "execution_count": 136,
   "metadata": {},
   "outputs": [
    {
     "data": {
      "text/plain": [
       "VotingClassifier(estimators=[('lr', LogisticRegression(C=1)),\n",
       "                             ('xgb',\n",
       "                              XGBClassifier(base_score=0.5, booster='gbtree',\n",
       "                                            colsample_bylevel=1,\n",
       "                                            colsample_bynode=1,\n",
       "                                            colsample_bytree=1, gamma=0,\n",
       "                                            gpu_id=-1, importance_type='gain',\n",
       "                                            interaction_constraints='',\n",
       "                                            learning_rate=0.05,\n",
       "                                            max_delta_step=0, max_depth=6,\n",
       "                                            min_child_weight=3, missing=nan,\n",
       "                                            monotone_constraints='()',\n",
       "                                            n_estimators=100, n_jobs=4,\n",
       "                                            num_parallel_tree=1, random_state=0,\n",
       "                                            reg_alpha=0, reg_lambda=1,\n",
       "                                            scale_pos_weight=1, subsample=1,\n",
       "                                            tree_method='exact',\n",
       "                                            use_label_encoder=False,\n",
       "                                            validate_parameters=1,\n",
       "                                            verbosity=None))],\n",
       "                 n_jobs=-1, voting='soft')"
      ]
     },
     "execution_count": 136,
     "metadata": {},
     "output_type": "execute_result"
    }
   ],
   "source": [
    "voting_classifer = VotingClassifier(estimators=model_list,\n",
    "                                    voting='soft', # <-- sklearn calls this hard voting\n",
    "                                    n_jobs=-1)\n",
    "voting_classifer.fit(X_train, y_train)"
   ]
  },
  {
   "cell_type": "code",
   "execution_count": 137,
   "metadata": {},
   "outputs": [],
   "source": [
    "from sklearn.metrics import precision_score, recall_score, precision_recall_curve,f1_score, fbeta_score, auc"
   ]
  },
  {
   "cell_type": "code",
   "execution_count": 138,
   "metadata": {},
   "outputs": [],
   "source": [
    "y_pred = voting_classifer.predict(X_val)"
   ]
  },
  {
   "cell_type": "code",
   "execution_count": 139,
   "metadata": {},
   "outputs": [
    {
     "data": {
      "text/plain": [
       "0.7751795410754948"
      ]
     },
     "execution_count": 139,
     "metadata": {},
     "output_type": "execute_result"
    }
   ],
   "source": [
    "voting_classifer.score(X_val, y_val)"
   ]
  },
  {
   "cell_type": "code",
   "execution_count": 140,
   "metadata": {},
   "outputs": [
    {
     "data": {
      "text/plain": [
       "0.6542185338865837"
      ]
     },
     "execution_count": 140,
     "metadata": {},
     "output_type": "execute_result"
    }
   ],
   "source": [
    "precision_score(y_val, y_pred)"
   ]
  },
  {
   "cell_type": "code",
   "execution_count": 141,
   "metadata": {},
   "outputs": [
    {
     "data": {
      "text/plain": [
       "0.4162266807462161"
      ]
     },
     "execution_count": 141,
     "metadata": {},
     "output_type": "execute_result"
    }
   ],
   "source": [
    "fbeta_score(y_val, y_pred, beta = 0.5)"
   ]
  },
  {
   "cell_type": "code",
   "execution_count": 142,
   "metadata": {},
   "outputs": [
    {
     "data": {
      "text/plain": [
       "array([[8378,  250],\n",
       "       [2317,  473]])"
      ]
     },
     "execution_count": 142,
     "metadata": {},
     "output_type": "execute_result"
    }
   ],
   "source": [
    "cm = confusion_matrix(y_val, y_pred)\n",
    "cm"
   ]
  },
  {
   "cell_type": "markdown",
   "metadata": {},
   "source": [
    "Stacked:"
   ]
  },
  {
   "cell_type": "code",
   "execution_count": 143,
   "metadata": {},
   "outputs": [],
   "source": [
    "stacked = StackingClassifier(\n",
    "    estimators=model_list, \n",
    "    final_estimator=logreg)"
   ]
  },
  {
   "cell_type": "code",
   "execution_count": 144,
   "metadata": {},
   "outputs": [
    {
     "name": "stderr",
     "output_type": "stream",
     "text": [
      "/Users/patrickbovard/opt/anaconda3/envs/metis/lib/python3.8/site-packages/sklearn/linear_model/_logistic.py:763: ConvergenceWarning: lbfgs failed to converge (status=1):\n",
      "STOP: TOTAL NO. of ITERATIONS REACHED LIMIT.\n",
      "\n",
      "Increase the number of iterations (max_iter) or scale the data as shown in:\n",
      "    https://scikit-learn.org/stable/modules/preprocessing.html\n",
      "Please also refer to the documentation for alternative solver options:\n",
      "    https://scikit-learn.org/stable/modules/linear_model.html#logistic-regression\n",
      "  n_iter_i = _check_optimize_result(\n"
     ]
    },
    {
     "name": "stdout",
     "output_type": "stream",
     "text": [
      "[11:33:14] WARNING: /Users/runner/miniforge3/conda-bld/xgboost_1607604592557/work/src/learner.cc:1061: Starting in XGBoost 1.3.0, the default evaluation metric used with the objective 'binary:logistic' was changed from 'error' to 'logloss'. Explicitly set eval_metric if you'd like to restore the old behavior.\n"
     ]
    },
    {
     "name": "stderr",
     "output_type": "stream",
     "text": [
      "/Users/patrickbovard/opt/anaconda3/envs/metis/lib/python3.8/site-packages/sklearn/linear_model/_logistic.py:763: ConvergenceWarning: lbfgs failed to converge (status=1):\n",
      "STOP: TOTAL NO. of ITERATIONS REACHED LIMIT.\n",
      "\n",
      "Increase the number of iterations (max_iter) or scale the data as shown in:\n",
      "    https://scikit-learn.org/stable/modules/preprocessing.html\n",
      "Please also refer to the documentation for alternative solver options:\n",
      "    https://scikit-learn.org/stable/modules/linear_model.html#logistic-regression\n",
      "  n_iter_i = _check_optimize_result(\n",
      "/Users/patrickbovard/opt/anaconda3/envs/metis/lib/python3.8/site-packages/sklearn/linear_model/_logistic.py:763: ConvergenceWarning: lbfgs failed to converge (status=1):\n",
      "STOP: TOTAL NO. of ITERATIONS REACHED LIMIT.\n",
      "\n",
      "Increase the number of iterations (max_iter) or scale the data as shown in:\n",
      "    https://scikit-learn.org/stable/modules/preprocessing.html\n",
      "Please also refer to the documentation for alternative solver options:\n",
      "    https://scikit-learn.org/stable/modules/linear_model.html#logistic-regression\n",
      "  n_iter_i = _check_optimize_result(\n",
      "/Users/patrickbovard/opt/anaconda3/envs/metis/lib/python3.8/site-packages/sklearn/linear_model/_logistic.py:763: ConvergenceWarning: lbfgs failed to converge (status=1):\n",
      "STOP: TOTAL NO. of ITERATIONS REACHED LIMIT.\n",
      "\n",
      "Increase the number of iterations (max_iter) or scale the data as shown in:\n",
      "    https://scikit-learn.org/stable/modules/preprocessing.html\n",
      "Please also refer to the documentation for alternative solver options:\n",
      "    https://scikit-learn.org/stable/modules/linear_model.html#logistic-regression\n",
      "  n_iter_i = _check_optimize_result(\n",
      "/Users/patrickbovard/opt/anaconda3/envs/metis/lib/python3.8/site-packages/sklearn/linear_model/_logistic.py:763: ConvergenceWarning: lbfgs failed to converge (status=1):\n",
      "STOP: TOTAL NO. of ITERATIONS REACHED LIMIT.\n",
      "\n",
      "Increase the number of iterations (max_iter) or scale the data as shown in:\n",
      "    https://scikit-learn.org/stable/modules/preprocessing.html\n",
      "Please also refer to the documentation for alternative solver options:\n",
      "    https://scikit-learn.org/stable/modules/linear_model.html#logistic-regression\n",
      "  n_iter_i = _check_optimize_result(\n",
      "/Users/patrickbovard/opt/anaconda3/envs/metis/lib/python3.8/site-packages/sklearn/linear_model/_logistic.py:763: ConvergenceWarning: lbfgs failed to converge (status=1):\n",
      "STOP: TOTAL NO. of ITERATIONS REACHED LIMIT.\n",
      "\n",
      "Increase the number of iterations (max_iter) or scale the data as shown in:\n",
      "    https://scikit-learn.org/stable/modules/preprocessing.html\n",
      "Please also refer to the documentation for alternative solver options:\n",
      "    https://scikit-learn.org/stable/modules/linear_model.html#logistic-regression\n",
      "  n_iter_i = _check_optimize_result(\n"
     ]
    },
    {
     "name": "stdout",
     "output_type": "stream",
     "text": [
      "[11:33:27] WARNING: /Users/runner/miniforge3/conda-bld/xgboost_1607604592557/work/src/learner.cc:1061: Starting in XGBoost 1.3.0, the default evaluation metric used with the objective 'binary:logistic' was changed from 'error' to 'logloss'. Explicitly set eval_metric if you'd like to restore the old behavior.\n",
      "[11:33:35] WARNING: /Users/runner/miniforge3/conda-bld/xgboost_1607604592557/work/src/learner.cc:1061: Starting in XGBoost 1.3.0, the default evaluation metric used with the objective 'binary:logistic' was changed from 'error' to 'logloss'. Explicitly set eval_metric if you'd like to restore the old behavior.\n",
      "[11:33:42] WARNING: /Users/runner/miniforge3/conda-bld/xgboost_1607604592557/work/src/learner.cc:1061: Starting in XGBoost 1.3.0, the default evaluation metric used with the objective 'binary:logistic' was changed from 'error' to 'logloss'. Explicitly set eval_metric if you'd like to restore the old behavior.\n",
      "[11:33:48] WARNING: /Users/runner/miniforge3/conda-bld/xgboost_1607604592557/work/src/learner.cc:1061: Starting in XGBoost 1.3.0, the default evaluation metric used with the objective 'binary:logistic' was changed from 'error' to 'logloss'. Explicitly set eval_metric if you'd like to restore the old behavior.\n",
      "[11:33:56] WARNING: /Users/runner/miniforge3/conda-bld/xgboost_1607604592557/work/src/learner.cc:1061: Starting in XGBoost 1.3.0, the default evaluation metric used with the objective 'binary:logistic' was changed from 'error' to 'logloss'. Explicitly set eval_metric if you'd like to restore the old behavior.\n"
     ]
    },
    {
     "data": {
      "text/plain": [
       "StackingClassifier(estimators=[('lr', LogisticRegression(C=1)),\n",
       "                               ('xgb',\n",
       "                                XGBClassifier(base_score=0.5, booster='gbtree',\n",
       "                                              colsample_bylevel=1,\n",
       "                                              colsample_bynode=1,\n",
       "                                              colsample_bytree=1, gamma=0,\n",
       "                                              gpu_id=-1, importance_type='gain',\n",
       "                                              interaction_constraints='',\n",
       "                                              learning_rate=0.05,\n",
       "                                              max_delta_step=0, max_depth=6,\n",
       "                                              min_child_weight=3, missing=nan,\n",
       "                                              monotone_constraints='()',\n",
       "                                              n_estimators=100, n_jobs=4,\n",
       "                                              num_parallel_tree=1,\n",
       "                                              random_state=0, reg_alpha=0,\n",
       "                                              reg_lambda=1, scale_pos_weight=1,\n",
       "                                              subsample=1, tree_method='exact',\n",
       "                                              use_label_encoder=False,\n",
       "                                              validate_parameters=1,\n",
       "                                              verbosity=None))],\n",
       "                   final_estimator=LogisticRegression(C=1))"
      ]
     },
     "execution_count": 144,
     "metadata": {},
     "output_type": "execute_result"
    }
   ],
   "source": [
    "stacked.fit(X_train, y_train)"
   ]
  },
  {
   "cell_type": "code",
   "execution_count": 155,
   "metadata": {},
   "outputs": [],
   "source": [
    "y_pred = stacked.predict(X_val)"
   ]
  },
  {
   "cell_type": "code",
   "execution_count": 156,
   "metadata": {},
   "outputs": [
    {
     "data": {
      "text/plain": [
       "0.7751795410754948"
      ]
     },
     "execution_count": 156,
     "metadata": {},
     "output_type": "execute_result"
    }
   ],
   "source": [
    "voting_classifer.score(X_val, y_val)"
   ]
  },
  {
   "cell_type": "code",
   "execution_count": 157,
   "metadata": {},
   "outputs": [
    {
     "data": {
      "text/plain": [
       "0.5791599353796446"
      ]
     },
     "execution_count": 157,
     "metadata": {},
     "output_type": "execute_result"
    }
   ],
   "source": [
    "precision_score(y_val, y_pred)"
   ]
  },
  {
   "cell_type": "code",
   "execution_count": 158,
   "metadata": {},
   "outputs": [
    {
     "data": {
      "text/plain": [
       "0.46305864117799017"
      ]
     },
     "execution_count": 158,
     "metadata": {},
     "output_type": "execute_result"
    }
   ],
   "source": [
    "fbeta_score(y_val, y_pred, beta = 0.5)"
   ]
  },
  {
   "cell_type": "code",
   "execution_count": 159,
   "metadata": {},
   "outputs": [
    {
     "data": {
      "text/plain": [
       "array([[8107,  521],\n",
       "       [2073,  717]])"
      ]
     },
     "execution_count": 159,
     "metadata": {},
     "output_type": "execute_result"
    }
   ],
   "source": [
    "cm = confusion_matrix(y_val, y_pred)\n",
    "cm"
   ]
  },
  {
   "cell_type": "markdown",
   "metadata": {},
   "source": [
    "## Payoff Calculator:"
   ]
  },
  {
   "cell_type": "markdown",
   "metadata": {},
   "source": [
    "In order to further evaluate these models in the context of my use-case (gambling), I am going to calculate the payout each of these would receive, to help me pick the best model to move forward with."
   ]
  },
  {
   "cell_type": "markdown",
   "metadata": {},
   "source": [
    "Functions that calculate are in payoff_calculator.py, using $100 per horse for each horse the model predicts to show:"
   ]
  },
  {
   "cell_type": "code",
   "execution_count": null,
   "metadata": {},
   "outputs": [],
   "source": [
    "from payoff_calculator import *"
   ]
  },
  {
   "cell_type": "markdown",
   "metadata": {},
   "source": [
    "Logistic Regression:"
   ]
  },
  {
   "cell_type": "code",
   "execution_count": null,
   "metadata": {},
   "outputs": [],
   "source": [
    "payoff_calculator_with_ss(logreg, comb_training_horses_4_cleaned, columns_1)"
   ]
  },
  {
   "cell_type": "markdown",
   "metadata": {},
   "source": [
    "KNN:"
   ]
  },
  {
   "cell_type": "code",
   "execution_count": null,
   "metadata": {},
   "outputs": [],
   "source": [
    "payoff_calculator_with_ss(knn, comb_training_horses_4_cleaned, columns_1)"
   ]
  },
  {
   "cell_type": "markdown",
   "metadata": {},
   "source": [
    "Random Forest:"
   ]
  },
  {
   "cell_type": "code",
   "execution_count": null,
   "metadata": {},
   "outputs": [],
   "source": [
    "payoff_calculator_without_ss(rf_model, comb_training_horses_4_cleaned, columns_1)"
   ]
  },
  {
   "cell_type": "markdown",
   "metadata": {},
   "source": [
    "XGBoost:"
   ]
  },
  {
   "cell_type": "code",
   "execution_count": null,
   "metadata": {},
   "outputs": [],
   "source": [
    "payoff_calculator_without_ss(xg_model, comb_training_horses_4_cleaned, columns_1)"
   ]
  }
 ],
 "metadata": {
  "kernelspec": {
   "display_name": "Python 3",
   "language": "python",
   "name": "python3"
  },
  "language_info": {
   "codemirror_mode": {
    "name": "ipython",
    "version": 3
   },
   "file_extension": ".py",
   "mimetype": "text/x-python",
   "name": "python",
   "nbconvert_exporter": "python",
   "pygments_lexer": "ipython3",
   "version": "3.8.6"
  }
 },
 "nbformat": 4,
 "nbformat_minor": 4
}
